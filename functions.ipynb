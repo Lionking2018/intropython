{
 "cells": [
  {
   "cell_type": "markdown",
   "metadata": {
    "slideshow": {
     "slide_type": "slide"
    }
   },
   "source": [
    "![Canoes](images/functions/canoes.jpg)\n",
    "\n",
    "Photo by [Fernando Bacheschi](https://unsplash.com/photos/LaDJmjzi_gA?utm_source=unsplash&utm_medium=referral&utm_content=creditCopyText) on [Unsplash](https://unsplash.com/search/photos/structure?utm_source=unsplash&utm_medium=referral&utm_content=creditCopyText)"
   ]
  },
  {
   "cell_type": "markdown",
   "metadata": {
    "slideshow": {
     "slide_type": "slide"
    }
   },
   "source": [
    "# Motivación\n",
    "\n",
    "En general en todo programa hay partes del código que es necesario ejecutar varias veces, normalmente con diferentes parámetros. Este código que se repite suele ser un buen candidato a convertirse en una función, de esta forma cada vez que necesitemos ejecutarlo, bastará con invocar a la función, evitando así tener que repetir el mismo códugo una y otra vez.\n",
    "\n",
    "Por ejemplo, si estamos haciendo un programa que me calcule la distancia óptima a la que debo sentarme para ver mis series favoritas de Netflix según el tamaño del televisor, tengo que tener en cuenta que este tamaño en los televisores se mide en pulgadas (diagonal), mientras que yo quiero saber la distancia a la que me tengo que sentar en metros. De esta forma, es previsible que este programa tenga que hacer varias conversiones de pulgadas a metros y viceversa. Una opción es que cada vez que necesite hacer una conversión, escriba el código necesario para llevarla a cabo, pero entonces tendría que repetir el mismo código varias veces. Una solución mejor es escribir una función que realice esta conversión, y llamar a esta función cada vez que necesite convertir las unidades.\n"
   ]
  },
  {
   "cell_type": "markdown",
   "metadata": {
    "slideshow": {
     "slide_type": "slide"
    }
   },
   "source": [
    "# Guión\n",
    "\n",
    "1. ¿Por qué usar funciones? Ventajas y desventajas\n",
    "2. Definir una función\n",
    "3. Parámetros y argumentos\n",
    "4. Módulos\n"
   ]
  },
  {
   "cell_type": "markdown",
   "metadata": {
    "slideshow": {
     "slide_type": "slide"
    }
   },
   "source": [
    "## Ventajas de usar funciones\n",
    "\n",
    "Para definir una función necesitamos:\n",
    "1. Evitar repetir el mismo código (menos código significa menos errores, más fácil de depurar, testear, etc.)\n",
    "2. Código estructurado, modular, etc.\n",
    "3. Código mucho más sencillo y legible\n",
    "4. Posibilidad de re-usar el código, compartirlo, etc.\n",
    "5. Abstracción\n",
    "\n",
    "## Desventajas de usar funciones\n",
    "En general hay muy pocas desventajas al usar las funciones. Evidentemente hay una pequeña pérdida de rendimiento (las funciones *inline* solucionan esto), pero queda de sobra compensado por todas las ventajas\n"
   ]
  },
  {
   "cell_type": "markdown",
   "metadata": {
    "slideshow": {
     "slide_type": "slide"
    }
   },
   "source": [
    "## Definiendo una función\n",
    "\n",
    "Para definir una función necesitamos:\n",
    "1. Para indicar que es una definición, usamos la palabra reservada **`def`**\n",
    "2. El nombre de la función (debe ser un identificador, con las mismas reglas de una variable. Este identificador se usará para luego llamar a la función)\n",
    "3. Entre paréntesis la lista de parámetros o argumentos\n",
    "4. `:` para indicar que empieza el bloque\n",
    "5. El bloque con el contenido de la función\n",
    "\n",
    "Nota: *función* vs *método*"
   ]
  },
  {
   "cell_type": "markdown",
   "metadata": {
    "slideshow": {
     "slide_type": "slide"
    }
   },
   "source": [
    "## Ejemplo\n",
    "\n",
    "Siguiendo con mi aplicación de favoritos de Netflix, estoy rellenando las fichas de varias películas y quiero que al mostrarlas se imprima un separador. Tengo el siguiente código:\n"
   ]
  },
  {
   "cell_type": "code",
   "execution_count": 12,
   "metadata": {},
   "outputs": [
    {
     "name": "stdout",
     "output_type": "stream",
     "text": [
      "Título: Muñeca rusa\n",
      "Número de temporadas: 1\n",
      "Año: 2019\n",
      "-----------------------\n",
      "\n",
      "\n",
      "=======================\n",
      "Título: Stranger Things \n",
      "Número de temporadas: 2\n",
      "Año: 2016\n",
      "-----------------------\n",
      "\n",
      "\n",
      "=======================\n",
      "Título: The Killing\n",
      "Número de temporadas: 4\n",
      "Año: 2011\n",
      "-----------------------\n",
      "\n",
      "\n",
      "=======================\n"
     ]
    }
   ],
   "source": [
    "print(\"Título: Muñeca rusa\")\n",
    "print(\"Número de temporadas: 1\")\n",
    "print(\"Año: 2019\")\n",
    "print(\"-----------------------\")\n",
    "print(\"\\n\")\n",
    "print(\"=======================\")\n",
    "print(\"Título: Stranger Things \")\n",
    "print(\"Número de temporadas: 2\")\n",
    "print(\"Año: 2016\")\n",
    "print(\"-----------------------\")\n",
    "print(\"\\n\")\n",
    "print(\"=======================\")\n",
    "print(\"Título: The Killing\")\n",
    "print(\"Número de temporadas: 4\")\n",
    "print(\"Año: 2011\")\n",
    "print(\"-----------------------\")\n",
    "print(\"\\n\")\n",
    "print(\"=======================\")\n"
   ]
  },
  {
   "cell_type": "markdown",
   "metadata": {
    "slideshow": {
     "slide_type": "slide"
    }
   },
   "source": [
    "Como vemos, estoy repitiendo el código que muestra el separador varias veces\n",
    "```python\n",
    "print(\"-----------------------\")\n",
    "print(\"\\n\")\n",
    "print(\"=======================\")\n",
    "```\n",
    "¿Cómo crearíamos una función para evitar tener que repetir este código?"
   ]
  },
  {
   "cell_type": "code",
   "execution_count": null,
   "metadata": {},
   "outputs": [],
   "source": []
  },
  {
   "cell_type": "markdown",
   "metadata": {
    "slideshow": {
     "slide_type": "slide"
    }
   },
   "source": [
    "## Parámetros y argumentos\n",
    "\n",
    "Si analizamos el ejemplo anterior, realmente seguimos repitiendo código, porque al imprimir la información de cada serie se está ejecutando prácticamente las mismas sentencias. La parte que informa de muestra la etiqueta para indicar si se trata del título, número de temporadas y año es igual para todas las series, sólo cambia el valor específico de ese dato para cada serie.\n",
    "\n",
    "Para lidiar con esta situación, las funciones aceptan parámetros, de modo que cuando llamemos a la función le podamos pasar diferentes valores (argumentos). Por ejemplo, veamos cómo hacer esto para el ejemplo anterior.\n",
    "\n",
    "Nota: *parámetros* vs *argumentos*"
   ]
  },
  {
   "cell_type": "code",
   "execution_count": null,
   "metadata": {},
   "outputs": [],
   "source": []
  },
  {
   "cell_type": "markdown",
   "metadata": {
    "slideshow": {
     "slide_type": "slide"
    }
   },
   "source": [
    "## Ejercicio\n",
    "\n",
    "Ahora vamos a hacer un \"conversor\" de puntuación numérica a una escala de valoración. Por ejemplo, podemos tomar como referencia la siguiente escala:\n",
    "- puntuacion entre 0 y 3 (ambos inclusive): serie muy mala\n",
    "- puntuacion entre 3 y 5: serie mala\n",
    "- puntuacion mayor o igual que 5 y menor que 7: serie pasable\n",
    "- puntuacion mayor o igual que 7 y menor que 9: serie buena\n",
    "- puntuacion entre 9 y 10 (ambos inclusive): obra maestra\n",
    "- cualquier otra puntuación: error, la puntuación no es correcta\n",
    "\n",
    "Se pide hacer una función que al pasarle un valor numérico de una puntuación, muestre un mensaje de acuerdo a la escala\n"
   ]
  },
  {
   "cell_type": "code",
   "execution_count": null,
   "metadata": {},
   "outputs": [],
   "source": []
  },
  {
   "cell_type": "markdown",
   "metadata": {
    "slideshow": {
     "slide_type": "slide"
    }
   },
   "source": [
    "## Retornando valores\n",
    "\n",
    "Una de las principales características de las funciones es que se pueden utilizar para realizar cálculos, y devolver un resultado. Para ello se usa la palabra reservada `return`.\n",
    "Para obtener este resultado, basta con asignar la función a la variable en el momento de invocarla. Por ejemplo:\n",
    "\n",
    "```python\n",
    "\n",
    "def suma(x, y):\n",
    "  return x + y\n",
    "  \n",
    "resultado = suma(a, b)\n",
    "```\n"
   ]
  },
  {
   "cell_type": "markdown",
   "metadata": {
    "slideshow": {
     "slide_type": "slide"
    }
   },
   "source": [
    "## Ejercicio\n",
    "\n",
    "Realizar una función que dada dos puntuaciones, devuelva la media de ambas."
   ]
  },
  {
   "cell_type": "code",
   "execution_count": null,
   "metadata": {},
   "outputs": [],
   "source": []
  },
  {
   "cell_type": "markdown",
   "metadata": {
    "slideshow": {
     "slide_type": "slide"
    }
   },
   "source": [
    "## Argumentos opcionales\n",
    "\n",
    "En algunos casos nos puede interesar no indicar uno o varios de los argumentos, y que la función use un valor por defecto (prefijado) para estos casos, es decir, que el argumento sea **opcional**. \n",
    "\n",
    "Por ejemplo, me puede interesar que por defecto la media de puntuaciones (ver el ejercicio anterior) se redondee al segundo decimal, pero que también tenga la posibilidad de especificar cuántos decimales quiero.\n",
    "\n",
    "Para ello, en la definición de la función podemos asignar un valor por defecto a los argumentos. Por ejemplo, para la función `media()` podría ser:\n",
    "\n",
    "```python\n",
    "def media(x, y, dec=2):\n",
    "  # ...\n",
    "  return resultado\n",
    "\n",
    "\n",
    "res1 = media(a, b)     # Resultado con valor por defecto (2 decimales)\n",
    "res2 = media(a, b, 5)  # Resultado con 5 decimales\n",
    "```\n",
    "\n",
    "Al trabajar con argumentos posicionales, hay que tener en cuenta que:\n",
    "- Los argumentos opcionales deben ir al final, después de los obligatorios (sin valor por defecto). Si hay argumentos bligatorios después de los opcionales, se producirá un error.\n",
    "- Si hay varios argumentos opcionales, estos se asignan por orden (**posicional**). Por ejemplo, en la siguiente función:\n",
    "\n",
    "```python\n",
    "def test(a, b, m=1, n=2, o=3, p=4, q=5)   # a y b son obligatorios; m, n, o, p, q son opcionales\n",
    "    # ...\n",
    "    \n",
    "test(1, 2, 3, 4)   # a=1, b=2, m=3, o=4 (el resto de argumentos toman el valor por defecto)\n",
    "```\n",
    "\n",
    "## Argumentos por nombre\n",
    "\n",
    "¿Qué pasa entonces si quiero indicar el argumento `q`, por ejemplo, pero no indicar los otros opcionales? Como la asignación es posicional, no podría...\n",
    "\n",
    "Para solventar este problema, python también permite indicar argumentos por su nombre (*keyword* o *named argument*). En este caso, podría indicarlo de la siguiente manera:\n",
    "\n",
    "```python\n",
    "test(a=1, b=2, q=3)   # a=1, b=2, q=3   (el resto de argumentos toman el valor por defecto)\n",
    "```\n",
    "\n",
    "Se puede especificar los argumentos por nombre ya sean opcionales y obligatorios, y como se indica el nombre, el orden es irrelevante. Por ejemplo, la siguiente llamada a la función tendría el mismo efecto que la anterior:\n",
    "\n",
    "```python\n",
    "test(q=3, b=2, a=1)   # a=1, b=2, q=3   (el resto de argumentos toman el valor por defecto)\n",
    "```\n",
    "\n",
    "Para saber el nombre de los argumentos, se puede usar `help()`\n",
    "\n",
    "```python\n",
    "help(test)\n",
    "\n",
    "Help on function test in module __main__:\n",
    "test(a, b, m=1, n=2, o=3, p=4, q=5)\n",
    "```"
   ]
  },
  {
   "cell_type": "markdown",
   "metadata": {
    "slideshow": {
     "slide_type": "slide"
    }
   },
   "source": [
    "## Ejercicio\n",
    "\n",
    "1. Cambiar la función `media()` para que acepte el número de decimales\n",
    "2. Pasar los argumentos a la función de forma posicional y por nombre\n",
    "\n",
    "Pista: se puede usar `round(x, n)` para redondear `x` con `n` decimales"
   ]
  },
  {
   "cell_type": "code",
   "execution_count": null,
   "metadata": {},
   "outputs": [],
   "source": []
  },
  {
   "cell_type": "markdown",
   "metadata": {
    "slideshow": {
     "slide_type": "slide"
    }
   },
   "source": [
    "## Para saber más sobre funciones\n",
    "\n",
    "Python brinda más opciones sobre argumentos y opciones, que no podemos abarcar dado el tiempo disponible y el caracter introductorio de este curso. Si estás interesado, puedes consultar:\n",
    "1. Argumentos variables (no se fija el número de argumentos, el usuario puede especificar todos los que quiera y la función los recibe como un vector de argumentos)\n",
    "2. Argumentos variables clave-valor (similar al caso anterior, pero se recibe un diccionario con el nombre del argumento y su valor)\n",
    "\n",
    "Por ejemplo:\n",
    "\n",
    "```python\n",
    "def test(oblig1, oblig2, opc1, opc2, *variables, **var_clave_valor):\n",
    "    # ...\n",
    "```\n",
    "\n",
    "También te puede interesar cómo documentar las funciones de forma adecuada para luego usar herramientas herramientas automáticas de documentación "
   ]
  },
  {
   "cell_type": "code",
   "execution_count": null,
   "metadata": {},
   "outputs": [],
   "source": []
  }
 ],
 "metadata": {
  "celltoolbar": "Slideshow",
  "kernelspec": {
   "display_name": "Python 3",
   "language": "python",
   "name": "python3"
  },
  "language_info": {
   "codemirror_mode": {
    "name": "ipython",
    "version": 3
   },
   "file_extension": ".py",
   "mimetype": "text/x-python",
   "name": "python",
   "nbconvert_exporter": "python",
   "pygments_lexer": "ipython3",
   "version": "3.7.1"
  }
 },
 "nbformat": 4,
 "nbformat_minor": 2
}
