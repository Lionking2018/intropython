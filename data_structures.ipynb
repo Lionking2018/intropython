{
 "cells": [
  {
   "cell_type": "markdown",
   "metadata": {
    "slideshow": {
     "slide_type": "slide"
    }
   },
   "source": [
    "![Bridge](images/data_structures/bridge.jpg)\n",
    "\n",
    "Photo by [Håkon Sataøen](https://unsplash.com/photos/Y_m-Dbrdj4g?utm_source=unsplash&utm_medium=referral&utm_content=creditCopyText) on [Unsplash](https://unsplash.com/search/photos/structure?utm_source=unsplash&utm_medium=referral&utm_content=creditCopyText)"
   ]
  },
  {
   "cell_type": "markdown",
   "metadata": {
    "slideshow": {
     "slide_type": "subslide"
    }
   },
   "source": [
    "# Motivación\n",
    "\n",
    "Las estructuras de datos son el siguiente paso natural a los tipos de datos. Necesitamos estructuras más \"complejas\" para poder representar información compuesta."
   ]
  },
  {
   "cell_type": "markdown",
   "metadata": {
    "slideshow": {
     "slide_type": "subslide"
    }
   },
   "source": [
    "# Guión\n",
    "\n",
    "1. Listas\n",
    "2. Tuplas\n",
    "3. Sentencias iterativas\n",
    "4. Diccionarios\n",
    "5. Conjuntos"
   ]
  },
  {
   "cell_type": "markdown",
   "metadata": {
    "slideshow": {
     "slide_type": "slide"
    }
   },
   "source": [
    "# Listas\n",
    "---"
   ]
  },
  {
   "cell_type": "markdown",
   "metadata": {
    "slideshow": {
     "slide_type": "subslide"
    }
   },
   "source": [
    "# Definición\n",
    "\n",
    "Una lista es una colección ordenada (**secuencia**) de elementos, a priori relacionados conceptualmente, pero no necesariamente de la misma naturaleza (tipo)."
   ]
  },
  {
   "cell_type": "markdown",
   "metadata": {
    "slideshow": {
     "slide_type": "-"
    }
   },
   "source": [
    "## Sintaxis\n",
    "\n",
    "Las listas en Python se definen utilizando corchetes `[` y `]` y separando sus elementos por comas `,`"
   ]
  },
  {
   "cell_type": "markdown",
   "metadata": {
    "slideshow": {
     "slide_type": "subslide"
    }
   },
   "source": [
    "## Ejemplo\n",
    "\n",
    "Supongamos que queremos guardar las 3 series que más nos gustan:"
   ]
  },
  {
   "cell_type": "code",
   "execution_count": 187,
   "metadata": {
    "slideshow": {
     "slide_type": "-"
    }
   },
   "outputs": [],
   "source": [
    "netflix_favs = ['The Umbrella Academy', 'Stranger Things', 'Black Mirror']"
   ]
  },
  {
   "cell_type": "markdown",
   "metadata": {
    "slideshow": {
     "slide_type": "-"
    }
   },
   "source": [
    "Dado que las listas son colecciones de objetos, es una buena práctica darles un **nombre plural**, que represente la generalidad de los elementos que almacena."
   ]
  },
  {
   "cell_type": "markdown",
   "metadata": {
    "slideshow": {
     "slide_type": "-"
    }
   },
   "source": [
    "> [PEP 8](https://www.python.org/dev/peps/pep-0008/) $\\Rightarrow$ Dejar un espacio después de cada coma."
   ]
  },
  {
   "cell_type": "markdown",
   "metadata": {
    "slideshow": {
     "slide_type": "subslide"
    }
   },
   "source": [
    "# Accediendo a cada elemento de una lista\n",
    "\n",
    "Cada elemento en una lista ocupa una posición determinada. Python se dice que es de **índice-0** de tal forma que el primer elemento de una secuencia (véase *strings*) empieza en 0.\n",
    "\n",
    "Para acceder al elemento que ocupa la posición $i$ tendremos que usar corchetes y la variable $i$, que se denomina el **índice** de la lista."
   ]
  },
  {
   "cell_type": "code",
   "execution_count": 188,
   "metadata": {
    "slideshow": {
     "slide_type": "-"
    }
   },
   "outputs": [
    {
     "data": {
      "text/plain": [
       "['The Umbrella Academy', 'Stranger Things', 'Black Mirror']"
      ]
     },
     "execution_count": 188,
     "metadata": {},
     "output_type": "execute_result"
    }
   ],
   "source": [
    "netflix_favs"
   ]
  },
  {
   "cell_type": "markdown",
   "metadata": {
    "slideshow": {
     "slide_type": "-"
    }
   },
   "source": [
    "![List anatomy](images/data_structures/list_anatomy.png)"
   ]
  },
  {
   "cell_type": "markdown",
   "metadata": {
    "slideshow": {
     "slide_type": "subslide"
    }
   },
   "source": [
    "![List anatomy](images/data_structures/list_anatomy_pa.png)"
   ]
  },
  {
   "cell_type": "code",
   "execution_count": 189,
   "metadata": {
    "slideshow": {
     "slide_type": "-"
    }
   },
   "outputs": [
    {
     "data": {
      "text/plain": [
       "'The Umbrella Academy'"
      ]
     },
     "execution_count": 189,
     "metadata": {},
     "output_type": "execute_result"
    }
   ],
   "source": [
    "netflix_favs[0]"
   ]
  },
  {
   "cell_type": "code",
   "execution_count": 190,
   "metadata": {
    "slideshow": {
     "slide_type": "-"
    }
   },
   "outputs": [
    {
     "data": {
      "text/plain": [
       "'Stranger Things'"
      ]
     },
     "execution_count": 190,
     "metadata": {},
     "output_type": "execute_result"
    }
   ],
   "source": [
    "netflix_favs[1]"
   ]
  },
  {
   "cell_type": "code",
   "execution_count": 191,
   "metadata": {
    "slideshow": {
     "slide_type": "-"
    }
   },
   "outputs": [
    {
     "data": {
      "text/plain": [
       "'Black Mirror'"
      ]
     },
     "execution_count": 191,
     "metadata": {},
     "output_type": "execute_result"
    }
   ],
   "source": [
    "netflix_favs[2]"
   ]
  },
  {
   "cell_type": "markdown",
   "metadata": {
    "slideshow": {
     "slide_type": "subslide"
    }
   },
   "source": [
    "![List anatomy](images/data_structures/list_anatomy_na.png)"
   ]
  },
  {
   "cell_type": "code",
   "execution_count": 192,
   "metadata": {
    "slideshow": {
     "slide_type": "-"
    }
   },
   "outputs": [
    {
     "data": {
      "text/plain": [
       "'Black Mirror'"
      ]
     },
     "execution_count": 192,
     "metadata": {},
     "output_type": "execute_result"
    }
   ],
   "source": [
    "netflix_favs[-1]"
   ]
  },
  {
   "cell_type": "code",
   "execution_count": 193,
   "metadata": {
    "slideshow": {
     "slide_type": "-"
    }
   },
   "outputs": [
    {
     "data": {
      "text/plain": [
       "'Stranger Things'"
      ]
     },
     "execution_count": 193,
     "metadata": {},
     "output_type": "execute_result"
    }
   ],
   "source": [
    "netflix_favs[-2]"
   ]
  },
  {
   "cell_type": "code",
   "execution_count": 194,
   "metadata": {
    "slideshow": {
     "slide_type": "-"
    }
   },
   "outputs": [
    {
     "data": {
      "text/plain": [
       "'The Umbrella Academy'"
      ]
     },
     "execution_count": 194,
     "metadata": {},
     "output_type": "execute_result"
    }
   ],
   "source": [
    "netflix_favs[-3]"
   ]
  },
  {
   "cell_type": "markdown",
   "metadata": {
    "slideshow": {
     "slide_type": "subslide"
    }
   },
   "source": [
    "# `IndexError`\n",
    "\n",
    "Si tratamos de acceder a un elemento que no existe en la lista, obtendremos un error (excepción) explicando que el índice está fuera de rango:"
   ]
  },
  {
   "cell_type": "code",
   "execution_count": 195,
   "metadata": {
    "scrolled": false,
    "slideshow": {
     "slide_type": "-"
    },
    "tags": [
     "raises-exception"
    ]
   },
   "outputs": [
    {
     "ename": "IndexError",
     "evalue": "list index out of range",
     "output_type": "error",
     "traceback": [
      "\u001b[0;31m---------------------------------------------------------------------------\u001b[0m",
      "\u001b[0;31mIndexError\u001b[0m                                Traceback (most recent call last)",
      "\u001b[0;32m<ipython-input-195-dc8448b444a1>\u001b[0m in \u001b[0;36m<module>\u001b[0;34m\u001b[0m\n\u001b[0;32m----> 1\u001b[0;31m \u001b[0mnetflix_favs\u001b[0m\u001b[0;34m[\u001b[0m\u001b[0;36m3\u001b[0m\u001b[0;34m]\u001b[0m\u001b[0;34m\u001b[0m\u001b[0m\n\u001b[0m",
      "\u001b[0;31mIndexError\u001b[0m: list index out of range"
     ]
    }
   ],
   "source": [
    "netflix_favs[3]"
   ]
  },
  {
   "cell_type": "markdown",
   "metadata": {
    "slideshow": {
     "slide_type": "-"
    }
   },
   "source": [
    "![Error](images/common/error.gif)"
   ]
  },
  {
   "cell_type": "markdown",
   "metadata": {
    "slideshow": {
     "slide_type": "subslide"
    }
   },
   "source": [
    "# Accediendo a todos los elementos de una lista\n",
    "\n",
    "Si quisiéramos imprimir nuestras series favoritas, no habría demasiado problema:"
   ]
  },
  {
   "cell_type": "code",
   "execution_count": 196,
   "metadata": {
    "slideshow": {
     "slide_type": "-"
    }
   },
   "outputs": [
    {
     "name": "stdout",
     "output_type": "stream",
     "text": [
      "The Umbrella Academy\n"
     ]
    }
   ],
   "source": [
    "print(netflix_favs[0])"
   ]
  },
  {
   "cell_type": "code",
   "execution_count": 197,
   "metadata": {
    "slideshow": {
     "slide_type": "-"
    }
   },
   "outputs": [
    {
     "name": "stdout",
     "output_type": "stream",
     "text": [
      "Stranger Things\n"
     ]
    }
   ],
   "source": [
    "print(netflix_favs[1])"
   ]
  },
  {
   "cell_type": "code",
   "execution_count": 198,
   "metadata": {
    "slideshow": {
     "slide_type": "-"
    }
   },
   "outputs": [
    {
     "name": "stdout",
     "output_type": "stream",
     "text": [
      "Black Mirror\n"
     ]
    }
   ],
   "source": [
    "print(netflix_favs[2])"
   ]
  },
  {
   "cell_type": "markdown",
   "metadata": {
    "slideshow": {
     "slide_type": "subslide"
    }
   },
   "source": [
    "Pero ahora imaginemos que, después de varios años de uso de Netflix, ya tenemos cientos de series almacenadas en nuestro *Netflix-favs*. No tendría ningún sentido estar escribiendo cientos de *print* para mostrarlas.\n",
    "\n",
    "Para solucionar esto existen las **sentencias iterativas**, y en concreto, el **bucle for**:"
   ]
  },
  {
   "cell_type": "code",
   "execution_count": 199,
   "metadata": {
    "slideshow": {
     "slide_type": "-"
    }
   },
   "outputs": [
    {
     "name": "stdout",
     "output_type": "stream",
     "text": [
      "The Umbrella Academy\n",
      "Stranger Things\n",
      "Black Mirror\n"
     ]
    }
   ],
   "source": [
    "for serie in netflix_favs:\n",
    "    print(serie)"
   ]
  },
  {
   "cell_type": "markdown",
   "metadata": {
    "slideshow": {
     "slide_type": "-"
    }
   },
   "source": [
    "- La palabra clave `for` indica que se va a empezar un bucle.\n",
    "- La variable *serie* es una variable temporal que va tomando los elementos de la lista en cada *iteración* del bucle.\n",
    "    - En la primera iteración el valor de la variable *serie* es `'The Umbrella Academy'`\n",
    "    - En la segunda iteración el valor de la variable *serie* es `'Stranger Things'`.\n",
    "    - En la tercera iteración el valor de la variable *serie* es `'Black Mirror'`.\n",
    "- Después de esto no hay más elementos en `netflix_favs` y por lo tanto, el bucle termina."
   ]
  },
  {
   "cell_type": "markdown",
   "metadata": {
    "slideshow": {
     "slide_type": "subslide"
    }
   },
   "source": [
    "# Haciendo más cosas en cada iteración\n",
    "\n",
    "No estamos limitados a imprimir únicamente el valor de una variable dentro de un bucle. Podemos hacer mucho más que eso:"
   ]
  },
  {
   "cell_type": "code",
   "execution_count": 200,
   "metadata": {
    "slideshow": {
     "slide_type": "-"
    }
   },
   "outputs": [
    {
     "name": "stdout",
     "output_type": "stream",
     "text": [
      "Me gusta --> The Umbrella Academy\n",
      "Me gusta --> Stranger Things\n",
      "Me gusta --> Black Mirror\n"
     ]
    }
   ],
   "source": [
    "for serie in netflix_favs:\n",
    "    print(f'Me gusta --> {serie}')"
   ]
  },
  {
   "cell_type": "markdown",
   "metadata": {
    "slideshow": {
     "slide_type": "subslide"
    }
   },
   "source": [
    "# Controlando el contexto del bucle\n",
    "\n",
    "Python usa la **indentación** como mecanismo para indicar los bloques que están dentro de otros:"
   ]
  },
  {
   "cell_type": "code",
   "execution_count": 201,
   "metadata": {
    "slideshow": {
     "slide_type": "-"
    }
   },
   "outputs": [
    {
     "name": "stdout",
     "output_type": "stream",
     "text": [
      "Aquí van mis series favoritas de Netflix:\n",
      "Me gusta:\n",
      "The Umbrella Academy\n",
      "Me gusta:\n",
      "Stranger Things\n",
      "Me gusta:\n",
      "Black Mirror\n",
      "Y eso es todo amigxs!\n"
     ]
    }
   ],
   "source": [
    "print('Aquí van mis series favoritas de Netflix:')\n",
    "for serie in netflix_favs:\n",
    "    print('Me gusta:')\n",
    "    print(serie)\n",
    "print('Y eso es todo amigxs!')"
   ]
  },
  {
   "cell_type": "markdown",
   "metadata": {
    "slideshow": {
     "slide_type": "-"
    }
   },
   "source": [
    "> [PEP 8](https://www.python.org/dev/peps/pep-0008/) $\\Rightarrow$ Se recomienda usar **1 tabulador $\\approx$ 4 espacios** para indentar los bloques de código."
   ]
  },
  {
   "cell_type": "markdown",
   "metadata": {
    "slideshow": {
     "slide_type": "subslide"
    }
   },
   "source": [
    "# Enumerando una lista"
   ]
  },
  {
   "cell_type": "markdown",
   "metadata": {
    "slideshow": {
     "slide_type": "-"
    }
   },
   "source": [
    "Al iterar sobre una lista es posible querer conocer el índice del elemento actual. La función `enumerate` nos proporciona precisamente esto:"
   ]
  },
  {
   "cell_type": "code",
   "execution_count": 202,
   "metadata": {
    "slideshow": {
     "slide_type": "-"
    }
   },
   "outputs": [
    {
     "name": "stdout",
     "output_type": "stream",
     "text": [
      "Aquí van mis series favoritas de Netflix por orden de preferencia:\n",
      "1: The Umbrella Academy\n",
      "2: Stranger Things\n",
      "3: Black Mirror\n"
     ]
    }
   ],
   "source": [
    "print('Aquí van mis series favoritas de Netflix por orden de preferencia:')\n",
    "for i, serie in enumerate(netflix_favs):\n",
    "    position = i + 1\n",
    "    print(f'{position}: {serie}')"
   ]
  },
  {
   "cell_type": "markdown",
   "metadata": {
    "slideshow": {
     "slide_type": "-"
    }
   },
   "source": [
    "- La variable `i` toma los índices ($0, 1, 2, \\ldots$), mientras que la variable `serie` toma los elementos de la lista.\n",
    "- Como siempre, el índice empieza en 0. Esto hay que tenerlo en cuenta."
   ]
  },
  {
   "cell_type": "markdown",
   "metadata": {
    "slideshow": {
     "slide_type": "subslide"
    }
   },
   "source": [
    "# Controlando el flujo del bucle\n",
    "\n",
    "Python permite usar dos palabras clave dentro de un bucle para controlar su flujo: **break** y **continue**.\n",
    "\n",
    "## `break`\n",
    "\n",
    "Se usa para romper inmediatamente el bucle y salir:\n",
    "\n",
    "![break](images/data_structures/break.png)"
   ]
  },
  {
   "cell_type": "markdown",
   "metadata": {
    "slideshow": {
     "slide_type": "subslide"
    }
   },
   "source": [
    "## `continue`\n",
    "\n",
    "Se usa para saltar la iteración actual y continuar a la siguiente:\n",
    "\n",
    "![continue](images/data_structures/continue.png)"
   ]
  },
  {
   "cell_type": "markdown",
   "metadata": {
    "slideshow": {
     "slide_type": "subslide"
    }
   },
   "source": [
    "# Operaciones comunes en listas\n",
    "\n",
    "## Modificando elementos de una lista\n",
    "\n",
    "Supongamos que tus gustos han cambiado, y que ahora te gusta más *The Crown* que *The Umbrella Academy*. Podemos modificar este elemento de la lista de la siguiente forma:"
   ]
  },
  {
   "cell_type": "code",
   "execution_count": 203,
   "metadata": {
    "slideshow": {
     "slide_type": "-"
    }
   },
   "outputs": [
    {
     "data": {
      "text/plain": [
       "['The Crown', 'Stranger Things', 'Black Mirror']"
      ]
     },
     "execution_count": 203,
     "metadata": {},
     "output_type": "execute_result"
    }
   ],
   "source": [
    "netflix_favs[0] = 'The Crown'\n",
    "netflix_favs"
   ]
  },
  {
   "cell_type": "markdown",
   "metadata": {
    "slideshow": {
     "slide_type": "-"
    }
   },
   "source": [
    "> Para modificar un elemento de una lista debemos acceder mediante su índice."
   ]
  },
  {
   "cell_type": "markdown",
   "metadata": {
    "slideshow": {
     "slide_type": "subslide"
    }
   },
   "source": [
    "# Encontrando un elemento en una lista\n",
    "\n",
    "Sé cuáles son mis series favoritas, pero no recuerdo exactamente qué posición ocupa *Black Mirror* dentro de mi *Netflix-favs*. Puedo encontrar un elemento de una lista de la siguiente forma:"
   ]
  },
  {
   "cell_type": "code",
   "execution_count": 204,
   "metadata": {
    "slideshow": {
     "slide_type": "-"
    }
   },
   "outputs": [
    {
     "data": {
      "text/plain": [
       "['The Crown', 'Stranger Things', 'Black Mirror']"
      ]
     },
     "execution_count": 204,
     "metadata": {},
     "output_type": "execute_result"
    }
   ],
   "source": [
    "netflix_favs"
   ]
  },
  {
   "cell_type": "code",
   "execution_count": 205,
   "metadata": {
    "slideshow": {
     "slide_type": "-"
    }
   },
   "outputs": [
    {
     "data": {
      "text/plain": [
       "2"
      ]
     },
     "execution_count": 205,
     "metadata": {},
     "output_type": "execute_result"
    }
   ],
   "source": [
    "netflix_favs.index('Black Mirror')"
   ]
  },
  {
   "cell_type": "markdown",
   "metadata": {
    "slideshow": {
     "slide_type": "-"
    }
   },
   "source": [
    "> Como siempre, recordar que Python es **índice-0**, con lo cual *Black Mirror* ocuparía la tercera posición ($2 + 1$)"
   ]
  },
  {
   "cell_type": "markdown",
   "metadata": {
    "slideshow": {
     "slide_type": "subslide"
    }
   },
   "source": [
    "# `ValueError`"
   ]
  },
  {
   "cell_type": "markdown",
   "metadata": {
    "slideshow": {
     "slide_type": "-"
    }
   },
   "source": [
    "Un momento, yo recuerdo que en algún momento me gustó *The Umbrella Academy*, vamos a buscarla en nuestro *Netflix-favs*:"
   ]
  },
  {
   "cell_type": "code",
   "execution_count": 206,
   "metadata": {
    "slideshow": {
     "slide_type": "-"
    },
    "tags": [
     "raises-exception"
    ]
   },
   "outputs": [
    {
     "ename": "ValueError",
     "evalue": "'The Umbrella Academy' is not in list",
     "output_type": "error",
     "traceback": [
      "\u001b[0;31m---------------------------------------------------------------------------\u001b[0m",
      "\u001b[0;31mValueError\u001b[0m                                Traceback (most recent call last)",
      "\u001b[0;32m<ipython-input-206-99fba6eddb89>\u001b[0m in \u001b[0;36m<module>\u001b[0;34m\u001b[0m\n\u001b[0;32m----> 1\u001b[0;31m \u001b[0mnetflix_favs\u001b[0m\u001b[0;34m.\u001b[0m\u001b[0mindex\u001b[0m\u001b[0;34m(\u001b[0m\u001b[0;34m'The Umbrella Academy'\u001b[0m\u001b[0;34m)\u001b[0m\u001b[0;34m\u001b[0m\u001b[0m\n\u001b[0m",
      "\u001b[0;31mValueError\u001b[0m: 'The Umbrella Academy' is not in list"
     ]
    }
   ],
   "source": [
    "netflix_favs.index('The Umbrella Academy')"
   ]
  },
  {
   "cell_type": "markdown",
   "metadata": {
    "slideshow": {
     "slide_type": "-"
    }
   },
   "source": [
    "Cuando el elemento que buscamos no existe en nuestra lista, Python nos devuelve una excepción de tipo `ValueError`.\n",
    "![Error](images/common/error.gif)"
   ]
  },
  {
   "cell_type": "markdown",
   "metadata": {
    "slideshow": {
     "slide_type": "subslide"
    }
   },
   "source": [
    "# Comprobando si un elemento está en una lista\n",
    "\n",
    "Supongamos que quiero saber si *Mindhunter* está dentro de mis series favoritas:"
   ]
  },
  {
   "cell_type": "code",
   "execution_count": 207,
   "metadata": {
    "slideshow": {
     "slide_type": "-"
    }
   },
   "outputs": [
    {
     "data": {
      "text/plain": [
       "['The Crown', 'Stranger Things', 'Black Mirror']"
      ]
     },
     "execution_count": 207,
     "metadata": {},
     "output_type": "execute_result"
    }
   ],
   "source": [
    "netflix_favs"
   ]
  },
  {
   "cell_type": "code",
   "execution_count": 208,
   "metadata": {
    "slideshow": {
     "slide_type": "-"
    }
   },
   "outputs": [
    {
     "data": {
      "text/plain": [
       "False"
      ]
     },
     "execution_count": 208,
     "metadata": {},
     "output_type": "execute_result"
    }
   ],
   "source": [
    "'Mindhunter' in netflix_favs"
   ]
  },
  {
   "cell_type": "code",
   "execution_count": 209,
   "metadata": {
    "slideshow": {
     "slide_type": "-"
    }
   },
   "outputs": [
    {
     "data": {
      "text/plain": [
       "True"
      ]
     },
     "execution_count": 209,
     "metadata": {},
     "output_type": "execute_result"
    }
   ],
   "source": [
    "'Stranger Things' in netflix_favs"
   ]
  },
  {
   "cell_type": "markdown",
   "metadata": {
    "slideshow": {
     "slide_type": "-"
    }
   },
   "source": [
    "Utilizando el operador `in` podemos comprobar si un elemento pertenece a una lista."
   ]
  },
  {
   "cell_type": "markdown",
   "metadata": {
    "slideshow": {
     "slide_type": "subslide"
    }
   },
   "source": [
    "# Añadiendo elementos al final de una lista\n",
    "\n",
    "Acabo de descubrir *House of Cards* y me parece una serie de culto. No cabe duda de que voy a añadirla a mis series favoritas de Netflix:"
   ]
  },
  {
   "cell_type": "code",
   "execution_count": 210,
   "metadata": {
    "slideshow": {
     "slide_type": "-"
    }
   },
   "outputs": [
    {
     "data": {
      "text/plain": [
       "['The Crown', 'Stranger Things', 'Black Mirror', 'House of Cards']"
      ]
     },
     "execution_count": 210,
     "metadata": {},
     "output_type": "execute_result"
    }
   ],
   "source": [
    "netflix_favs.append('House of Cards')\n",
    "netflix_favs"
   ]
  },
  {
   "cell_type": "markdown",
   "metadata": {
    "slideshow": {
     "slide_type": "-"
    }
   },
   "source": [
    "El método `append` nos permite añadir elementos al final de una lista."
   ]
  },
  {
   "cell_type": "markdown",
   "metadata": {
    "slideshow": {
     "slide_type": "subslide"
    }
   },
   "source": [
    "# Insertando elementos en una lista\n",
    "\n",
    "Supongamos que he visto recientemente *Jessica Jones* y me ha gustado mucho. De hecho, la quiero incluir en mi *Netflix-favs*.\n",
    "\n",
    "Me gusta más que *Stranger Things* pero menos que *The Crown*. Así que la voy a insertar en medio:"
   ]
  },
  {
   "cell_type": "code",
   "execution_count": 211,
   "metadata": {
    "slideshow": {
     "slide_type": "-"
    }
   },
   "outputs": [
    {
     "data": {
      "text/plain": [
       "['The Crown', 'Stranger Things', 'Black Mirror', 'House of Cards']"
      ]
     },
     "execution_count": 211,
     "metadata": {},
     "output_type": "execute_result"
    }
   ],
   "source": [
    "netflix_favs"
   ]
  },
  {
   "cell_type": "code",
   "execution_count": 212,
   "metadata": {
    "slideshow": {
     "slide_type": "-"
    }
   },
   "outputs": [
    {
     "data": {
      "text/plain": [
       "['The Crown',\n",
       " 'Jessica Jones',\n",
       " 'Stranger Things',\n",
       " 'Black Mirror',\n",
       " 'House of Cards']"
      ]
     },
     "execution_count": 212,
     "metadata": {},
     "output_type": "execute_result"
    }
   ],
   "source": [
    "netflix_favs.insert(1, 'Jessica Jones')\n",
    "netflix_favs"
   ]
  },
  {
   "cell_type": "markdown",
   "metadata": {
    "slideshow": {
     "slide_type": "-"
    }
   },
   "source": [
    "Podemos usar el método `insert` indicando la posición (índice), a la izquierda de la cual se insertará el elemento que queramos."
   ]
  },
  {
   "cell_type": "markdown",
   "metadata": {
    "slideshow": {
     "slide_type": "subslide"
    }
   },
   "source": [
    "# Creando una lista vacía"
   ]
  },
  {
   "cell_type": "markdown",
   "metadata": {
    "slideshow": {
     "slide_type": "-"
    }
   },
   "source": [
    "Hasta ahora hemos partido de una lista creada desde el principio con elementos. Pero volvamos al pasado, a cuando empezamos a ver series en Netflix. En ese momento no teníamos aún ninguna serie favorita. Por lo tanto:"
   ]
  },
  {
   "cell_type": "code",
   "execution_count": 213,
   "metadata": {
    "scrolled": true,
    "slideshow": {
     "slide_type": "-"
    }
   },
   "outputs": [
    {
     "name": "stdout",
     "output_type": "stream",
     "text": [
      "Me gusta: Stranger Things\n",
      "Me gusta: House of Cards\n",
      "Me gusta: Jessica Jones\n"
     ]
    }
   ],
   "source": [
    "# Crea una lista vacía de nuestras series favoritas en Netflix\n",
    "netflix_favs = []\n",
    "\n",
    "netflix_favs.append('Stranger Things')\n",
    "netflix_favs.append('House of Cards')\n",
    "netflix_favs.append('Jessica Jones')\n",
    "\n",
    "for serie in netflix_favs:\n",
    "    print(f'Me gusta: {serie}')"
   ]
  },
  {
   "cell_type": "markdown",
   "metadata": {
    "slideshow": {
     "slide_type": "subslide"
    }
   },
   "source": [
    "# Ordenando una lista\n",
    "\n",
    "Podemos ordenar una lista alfabéticamente, en cualquier orden:"
   ]
  },
  {
   "cell_type": "code",
   "execution_count": 214,
   "metadata": {
    "slideshow": {
     "slide_type": "-"
    }
   },
   "outputs": [
    {
     "data": {
      "text/plain": [
       "['Stranger Things', 'House of Cards', 'Jessica Jones']"
      ]
     },
     "execution_count": 214,
     "metadata": {},
     "output_type": "execute_result"
    }
   ],
   "source": [
    "netflix_favs"
   ]
  },
  {
   "cell_type": "code",
   "execution_count": 215,
   "metadata": {
    "slideshow": {
     "slide_type": "-"
    }
   },
   "outputs": [
    {
     "name": "stdout",
     "output_type": "stream",
     "text": [
      "House of Cards\n",
      "Jessica Jones\n",
      "Stranger Things\n"
     ]
    }
   ],
   "source": [
    "for serie in sorted(netflix_favs):\n",
    "    print(serie)"
   ]
  },
  {
   "cell_type": "code",
   "execution_count": 216,
   "metadata": {
    "slideshow": {
     "slide_type": "-"
    }
   },
   "outputs": [
    {
     "name": "stdout",
     "output_type": "stream",
     "text": [
      "Stranger Things\n",
      "Jessica Jones\n",
      "House of Cards\n"
     ]
    }
   ],
   "source": [
    "for serie in sorted(netflix_favs, reverse=True):\n",
    "    print(serie)"
   ]
  },
  {
   "cell_type": "code",
   "execution_count": 217,
   "metadata": {
    "slideshow": {
     "slide_type": "-"
    }
   },
   "outputs": [
    {
     "data": {
      "text/plain": [
       "['Stranger Things', 'House of Cards', 'Jessica Jones']"
      ]
     },
     "execution_count": 217,
     "metadata": {},
     "output_type": "execute_result"
    }
   ],
   "source": [
    "netflix_favs"
   ]
  },
  {
   "cell_type": "markdown",
   "metadata": {
    "slideshow": {
     "slide_type": "subslide"
    }
   },
   "source": [
    "## Ordenando con modificación de la lista\n",
    "\n",
    "Si utilizamos el método `sort()` estaremos modificando el orden de la lista original:"
   ]
  },
  {
   "cell_type": "code",
   "execution_count": 218,
   "metadata": {
    "slideshow": {
     "slide_type": "-"
    }
   },
   "outputs": [
    {
     "data": {
      "text/plain": [
       "['Stranger Things', 'House of Cards', 'Jessica Jones']"
      ]
     },
     "execution_count": 218,
     "metadata": {},
     "output_type": "execute_result"
    }
   ],
   "source": [
    "netflix_favs"
   ]
  },
  {
   "cell_type": "code",
   "execution_count": 219,
   "metadata": {
    "slideshow": {
     "slide_type": "-"
    }
   },
   "outputs": [],
   "source": [
    "netflix_favs.sort()"
   ]
  },
  {
   "cell_type": "code",
   "execution_count": 220,
   "metadata": {},
   "outputs": [
    {
     "data": {
      "text/plain": [
       "['House of Cards', 'Jessica Jones', 'Stranger Things']"
      ]
     },
     "execution_count": 220,
     "metadata": {},
     "output_type": "execute_result"
    }
   ],
   "source": [
    "netflix_favs"
   ]
  },
  {
   "cell_type": "markdown",
   "metadata": {
    "slideshow": {
     "slide_type": "subslide"
    }
   },
   "source": [
    "# Invirtiendo los elementos de una lista\n",
    "\n",
    "Supongamos que queremos modificar nuestro orden de preferencia de las series que más nos gustan. Podemos hacerlo de la siguiente manera:"
   ]
  },
  {
   "cell_type": "code",
   "execution_count": 221,
   "metadata": {
    "slideshow": {
     "slide_type": "-"
    }
   },
   "outputs": [
    {
     "data": {
      "text/plain": [
       "['House of Cards', 'Jessica Jones', 'Stranger Things']"
      ]
     },
     "execution_count": 221,
     "metadata": {},
     "output_type": "execute_result"
    }
   ],
   "source": [
    "netflix_favs"
   ]
  },
  {
   "cell_type": "code",
   "execution_count": 222,
   "metadata": {},
   "outputs": [],
   "source": [
    "netflix_favs.reverse()"
   ]
  },
  {
   "cell_type": "code",
   "execution_count": 223,
   "metadata": {},
   "outputs": [
    {
     "data": {
      "text/plain": [
       "['Stranger Things', 'Jessica Jones', 'House of Cards']"
      ]
     },
     "execution_count": 223,
     "metadata": {},
     "output_type": "execute_result"
    }
   ],
   "source": [
    "netflix_favs"
   ]
  },
  {
   "cell_type": "markdown",
   "metadata": {},
   "source": [
    "> Nótese que `reverse()` es un método con *cambios permanentes* que modifica el orden original de la lista."
   ]
  },
  {
   "cell_type": "markdown",
   "metadata": {
    "slideshow": {
     "slide_type": "subslide"
    }
   },
   "source": [
    "# Encontrando la longitud de una lista\n",
    "\n",
    "Al principio es sencillo contabilizar cuántas series favoritas tenemos en nuestro *Netflix-favs*, pero a medida que crece la lista se hace más complicado. Podemos obtener la longitud de una lista de manera sencilla:"
   ]
  },
  {
   "cell_type": "code",
   "execution_count": 224,
   "metadata": {
    "slideshow": {
     "slide_type": "-"
    }
   },
   "outputs": [
    {
     "data": {
      "text/plain": [
       "['Stranger Things', 'Jessica Jones', 'House of Cards']"
      ]
     },
     "execution_count": 224,
     "metadata": {},
     "output_type": "execute_result"
    }
   ],
   "source": [
    "netflix_favs"
   ]
  },
  {
   "cell_type": "code",
   "execution_count": 225,
   "metadata": {
    "slideshow": {
     "slide_type": "-"
    }
   },
   "outputs": [
    {
     "data": {
      "text/plain": [
       "3"
      ]
     },
     "execution_count": 225,
     "metadata": {},
     "output_type": "execute_result"
    }
   ],
   "source": [
    "len(netflix_favs)"
   ]
  },
  {
   "cell_type": "markdown",
   "metadata": {
    "slideshow": {
     "slide_type": "-"
    }
   },
   "source": [
    "> La función `len` devuelve un **número entero**."
   ]
  },
  {
   "cell_type": "markdown",
   "metadata": {
    "slideshow": {
     "slide_type": "subslide"
    }
   },
   "source": [
    "# Borrando elementos de una lista\n",
    "\n",
    "## Borrando elementos por posición\n",
    "\n",
    "Supongamos que en nuestro *Netflix-favs* nos ha dejado de gustar nuestra serie favorita. Eso implica borrar el primer elemento de la lista:"
   ]
  },
  {
   "cell_type": "code",
   "execution_count": 226,
   "metadata": {
    "slideshow": {
     "slide_type": "-"
    }
   },
   "outputs": [
    {
     "data": {
      "text/plain": [
       "['Stranger Things', 'Jessica Jones', 'House of Cards']"
      ]
     },
     "execution_count": 226,
     "metadata": {},
     "output_type": "execute_result"
    }
   ],
   "source": [
    "netflix_favs"
   ]
  },
  {
   "cell_type": "code",
   "execution_count": 227,
   "metadata": {
    "slideshow": {
     "slide_type": "-"
    }
   },
   "outputs": [],
   "source": [
    "del(netflix_favs[0])"
   ]
  },
  {
   "cell_type": "code",
   "execution_count": 228,
   "metadata": {
    "slideshow": {
     "slide_type": "-"
    }
   },
   "outputs": [
    {
     "data": {
      "text/plain": [
       "['Jessica Jones', 'House of Cards']"
      ]
     },
     "execution_count": 228,
     "metadata": {},
     "output_type": "execute_result"
    }
   ],
   "source": [
    "netflix_favs"
   ]
  },
  {
   "cell_type": "markdown",
   "metadata": {
    "slideshow": {
     "slide_type": "subslide"
    }
   },
   "source": [
    "## Borrando elementos por valor\n",
    "\n",
    "Supongamos que, en esta racha negativa, deja también de gustarnos *House of Cards*. Podemos borrar esta serie usando su nombre:"
   ]
  },
  {
   "cell_type": "code",
   "execution_count": 229,
   "metadata": {
    "slideshow": {
     "slide_type": "-"
    }
   },
   "outputs": [
    {
     "data": {
      "text/plain": [
       "['Jessica Jones', 'House of Cards']"
      ]
     },
     "execution_count": 229,
     "metadata": {},
     "output_type": "execute_result"
    }
   ],
   "source": [
    "netflix_favs"
   ]
  },
  {
   "cell_type": "code",
   "execution_count": 230,
   "metadata": {
    "slideshow": {
     "slide_type": "-"
    }
   },
   "outputs": [],
   "source": [
    "netflix_favs.remove('House of Cards')"
   ]
  },
  {
   "cell_type": "code",
   "execution_count": 231,
   "metadata": {
    "slideshow": {
     "slide_type": "-"
    }
   },
   "outputs": [
    {
     "data": {
      "text/plain": [
       "['Jessica Jones']"
      ]
     },
     "execution_count": 231,
     "metadata": {},
     "output_type": "execute_result"
    }
   ],
   "source": [
    "netflix_favs"
   ]
  },
  {
   "cell_type": "markdown",
   "metadata": {
    "slideshow": {
     "slide_type": "-"
    }
   },
   "source": [
    "> Si utlizamos el método `remove` sólo se borrará el primer elemento con el valor indicado."
   ]
  },
  {
   "cell_type": "markdown",
   "metadata": {
    "slideshow": {
     "slide_type": "subslide"
    }
   },
   "source": [
    "## Extrayendo elementos de una lista\n",
    "\n",
    "Supongamos que queremos ver la serie que menos nos gusta de las que están en nuestro *Netflix-favs*, pero una vez vista queremos quitarla de dicha lista.\n",
    "\n",
    "Hay una forma en Python de extraer un elemento de una lista y devolverlo a la vez:"
   ]
  },
  {
   "cell_type": "code",
   "execution_count": 232,
   "metadata": {
    "slideshow": {
     "slide_type": "-"
    }
   },
   "outputs": [],
   "source": [
    "netflix_favs = ['You', 'Glow', 'The Haunting', 'Narcos']"
   ]
  },
  {
   "cell_type": "code",
   "execution_count": 233,
   "metadata": {
    "slideshow": {
     "slide_type": "-"
    }
   },
   "outputs": [
    {
     "data": {
      "text/plain": [
       "'Narcos'"
      ]
     },
     "execution_count": 233,
     "metadata": {},
     "output_type": "execute_result"
    }
   ],
   "source": [
    "# devuelve el último elemento de la lista y lo extrae\n",
    "netflix_favs.pop()"
   ]
  },
  {
   "cell_type": "code",
   "execution_count": 234,
   "metadata": {
    "slideshow": {
     "slide_type": "-"
    }
   },
   "outputs": [
    {
     "data": {
      "text/plain": [
       "['You', 'Glow', 'The Haunting']"
      ]
     },
     "execution_count": 234,
     "metadata": {},
     "output_type": "execute_result"
    }
   ],
   "source": [
    "netflix_favs"
   ]
  },
  {
   "cell_type": "markdown",
   "metadata": {
    "slideshow": {
     "slide_type": "subslide"
    }
   },
   "source": [
    "No estamos obligados a extraer el último elemento. Podemos extraer aquel elemento que nos interese pasando al método `pop` el índice que corresponda:"
   ]
  },
  {
   "cell_type": "code",
   "execution_count": 235,
   "metadata": {},
   "outputs": [
    {
     "data": {
      "text/plain": [
       "['You', 'Glow', 'The Haunting']"
      ]
     },
     "execution_count": 235,
     "metadata": {},
     "output_type": "execute_result"
    }
   ],
   "source": [
    "netflix_favs"
   ]
  },
  {
   "cell_type": "code",
   "execution_count": 236,
   "metadata": {
    "slideshow": {
     "slide_type": "-"
    }
   },
   "outputs": [
    {
     "data": {
      "text/plain": [
       "'Glow'"
      ]
     },
     "execution_count": 236,
     "metadata": {},
     "output_type": "execute_result"
    }
   ],
   "source": [
    "# devuelve el elemento que ocupa la posición 1 (ojo 0-index)\n",
    "netflix_favs.pop(1)"
   ]
  },
  {
   "cell_type": "code",
   "execution_count": 237,
   "metadata": {
    "slideshow": {
     "slide_type": "-"
    }
   },
   "outputs": [
    {
     "data": {
      "text/plain": [
       "['You', 'The Haunting']"
      ]
     },
     "execution_count": 237,
     "metadata": {},
     "output_type": "execute_result"
    }
   ],
   "source": [
    "netflix_favs"
   ]
  },
  {
   "cell_type": "markdown",
   "metadata": {
    "slideshow": {
     "slide_type": "subslide"
    }
   },
   "source": [
    "# Troceado de listas\n",
    "\n",
    "Dado que las listas son colecciones (secuencias) de elementos, podemos seleccionar *\"trozos\"* de esta colección. Para definir estos trozos hay que especificar el índice de comienzo y el índice de finalización.\n",
    "\n",
    "Supongamos que queremos saber las 3 series favoritas de nuestro *Netflix-favs*:"
   ]
  },
  {
   "cell_type": "code",
   "execution_count": 238,
   "metadata": {
    "slideshow": {
     "slide_type": "-"
    }
   },
   "outputs": [],
   "source": [
    "netflix_favs = ['Orange is the New Black', 'You', 'Dark', 'Glow', 'The Haunting', 'Narcos']"
   ]
  },
  {
   "cell_type": "markdown",
   "metadata": {
    "slideshow": {
     "slide_type": "-"
    }
   },
   "source": [
    "- El índice de comienzo (*inf*) será el 0.\n",
    "- El índice de finalización (*sup*) será el 3, ya que en el troceado llega a (*sup* - 1)"
   ]
  },
  {
   "cell_type": "code",
   "execution_count": 239,
   "metadata": {
    "slideshow": {
     "slide_type": "-"
    }
   },
   "outputs": [
    {
     "data": {
      "text/plain": [
       "['Orange is the New Black', 'You', 'Dark']"
      ]
     },
     "execution_count": 239,
     "metadata": {},
     "output_type": "execute_result"
    }
   ],
   "source": [
    "netflix_favs[0:3]"
   ]
  },
  {
   "cell_type": "code",
   "execution_count": 240,
   "metadata": {
    "slideshow": {
     "slide_type": "-"
    }
   },
   "outputs": [
    {
     "data": {
      "text/plain": [
       "['Orange is the New Black', 'You', 'Dark']"
      ]
     },
     "execution_count": 240,
     "metadata": {},
     "output_type": "execute_result"
    }
   ],
   "source": [
    "# si omitimos el índice de comienzo éste tomará el valor 0\n",
    "netflix_favs[:3]"
   ]
  },
  {
   "cell_type": "markdown",
   "metadata": {
    "slideshow": {
     "slide_type": "subslide"
    }
   },
   "source": [
    "Supongamos que que queremos mostrar las últimas 3 series de nuestro *Netflix-favs*:"
   ]
  },
  {
   "cell_type": "code",
   "execution_count": 241,
   "metadata": {
    "slideshow": {
     "slide_type": "-"
    }
   },
   "outputs": [
    {
     "data": {
      "text/plain": [
       "['Orange is the New Black', 'You', 'Dark', 'Glow', 'The Haunting', 'Narcos']"
      ]
     },
     "execution_count": 241,
     "metadata": {},
     "output_type": "execute_result"
    }
   ],
   "source": [
    "netflix_favs"
   ]
  },
  {
   "cell_type": "code",
   "execution_count": 242,
   "metadata": {
    "slideshow": {
     "slide_type": "-"
    }
   },
   "outputs": [
    {
     "data": {
      "text/plain": [
       "['Glow', 'The Haunting', 'Narcos']"
      ]
     },
     "execution_count": 242,
     "metadata": {},
     "output_type": "execute_result"
    }
   ],
   "source": [
    "netflix_favs[3:6]"
   ]
  },
  {
   "cell_type": "markdown",
   "metadata": {
    "slideshow": {
     "slide_type": "-"
    }
   },
   "source": [
    "Pero es posible que no sepamos cuántas series tenemos en nuestro en nuestra lista, con lo que habrá que buscar alternativas a la sentencia anterior:"
   ]
  },
  {
   "cell_type": "code",
   "execution_count": 243,
   "metadata": {
    "slideshow": {
     "slide_type": "-"
    }
   },
   "outputs": [
    {
     "data": {
      "text/plain": [
       "['Glow', 'The Haunting', 'Narcos']"
      ]
     },
     "execution_count": 243,
     "metadata": {},
     "output_type": "execute_result"
    }
   ],
   "source": [
    "# si omitimos el índice de finalización éste tomará el último índice de la lista\n",
    "netflix_favs[-3:]"
   ]
  }
 ],
 "metadata": {
  "celltoolbar": "Slideshow",
  "kernelspec": {
   "display_name": "Python 3",
   "language": "python",
   "name": "python3"
  },
  "language_info": {
   "codemirror_mode": {
    "name": "ipython",
    "version": 3
   },
   "file_extension": ".py",
   "mimetype": "text/x-python",
   "name": "python",
   "nbconvert_exporter": "python",
   "pygments_lexer": "ipython3",
   "version": "3.7.0"
  }
 },
 "nbformat": 4,
 "nbformat_minor": 2
}
