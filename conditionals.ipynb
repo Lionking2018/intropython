{
 "cells": [
  {
   "cell_type": "markdown",
   "metadata": {
    "slideshow": {
     "slide_type": "slide"
    }
   },
   "source": [
    "![crossroad](images/conditionals/crossroad.jpg)\n",
    "\n",
    "Photo by [Vladislav Babienko](https://unsplash.com/photos/KTpSVEcU0XU?utm_source=unsplash&utm_medium=referral&utm_content=creditCopyText) on [Unsplash](https://unsplash.com/search/photos/python?utm_source=unsplash&utm_medium=referral&utm_content=creditCopyText)"
   ]
  },
  {
   "cell_type": "markdown",
   "metadata": {
    "slideshow": {
     "slide_type": "slide"
    }
   },
   "source": [
    "# Motivación\n",
    "\n",
    "En la vida diaria hemos de tomar múltiple decisiones. Un programa informático también debe tomarlas y actuar según los datos disponibles. "
   ]
  },
  {
   "cell_type": "markdown",
   "metadata": {
    "slideshow": {
     "slide_type": "slide"
    }
   },
   "source": [
    "# Guión\n",
    "\n",
    "1. Bloques de código en python\n",
    "2. Introducción a las sentencias de control condicional\n",
    "3. Indicando condiciones\n",
    "4. Introducción a excepciones"
   ]
  },
  {
   "cell_type": "markdown",
   "metadata": {
    "slideshow": {
     "slide_type": "subslide"
    }
   },
   "source": [
    "# Sentencia condicionales en python\n",
    "\n",
    "- `if`\n",
    "- `else`\n",
    "- `elif`"
   ]
  },
  {
   "cell_type": "markdown",
   "metadata": {
    "slideshow": {
     "slide_type": "subslide"
    }
   },
   "source": [
    "# Condiciones\n",
    "\n",
    "## ¿Cómo comparo?\n",
    "\n",
    "- Igual: `==`\n",
    "- Distinto: `!=`\n",
    "- Mayor estricto: `>`\n",
    "- Mayor o igual: `>=`\n",
    "- Menor estricto: `<`\n",
    "- Menor o igual: `<=`\n"
   ]
  },
  {
   "cell_type": "code",
   "execution_count": null,
   "metadata": {},
   "outputs": [],
   "source": []
  }
 ],
 "metadata": {
  "celltoolbar": "Slideshow",
  "kernelspec": {
   "display_name": "Python 3",
   "language": "python",
   "name": "python3"
  },
  "language_info": {
   "codemirror_mode": {
    "name": "ipython",
    "version": 3
   },
   "file_extension": ".py",
   "mimetype": "text/x-python",
   "name": "python",
   "nbconvert_exporter": "python",
   "pygments_lexer": "ipython3",
   "version": "3.7.3"
  }
 },
 "nbformat": 4,
 "nbformat_minor": 2
}
