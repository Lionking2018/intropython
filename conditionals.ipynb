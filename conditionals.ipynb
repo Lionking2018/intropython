{
 "cells": [
  {
   "cell_type": "markdown",
   "metadata": {
    "slideshow": {
     "slide_type": "slide"
    }
   },
   "source": [
    "![crossroad](images/conditionals/crossroad.jpg)\n",
    "\n",
    "Photo by [Vladislav Babienko](https://unsplash.com/photos/KTpSVEcU0XU?utm_source=unsplash&utm_medium=referral&utm_content=creditCopyText) on [Unsplash](https://unsplash.com/search/photos/python?utm_source=unsplash&utm_medium=referral&utm_content=creditCopyText)"
   ]
  },
  {
   "cell_type": "markdown",
   "metadata": {
    "slideshow": {
     "slide_type": "slide"
    }
   },
   "source": [
    "# Motivación\n",
    "\n",
    "En la vida diaria hemos de tomar múltiple decisiones. Un programa informático también debe ser capaz de *tomar decisiones* y realizar diferentes acciones según la información disponible. En este apartado aprenderemos cómo."
   ]
  },
  {
   "cell_type": "markdown",
   "metadata": {
    "slideshow": {
     "slide_type": "slide"
    }
   },
   "source": [
    "# Guión\n",
    "\n",
    "1. Bloques de código en python\n",
    "2. Introducción a las sentencias de control condicional\n",
    "3. Indicando condiciones\n",
    "4. Introducción a excepciones"
   ]
  },
  {
   "cell_type": "markdown",
   "metadata": {
    "slideshow": {
     "slide_type": "subslide"
    }
   },
   "source": [
    "# Bloques de código en python\n",
    "\n",
    "- Antes de poder tomar una decisión, tenemos que ser capaces de indicar qué acciones se llevarán a cabo en cada caso\n",
    "- En los lenguajes de programación, esto se suele hacer indicando diferentes **bloques de código**, según el resultado de la decisión, se ejecutará un bloque u otro\n",
    "- Además, los bloques pueden determinar el ámbito o alcance de las variables (dónde viven)\n",
    "- En otros lenguajes, cuando un bloque tiene varias líneas se usan delimitadores para indicar dónde empieza un bloque y dónde acaba (`begin`... `end`, `{` ... `}`, etc.\n",
    "- Normalmente los bloques se **indentan** (sangrado) para que sea más fácil identificarlos. Esto no es estrictamente obligatorio (en muchos lenguajes el programa funciona aunque no se indente), pero un código sin indentar es prácticamente ilegible, así que no indentar se considera una muy mala prácticade programación.\n",
    "- Python ha solucionado estos problemas de forma *inteligente*, los **bloques se especifican con el identado**, así no es necesario utilizar delimitadores y, por otro lado, se fuerza a seguir un correcto estilo de programación\n",
    "- En python la recomendación es usar **4 espacios** ([PEP 8](https://realpython.com/python-pep8/#indentation)), aunque también se admiten tabuladores (sin embargo se prefieren los espacios a los tabuladores. En cualquier caso, se debe evitar mezclarlos).\n"
   ]
  },
  {
   "cell_type": "markdown",
   "metadata": {
    "slideshow": {
     "slide_type": "subslide"
    }
   },
   "source": [
    "# Sentencia condicionales en python\n",
    "\n",
    "- `if`\n",
    "- `else`\n",
    "- `elif`"
   ]
  },
  {
   "cell_type": "markdown",
   "metadata": {
    "slideshow": {
     "slide_type": "subslide"
    }
   },
   "source": [
    "# Condiciones\n",
    "\n",
    "## ¿Cómo comparo?\n",
    "\n",
    "- Igual: `==`\n",
    "- Distinto: `!=`\n",
    "- Mayor estricto: `>`\n",
    "- Mayor o igual: `>=`\n",
    "- Menor estricto: `<`\n",
    "- Menor o igual: `<=`\n"
   ]
  },
  {
   "cell_type": "markdown",
   "metadata": {
    "slideshow": {
     "slide_type": "subslide"
    }
   },
   "source": [
    "## Otros operadores\n",
    "\n",
    "- Pertenencia\n",
    "- Identidad\n"
   ]
  },
  {
   "cell_type": "code",
   "execution_count": null,
   "metadata": {},
   "outputs": [],
   "source": []
  },
  {
   "cell_type": "code",
   "execution_count": null,
   "metadata": {},
   "outputs": [],
   "source": []
  }
 ],
 "metadata": {
  "celltoolbar": "Slideshow",
  "kernelspec": {
   "display_name": "Python 3",
   "language": "python",
   "name": "python3"
  },
  "language_info": {
   "codemirror_mode": {
    "name": "ipython",
    "version": 3
   },
   "file_extension": ".py",
   "mimetype": "text/x-python",
   "name": "python",
   "nbconvert_exporter": "python",
   "pygments_lexer": "ipython3",
   "version": "3.7.1"
  }
 },
 "nbformat": 4,
 "nbformat_minor": 2
}
