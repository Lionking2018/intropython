{
 "cells": [
  {
   "cell_type": "markdown",
   "metadata": {
    "slideshow": {
     "slide_type": "slide"
    }
   },
   "source": [
    "![Objects](images/poo/objects.jpg)\n",
    "\n",
    "Photo by [Kevin Crosby](https://unsplash.com/photos/HQkz_lWT_lY?utm_source=unsplash&utm_medium=referral&utm_content=creditCopyText) on [Unsplash](https://unsplash.com/search/photos/structure?utm_source=unsplash&utm_medium=referral&utm_content=creditCopyText)"
   ]
  },
  {
   "cell_type": "markdown",
   "metadata": {
    "slideshow": {
     "slide_type": "slide"
    }
   },
   "source": [
    "# Motivación\n",
    "\n",
    "Tradicionalmente hemos usado la programación para crear aplicaciones con el objetivo de resolver problemas. En muchos casos, tras resolver un problema de una forma concreta, nos encontrábamos que al intentar resolver otro problema similar era muy complicado o costoso reutilizar la aplicación que ya teníamos debido a cómo estaba programada, por lo que teníamos que volver a desarrollar otra aplicación. Algunas veces incluso el problema era exactamente el mismo, pero cambiaba el tipo de datos que se usaba, lo que podía llevarnos a tener diferentes aplicaciones para un mismo problema según el tipo de datos que se empleaba, u otros matices similares.\n",
    "\n",
    "La Programación Orientada a Objetos (POO, o bien OOP de sus iniciales en inglés) tiene como uno de sus objetivos facilitar la reutilización del código, la modularidad, el encapsulamiento, una mejor organización donde los datos, es decir, la información, esté de alguna forma relacionada con los métodos que la procesan.\n",
    "\n",
    "En sí, la Programación Orientada a Objetos no es especialmente compleja, quizá incluso sea más *natural* e intuitiva, más similar a cómo pensamos en la *vida real*. Sin embargo, sí que requiere un cambio de mentalidad, una forma de pensar distinta a la que tradicionalmente se venía usando al programar. En definitiva, se trata de un cambio de paradigma. En este apartado veremos una introducción a estas técnicas."
   ]
  },
  {
   "cell_type": "markdown",
   "metadata": {
    "slideshow": {
     "slide_type": "slide"
    }
   },
   "source": [
    "# Guión\n",
    "1. Características de la POO \n",
    "2. Las clases. Propiedades y métodos\n",
    "3. Objetos. Instancias.\n"
   ]
  },
  {
   "cell_type": "code",
   "execution_count": null,
   "metadata": {},
   "outputs": [],
   "source": []
  },
  {
   "cell_type": "markdown",
   "metadata": {
    "slideshow": {
     "slide_type": "slide"
    }
   },
   "source": [
    "# Guión\n",
    "1. Características de la POO \n",
    "2. Las clases. Propiedades y métodos\n",
    "3. Objetos. Instancias.\n"
   ]
  }
 ],
 "metadata": {
  "celltoolbar": "Slideshow",
  "kernelspec": {
   "display_name": "Python 3",
   "language": "python",
   "name": "python3"
  },
  "language_info": {
   "codemirror_mode": {
    "name": "ipython",
    "version": 3
   },
   "file_extension": ".py",
   "mimetype": "text/x-python",
   "name": "python",
   "nbconvert_exporter": "python",
   "pygments_lexer": "ipython3",
   "version": "3.7.3"
  }
 },
 "nbformat": 4,
 "nbformat_minor": 2
}
