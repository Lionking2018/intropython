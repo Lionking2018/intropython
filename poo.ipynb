{
 "cells": [
  {
   "cell_type": "markdown",
   "metadata": {
    "slideshow": {
     "slide_type": "slide"
    }
   },
   "source": [
    "![Objects](images/poo/objects.jpg)\n",
    "\n",
    "Photo by [Kevin Crosby](https://unsplash.com/photos/HQkz_lWT_lY?utm_source=unsplash&utm_medium=referral&utm_content=creditCopyText) on [Unsplash](https://unsplash.com/search/photos/structure?utm_source=unsplash&utm_medium=referral&utm_content=creditCopyText)"
   ]
  },
  {
   "cell_type": "markdown",
   "metadata": {
    "slideshow": {
     "slide_type": "slide"
    }
   },
   "source": [
    "# Motivación\n",
    "\n",
    "Tradicionalmente hemos usado la programación para crear aplicaciones con el objetivo de resolver problemas. En muchos casos, tras resolver un problema de una forma concreta, nos encontrábamos que al intentar resolver otro problema similar era muy complicado o costoso reutilizar la aplicación que ya teníamos debido a cómo estaba programada, por lo que teníamos que volver a desarrollar otra aplicación. Algunas veces incluso el problema era exactamente el mismo, pero cambiaba el tipo de datos que se usaba, lo que podía llevarnos a tener diferentes aplicaciones para un mismo problema según el tipo de datos que se empleaba, u otros matices similares.\n",
    "\n",
    "La Programación Orientada a Objetos (POO, o bien OOP de sus iniciales en inglés) tiene como uno de sus objetivos facilitar la reutilización del código, la modularidad, el encapsulamiento, una mejor organización donde los datos, es decir, la información, esté de alguna forma relacionada con los métodos que la procesan.\n",
    "\n",
    "En sí, la Programación Orientada a Objetos no es especialmente compleja, quizá incluso sea más *natural* e intuitiva, más similar a cómo pensamos en la *vida real*. Sin embargo, sí que requiere un cambio de mentalidad, una forma de pensar distinta a la que tradicionalmente se venía usando al programar. En definitiva, se trata de un cambio de paradigma. En este apartado veremos una introducción a estas técnicas."
   ]
  },
  {
   "cell_type": "markdown",
   "metadata": {
    "slideshow": {
     "slide_type": "slide"
    }
   },
   "source": [
    "# Guión\n",
    "\n",
    "1. Introducción a la POO\n",
    "2. Las clases. Propiedades y métodos\n",
    "3. Objetos o instancias.\n",
    "4. Características de la POO. Herencia\n"
   ]
  },
  {
   "cell_type": "code",
   "execution_count": null,
   "metadata": {},
   "outputs": [],
   "source": []
  },
  {
   "cell_type": "markdown",
   "metadata": {
    "slideshow": {
     "slide_type": "slide"
    }
   },
   "source": [
    "# Introducción a la POO (I)\n",
    "\n",
    "Hasta ahora hemos ido guardando información sobre nuestras series favoritas de Netflix, y además desarrollando diferentes funciones para procesar esta información. Un problema de este enfoque es que no hay una relación evidente entre los datos y las funciones que los procesan. Por ejemplo, si decido eliminar parte de la información que estoy guardando, ¿cómo sé qué funciones ya no serían necesarias? O si quiero usar parte de mi código en otro proyecto, ¿qué parte tendría que copiar?\n",
    "\n",
    "La Programación Orientada a Objetos nos da herramientas para resolver estos problemas. El eje central sobre el que gira este paradigma son los **objetos**. Por ejemplo, en nuestro caso un objeto sería una serie de Netflix, y en su definición indicaríamos qué información queremos guardar (**atributos** o **propiedades** del objeto) y qué operaciones podemos realizar (similar a las funciones, pero en POO se denominan los **métodos** del objeto). De este modo, tanto las *propiedades* como los *métodos* pertenecen al mismo objeto y están ligados a él, de esta forma gestionar esta parte es muy simple, si se decide reutilizar esta parte, o bien eliminarla, tendremos muy delimitado cuál es el código que lo implementa.\n",
    "\n",
    "\n",
    "### Las clases\n",
    "\n",
    "Para trabajar con objetos se utilizan **clases**, que es simplemente una definición de los mismos, es decir, un listado de todos las **propiedades** y **métodos** del objeto. A partir de esta definición, luego podremos crear tantos objetos como deseemnos basándonos en la clase, procesa que se denominia como crear una **instancia** o **instanciar** la clase (*objeto* e *instancia* vienen a significar lo mismo).\n",
    "\n",
    "En python las clases se crean de la siguiente forma:\n",
    "\n",
    "```python\n",
    "class MiClase:\n",
    "    # ...\n",
    "```\n",
    "\n",
    "> [PEP8](https://www.python.org/dev/peps/pep-0008/#class-names): El nombre de las clases debe asignarse en singular usando *CamelCase* (comenzar en mayúsculas)\n",
    "\n",
    "Por seguir con nuestra analogía, la *clase* de nuestras series Netflix indicará las *propiedades* (*título*, *año*, *duración*, *temporadas*, etc.) y los *métodos* (*calcular duración total*, *obtener media*, etc.). Cuando queramos crear una nueva serie, sólo tendremos que decir algo así como \"oye, que queremos una nueva serie a partir de clase `Serie`\", es decir, crearemos una nueva *instancia* u *objeto* a partir de su clase. \n",
    "\n",
    "\n",
    "### El constructor y los atributos (variables de clase y variables de instancia)\n",
    "\n",
    "Normalmente aprovecharemos el proceso de creación para indicar los datos del nuevo objeto (en nuestro caso podría ser, por ejemplo, el título de la serie, su duración, etc.), y así en vez de obtener un objeto vacío y luego tener que ir asignando sus propiedades una a una, ya crearemos el objeto directamente con toda su información (¡matamos dos pájaros de un tiro! ;). \n",
    "\n",
    "Para poder llevar esto a cabo, se utiliza un **constructor**, que básicamente es un método especial que asigna los valores a un objeto en el momento de crearlo. Este método especial se denomina **`__init__()`** (ya veremos que en python todas las variables que empiezan por `_` o `__` tienen un uso particular). \n",
    "\n",
    "Este *constructor* debe asignar los valores al propio objeto, es decir, a sí mismo. Si el objeto está creándose y aún no está asignado a ninguna variable, ¿cómo podemos hacer para que el constructor pueda asignarle los valores? Para solucionar esto, el método `__init__()` el primer parámetro del método `__init__` debe ser **`self`**, que referencia al propio objeto. De hecho, esto no es algo exclusivo del método `__init__()`, si no que **todos los métodos de un objeto deben tener como primer parámetro `self`**.\n",
    "\n",
    "Además, el método `__init__()` también tiene otra función:\n",
    "- todas las propiedades que se definan dentro de este método serán **variables de instancia**, es decir, pertenecerán a cada objeto, y cada objeto podrá tener sus propios atributos (en nuestro caso, aquí pondríamos el título, duración, etc., por que cada objeto tiene sus propios valores).\n",
    "- todas las propiedades de la clase que se definan fuera del constructor, serán **variables de clase**, es decir, pertenecerán a la clase y todos los objetos de la misma clase verán los mismos valores (esto puede ser útil para almacenar información común que es igual para todas las series, como la dirección de una página web que indique un ranking de todas las series, información de la suscripción a Netflix, etc.\n",
    "\n",
    "Por ejemplo, imaginemos que la clase `MiClase` tiene un atributo `m` (con valor ```5```) común para todos los objetos, y luego cada objeto debe tener sus propios atributos `a`, `b` y `c` (`c` con valor por defecto ```10```). Entonces la clase se definiría como:\n",
    "\n",
    "```python\n",
    "class MiClase:\n",
    "    m = 5   # variable de clase, común para todos los objetos\n",
    "    \n",
    "    def __init__(self, a, b, c=0):\n",
    "        self.a = a\n",
    "        self.b = b\n",
    "        self.c = c\n",
    "```  \n",
    "\n",
    "- **NOTA**: Ten mucho cuidado al cambiar las variables de clase, si las cambias en un objeto, el cambio sólo afectará a ese objeto. Para cambiar una variable de clase para todos los objetos, se debe usar la propia clase. Por ejemplo:\n",
    "`MiClase.m = 10`\n",
    "\n",
    "\n",
    "### Métodos\n",
    "\n",
    "Además de las propiedades, es interesante que las clases incluyan los métodos que realizan las operaciones sobre los objetos. De esta forma, estos métodos quedarán ligados a los propios objetos y para invocarlos bastará con usar la sintaxis `miObjeto.metodo()`. \n",
    "\n",
    "Los métodos se definen dentro de las clases como si fueran funciones, usando la palabra reservada **`def`**. No debemos olvidar que se siempre se tiene que especificar como primer parámetro una referencia al propio objeto, usando el parámetro **`self`**.\n",
    "\n",
    "Por ejemplo, si queremos crear un método que devuelva el resultado de multiplicar `a` por un valor que nos indique el usuario, simplemente añadiríamos lo siguiente a la clase:\n",
    "\n",
    "```python\n",
    "class MiClase:\n",
    "    # ...\n",
    "    \n",
    "    def mult(self, x):\n",
    "        return self.a * x\n",
    "```\n",
    "\n",
    "Algunos métodos interesantes para definir en nuestras clases son:\n",
    "\n",
    "- `__str__(self)`: Como vemos, este método empieza por `__`, así que se trata de un método especial (del sistema). Este método se usa para mostrar el objeto cuando hacemos un `print()`. Por defecto se va a mostrar la referencia del objeto, lo cual no suele ser muy útil, así que normalmente nos conviene definir este método indicando cómo queremos que se muestre el objeto. Por ejemplo, en este caso:\n",
    "\n",
    "```python\n",
    "class MiClase:\n",
    "    # ...\n",
    "    \n",
    "    def __str__(self):\n",
    "        return f\"El objeto tiene como atributos m:{self.m}, a:{self.a}, b:{self.b}, c:{self.c}\" \n",
    "```\n",
    "\n",
    "- *setter* y *getter*: En muchas ocasiones no queremos que los usuarios accedan directamente al valor de los atributos. Por ejemplo, en el caso de modificar un atributo, podríamos querer comprobar que el valor es correcto (si es una edad, no puede ser menor que 0). En el caso de obtener el valor de un atributo, podríamos querer formatearlo o mostrarlo de una determinada forma. Para estos casos, es común definir y utilizar los métodos *setter* y *getter*, respectivamente. De esta forma, se indica que la escritura o la lectura de un atributo no debería hacerse directamente, sino a través de estos métodos para que se realicen las comprobaciones y/u operaciones adecuadas. Aunque no veremos estos métodos en este curso debido a que escapa de su objetivo introductorio, se recomienda que si se va a trabajar con objetos se [consulte el `property` de python](https://docs.python.org/3/library/functions.html#property) para conocer cómo implementar los *setter* y *getter*.\n",
    "\n",
    "**NOTA**: si has trabajado con otros lenguajes de programación, conocerás que los atributos y métodos de un objeto pueden tener diferente comportamiento, por ejemplo es normal que se puedan definir como *públicos*, *privados* o *protegidos*. En python este comportamiento es un poco diferente, y por convenio se añade el prefijo `_` o `__` a atributos y métodos para indicar que no deberían ser públicos. En cuanto a los atributos `éstaticos`, en python vendrían a ser las *variables de clase* ya vistas.\n",
    "\n",
    "\n",
    "### Instanciando un objeto\n",
    "\n",
    "Una vez que hemos definido una clase, para instanciar el objeto sólo tenemos que utilizar el nombre de la clase y pasasrle los argumentos necesarios al constructor entre paréntesis. Por ejemplo si queremos crear un objeto con los valores `a=20`, `b=50` y usar el valor por defecto de `c`, usaríamos la siguiente instancia:\n",
    "\n",
    "```python\n",
    "miObjeto = MiClase(20, 50)\n",
    "print(miObjeto)\n",
    "```"
   ]
  },
  {
   "cell_type": "code",
   "execution_count": 15,
   "metadata": {},
   "outputs": [
    {
     "name": "stdout",
     "output_type": "stream",
     "text": [
      "El objeto tiene como atributos m:5, a:20, b:50, c:0\n",
      "El resultado de multiplicar 20 por 10 es 200\n"
     ]
    }
   ],
   "source": [
    "class MiClase:\n",
    "    m = 5   # variable de clase, común para todos los objetos\n",
    "    \n",
    "    def __init__(self, a, b, c=0):\n",
    "        self.a = a\n",
    "        self.b = b\n",
    "        self.c = c\n",
    "        \n",
    "    def mult(self, x):\n",
    "        return self.a * x\n",
    "    \n",
    "    def __str__(self):\n",
    "        return f\"El objeto tiene como atributos m:{self.m}, a:{self.a}, b:{self.b}, c:{self.c}\" \n",
    "\n",
    "\n",
    "miObjeto = MiClase(20, 50)\n",
    "print(miObjeto)\n",
    "\n",
    "print(f\"El resultado de multiplicar {miObjeto.a} por 10 es {miObjeto.mult(10)}\") "
   ]
  },
  {
   "cell_type": "markdown",
   "metadata": {
    "slideshow": {
     "slide_type": "slide"
    }
   },
   "source": [
    "## Ejemplo\n",
    "\n",
    "Imaginemos que queremos crear una clase muy simple, por ejemplo, trabajamos en una tienda de animales y queremos crear una clase para guardar información de gatos. Hay una serie de atributos comunes en todos los gatos (son de la familia *felinos*, tienen 4 patas, etc.) y otros específicos a cada gato (raza, nombre, peso, etc.). Veamos cómo sería la clase:\n",
    "\n",
    "```python\n",
    "class Gato:\n",
    "    familia = \"felino\"\n",
    "    num_patas = 4\n",
    "    \n",
    "    def __init__(self, nombre, raza, color, peso):\n",
    "        self.nombre = nombre\n",
    "        self.raza = raza\n",
    "        self.color = color\n",
    "        self.peso = peso\n",
    "        \n",
    "    def __str__(self):\n",
    "        return \"Hola, soy el gato {self.nombre}. Soy de la raza {self.raza}, de color {self.color} y peso {self.peso} kg.\"\n",
    "        \n",
    "gato1 = Gato('Garfield', 'persa', 'amarillo', 5)\n",
    "gato2 = Gato('Michu', 'siamés', 'gris', 7)\n",
    "gato3 = Gato('Anubis', 'sphynx', 'blanco', 3)\n",
    "\n",
    "print(gato1)\n",
    "print(gato2)\n",
    "print(gato3)\n",
    "```    "
   ]
  },
  {
   "cell_type": "code",
   "execution_count": 12,
   "metadata": {},
   "outputs": [
    {
     "name": "stdout",
     "output_type": "stream",
     "text": [
      "Hola, soy el gato Garfield. Soy de la raza persa, de color amarillo y peso 5 kg.\n",
      "Hola, soy el gato Michu. Soy de la raza siamés, de color gris y peso 7 kg.\n",
      "Hola, soy el gato Anubis. Soy de la raza sphynx, de color blanco y peso 3 kg.\n"
     ]
    }
   ],
   "source": []
  },
  {
   "cell_type": "markdown",
   "metadata": {
    "slideshow": {
     "slide_type": "slide"
    }
   },
   "source": [
    "## Ejercicio\n",
    "\n",
    "Crear una clase para nuestras series de Netflix. Deberá tener los siguientes atributos:\n",
    "- `ranking` (variable de clase: https://www.hobbyconsolas.com/listas/mejores-series-netflix-2019-no-te-deberias-perder-6919)\n",
    "- `titulo` (título de la serie)\n",
    "- `temporadas` (número de temporadas)\n",
    "- `capitulos_temporada` (número medio de capítulos por temporada)\n",
    "- `duracion_capitulo` (duración media de cada capítulo)\n",
    "\n",
    "Además, definir los siguiente métodos:\n",
    " - `__init__()`: para instanciar los objetos (el constructor)\n",
    " - `__str__()`: para mostrar la serie con `print()`\n",
    " - `duracion_total()`: mostrará la duración total de la serie multiplicando el número de temporadas por el número de capítulos de cada temporada por la duración media de cada capítulo"
   ]
  },
  {
   "cell_type": "code",
   "execution_count": null,
   "metadata": {},
   "outputs": [],
   "source": []
  },
  {
   "cell_type": "markdown",
   "metadata": {
    "slideshow": {
     "slide_type": "slide"
    }
   },
   "source": [
    "## Ejercicio\n",
    "\n",
    "Crear una clase para nuestras series de Netflix. Deberá tener los siguientes atributos:\n",
    "- `ranking` (variable de clase: https://www.hobbyconsolas.com/listas/mejores-series-netflix-2019-no-te-deberias-perder-6919)\n",
    "- `titulo` (título de la serie)\n",
    "- `temporadas` (número de temporadas)\n",
    "- `capitulos_temporada` (número medio de capítulos por temporada)\n",
    "- `duracion_capitulo` (duración media de cada capítulo)\n",
    "\n",
    "Además, definir los siguiente métodos:\n",
    " - `__init__()`: para instanciar los objetos (el constructor)\n",
    " - `__str__()`: para mostrar la información de una serie con `print()`\n",
    " - `duracion_total()`: mostrará la duración total de la serie multiplicando el número de temporadas por el número de capítulos de cada temporada por la duración media de cada capítulo"
   ]
  },
  {
   "cell_type": "markdown",
   "metadata": {
    "slideshow": {
     "slide_type": "slide"
    }
   },
   "source": [
    "## Ejercicio\n",
    "\n",
    "Crear una clase para nuestras series de Netflix. Deberá tener los siguientes atributos:\n",
    "- `ranking` (variable de clase: https://www.hobbyconsolas.com/listas/mejores-series-netflix-2019-no-te-deberias-perder-6919)\n",
    "- `titulo` (título de la serie)\n",
    "- `temporadas` (número de temporadas)\n",
    "- `capitulos_temporada` (número medio de capítulos por temporada)\n",
    "- `duracion_capitulo` (duración media de cada capítulo)\n",
    "\n",
    "Además, definir los siguiente métodos:\n",
    " - `__init__()`: para instanciar los objetos (el constructor)\n",
    " - `__str__()`: para mostrar la información de una serie con `print()`\n",
    " - `duracion_total()`: mostrará la duración total de la serie multiplicando el número de temporadas por el número de capítulos de cada temporada por la duración media de cada capítulo"
   ]
  }
 ],
 "metadata": {
  "celltoolbar": "Slideshow",
  "kernelspec": {
   "display_name": "Python 3",
   "language": "python",
   "name": "python3"
  },
  "language_info": {
   "codemirror_mode": {
    "name": "ipython",
    "version": 3
   },
   "file_extension": ".py",
   "mimetype": "text/x-python",
   "name": "python",
   "nbconvert_exporter": "python",
   "pygments_lexer": "ipython3",
   "version": "3.7.1"
  }
 },
 "nbformat": 4,
 "nbformat_minor": 2
}
