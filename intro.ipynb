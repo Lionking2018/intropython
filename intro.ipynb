{
 "cells": [
  {
   "cell_type": "markdown",
   "metadata": {
    "slideshow": {
     "slide_type": "slide"
    }
   },
   "source": [
    "![Snake](images/intro/snake.jpg)\n",
    "\n",
    "Photo by [Tyler B](https://unsplash.com/photos/72vLY-QMd3w?utm_source=unsplash&utm_medium=referral&utm_content=creditCopyText) on [Unsplash](https://unsplash.com/search/photos/python?utm_source=unsplash&utm_medium=referral&utm_content=creditCopyText)"
   ]
  },
  {
   "cell_type": "markdown",
   "metadata": {
    "slideshow": {
     "slide_type": "slide"
    }
   },
   "source": [
    "# Objetivos\n",
    "\n",
    "- Introducir el entorno interactivo **Jupyter Notebook** para escribir código y ejecutarlo.\n",
    "- Conocer los **elementos básicos del lenguaje**, las **estructuras de control**, **estructuras de datos**, y **elementos sintácticos** específicos de Python.\n",
    "- Introducir algunas de las **bibliotecas más habituales** del lenguaje.\n",
    "- Realizar **prácticas y ejercicios** sencillos de programación con Python."
   ]
  },
  {
   "cell_type": "markdown",
   "metadata": {
    "slideshow": {
     "slide_type": "slide"
    }
   },
   "source": [
    "# Contenidos\n",
    "\n",
    "1. [Introducción a Python](intro_python.ipynb)\n",
    "2. [Entorno de desarrollo Jupyter](jupyter.ipynb)\n",
    "3. [Tipos de datos + Estructuras de control condicional](data_types.ipynb)\n",
    "5. [Estructuras de datos + Estructuras de control iterativas](data_structures.ipynb)\n",
    "7. [Funciones y módulos](functions.ipynb)\n",
    "8. [Ficheros](files.ipynb)\n",
    "9. [Programación orientada a objetos](poo.ipynb)\n",
    "10. [Librería estándar](stdlib.ipynb)\n",
    "11. [Librerías de terceros](third_parties.ipynb)"
   ]
  },
  {
   "cell_type": "markdown",
   "metadata": {
    "slideshow": {
     "slide_type": "slide"
    }
   },
   "source": [
    "# Temporalización del curso\n",
    "\n",
    "- Lunes 1 de abril de 2019.\n",
    "- Jueves 4 de abril de 2019.\n",
    "- Viernes 5 de abril de 2019.\n",
    "- Lunes 8 de abril de 2019.\n",
    "- Jueves 11 de abril de 2019.\n",
    "\n",
    "## Horario\n",
    "\n",
    "De **16:00h a 20:00h** (descanso de 17:50h a 18:10h)"
   ]
  },
  {
   "cell_type": "markdown",
   "metadata": {
    "slideshow": {
     "slide_type": "slide"
    }
   },
   "source": [
    "# Lugar\n",
    "\n",
    "![Sala de estudio Cajacanarias](images/intro/sala_cajacanarias.jpg)"
   ]
  },
  {
   "cell_type": "markdown",
   "metadata": {
    "slideshow": {
     "slide_type": "slide"
    }
   },
   "source": [
    "# Ponentes\n",
    "\n",
    "![Ponentes](images/intro/speakers.jpg)"
   ]
  },
  {
   "cell_type": "markdown",
   "metadata": {
    "slideshow": {
     "slide_type": "slide"
    }
   },
   "source": [
    "# Entorno de trabajo\n",
    "---"
   ]
  },
  {
   "cell_type": "markdown",
   "metadata": {
    "slideshow": {
     "slide_type": "subslide"
    }
   },
   "source": [
    "# Descarga de la carpeta del proyecto\n",
    "\n",
    "## Opción A\n",
    "\n",
    "`git clone https://github.com/sdelquin/intropython.git`\n"
   ]
  },
  {
   "cell_type": "markdown",
   "metadata": {
    "slideshow": {
     "slide_type": "-"
    }
   },
   "source": [
    "## Opción B\n",
    "\n",
    "Acceder a https://github.com/sdelquin/intropython y usar el botón de **Download ZIP**:\n",
    "\n",
    "![Descarga Github](images/intro/github_download.png)\n"
   ]
  },
  {
   "cell_type": "markdown",
   "metadata": {
    "slideshow": {
     "slide_type": "subslide"
    }
   },
   "source": [
    "# Instalación del entorno virtual\n",
    "\n",
    "## Requerimientos\n",
    "\n",
    "- [Python 3.7](https://www.python.org/downloads/)\n",
    "- [pip](https://pip.pypa.io/en/stable/installing/)\n",
    "- [pipenv](https://pipenv.readthedocs.io/en/latest/install/#installing-pipenv) (`pip install pipenv`)\n",
    "\n",
    "![Instalando dependencias](images/intro/install_dependencies.png)"
   ]
  }
 ],
 "metadata": {
  "celltoolbar": "Slideshow",
  "kernelspec": {
   "display_name": "Python 3",
   "language": "python",
   "name": "python3"
  },
  "language_info": {
   "codemirror_mode": {
    "name": "ipython",
    "version": 3
   },
   "file_extension": ".py",
   "mimetype": "text/x-python",
   "name": "python",
   "nbconvert_exporter": "python",
   "pygments_lexer": "ipython3",
   "version": "3.7.0"
  }
 },
 "nbformat": 4,
 "nbformat_minor": 2
}
