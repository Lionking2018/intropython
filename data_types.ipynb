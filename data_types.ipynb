{
 "cells": [
  {
   "cell_type": "markdown",
   "metadata": {
    "slideshow": {
     "slide_type": "slide"
    }
   },
   "source": [
    "![Lumber](images/data_types/lumber.jpg)\n",
    "\n",
    "Photo by [Matthaeus](https://unsplash.com/photos/GRXAclOGeOQ?utm_source=unsplash&utm_medium=referral&utm_content=creditCopyText) on [Unsplash](https://unsplash.com/search/photos/structure?utm_source=unsplash&utm_medium=referral&utm_content=creditCopyText)"
   ]
  },
  {
   "cell_type": "markdown",
   "metadata": {
    "slideshow": {
     "slide_type": "slide"
    }
   },
   "source": [
    "# Motivación\n",
    "\n",
    "Como otros lenguajes de programación, Python utiliza los **tipos de datos** para indicar con qué tipo de información va a trabajar (números, textos, etc.), lo que condiciona los valores que puede tomar y qué operaciones podremos realizar sobre ellos. En este apartado veremos los tipos de datos simples y también trabajaremos con otros conceptos básicos, como almacenar datos usando **variables**, cómo mostrar su contenido, operaciones aritméticas básicas, tomar decisiones basadas en estos valores, etc."
   ]
  },
  {
   "cell_type": "markdown",
   "metadata": {
    "slideshow": {
     "slide_type": "slide"
    }
   },
   "source": [
    "# Guión\n",
    "\n",
    "1. Introducción a tipo de datos y variables\n",
    "2. Cadenas de texto\n",
    "3. Números (enteros, decimales, complejos...)\n",
    "4. Booleanos\n",
    "5. Condicionales"
   ]
  },
  {
   "cell_type": "markdown",
   "metadata": {
    "slideshow": {
     "slide_type": "slide"
    }
   },
   "source": [
    "# ¡Vamos a hacer un ejemplo!\n",
    "\n",
    "### *\"Si me lo dices, lo olvido; si me enseñas, lo recuerdo; si me involucras, aprendo...\"*\n",
    "*Fuente: desde Benjamin Franklin hasta Proverbio chino*"
   ]
  },
  {
   "cell_type": "markdown",
   "metadata": {
    "slideshow": {
     "slide_type": "slide"
    }
   },
   "source": [
    "# Mis favoritos de Netflix: `Netflix_favs`\n",
    "![Netflix_favs](images/common/netflix_favs.jpg)\n"
   ]
  },
  {
   "cell_type": "markdown",
   "metadata": {
    "slideshow": {
     "slide_type": "slide"
    }
   },
   "source": [
    "# ¿Qué información quiero guardar?\n",
    "\n",
    "- Título\n",
    "- Número de capítulos\n",
    "- Duración media de cada capítulo (en minutos)\n",
    "- Puntuación\n",
    "- Si la he visto o no\n"
   ]
  },
  {
   "cell_type": "markdown",
   "metadata": {
    "slideshow": {
     "slide_type": "slide"
    }
   },
   "source": [
    "## Hagamos un ejemplo\n",
    "\n",
    "Escoge una serie y escribe esta información"
   ]
  },
  {
   "cell_type": "code",
   "execution_count": 5,
   "metadata": {
    "slideshow": {
     "slide_type": "-"
    }
   },
   "outputs": [
    {
     "ename": "SyntaxError",
     "evalue": "invalid syntax (<ipython-input-5-7cd5312e9573>, line 1)",
     "output_type": "error",
     "traceback": [
      "\u001b[1;36m  File \u001b[1;32m\"<ipython-input-5-7cd5312e9573>\"\u001b[1;36m, line \u001b[1;32m1\u001b[0m\n\u001b[1;33m    titulo = Stranger Things\u001b[0m\n\u001b[1;37m                           ^\u001b[0m\n\u001b[1;31mSyntaxError\u001b[0m\u001b[1;31m:\u001b[0m invalid syntax\n"
     ]
    }
   ],
   "source": [
    "titulo = Stranger Things\n",
    "capitulos = 8\n",
    "duracion media = 50\n",
    "puntuacion = 8.2\n",
    "Vista = no"
   ]
  },
  {
   "cell_type": "markdown",
   "metadata": {
    "slideshow": {
     "slide_type": "slide"
    }
   },
   "source": [
    "## ¿Cómo guardamos esta información?\n",
    "\n",
    "## *Variables*\n",
    "\n",
    "¿Qué es técnicamente una variable? Es un **espacio** en el sistema de almacenaje (memoria principal de un ordenador) y un **nombre** simbólico (un identificador) que está asociado a dicho espacio. Ese espacio contiene una cantidad de información conocida o desconocida, es decir un **valor**.\n",
    "\n",
    "*Fuente [Wikipedia](https://es.wikipedia.org/wiki/Variable_(programaci%C3%B3n))*"
   ]
  },
  {
   "cell_type": "markdown",
   "metadata": {
    "slideshow": {
     "slide_type": "slide"
    }
   },
   "source": [
    "## Las variables tienen una serie de características...\n",
    "\n",
    "- Los identificadores deben estar formados por **letras** (sin símbolos especiales como `ñ`o tildes, etc.), **números** y no se admiten espacios (pero podemos usar el caracter subrayado **`_`**). Las variables **no pueden empezar por número**.\n",
    "- Cada variable tendrá un **tipo** asociado según el valor que vaya almacenar (número, texto, etc.)\n",
    "- El tipo de la variable limitará los datos que puede almacenar y las operaciones que se pueden llevar a cabo\n",
    "- Recuerda: python es fuertemente tipado y con tipado dinámico (¿qué significa esto?)"
   ]
  },
  {
   "cell_type": "markdown",
   "metadata": {
    "slideshow": {
     "slide_type": "slide"
    }
   },
   "source": [
    "# ¿Con qué tipos de datos podemos trabajar en python?\n",
    "\n",
    "Los tipos básicos son los siguientes (los compuestos los veremos más adelante):\n",
    "- Números: enteros, decimales, complejos\n",
    "- Cadenas de texto\n",
    "- Lógicos (sí o no, verdad o falso)\n",
    "\n",
    "Hagamos algunos ejemplos..."
   ]
  },
  {
   "cell_type": "markdown",
   "metadata": {
    "slideshow": {
     "slide_type": "slide"
    }
   },
   "source": [
    "## Cadenas de texto o \"*strings*\" (`str`)\n"
   ]
  },
  {
   "cell_type": "markdown",
   "metadata": {
    "slideshow": {
     "slide_type": "slide"
    }
   },
   "source": [
    "### Ejercicio:\n",
    "Vamos a almacenar el título de las siguientes series:\n",
    "1. `Stranger Things`\n",
    "2. `El proyecto \"Wiliamson\"`\n",
    "3. `Santa Clarita's Diet`\n",
    "4. `Orange's is the \"New\" Black`\n",
    "5. `A Series of \n",
    "  Unfortunate Events`"
   ]
  },
  {
   "cell_type": "code",
   "execution_count": null,
   "metadata": {
    "slideshow": {
     "slide_type": "-"
    }
   },
   "outputs": [],
   "source": []
  },
  {
   "cell_type": "markdown",
   "metadata": {
    "slideshow": {
     "slide_type": "slide"
    }
   },
   "source": [
    "## Números\n",
    "* enteros (`int`)\n",
    "* decimales (`float`)\n",
    "* complejos (`complex`)\n"
   ]
  },
  {
   "cell_type": "markdown",
   "metadata": {
    "slideshow": {
     "slide_type": "slide"
    }
   },
   "source": [
    "### Ejercicio:\n",
    "Para las dos primeras series, vamos a almacenar los capítulos, la duración media y la puntuación\n"
   ]
  },
  {
   "cell_type": "code",
   "execution_count": null,
   "metadata": {
    "slideshow": {
     "slide_type": "-"
    }
   },
   "outputs": [],
   "source": []
  },
  {
   "cell_type": "markdown",
   "metadata": {
    "slideshow": {
     "slide_type": "slide"
    }
   },
   "source": [
    "## Lógicos o \"*booleanos*\" (`bool`)\n"
   ]
  },
  {
   "cell_type": "markdown",
   "metadata": {
    "slideshow": {
     "slide_type": "slide"
    }
   },
   "source": [
    "### Ejercicio:\n",
    "Para las series, indicar cuál hemos visto o no\n"
   ]
  },
  {
   "cell_type": "code",
   "execution_count": null,
   "metadata": {
    "slideshow": {
     "slide_type": "-"
    }
   },
   "outputs": [],
   "source": []
  },
  {
   "cell_type": "markdown",
   "metadata": {
    "slideshow": {
     "slide_type": "slide"
    }
   },
   "source": [
    "## ¿Cómo veo el tipo de una variable?\n",
    "## ¿Cómo muestro el valor de una variable?"
   ]
  },
  {
   "cell_type": "markdown",
   "metadata": {
    "slideshow": {
     "slide_type": "slide"
    }
   },
   "source": [
    "### Ejercicio:\n",
    "\n",
    "Vamos a mostrar el tipo y valor de algunas variables, para ello utilizaremos las siguientes funciones:\n",
    "- `type()`\n",
    "- `print()`"
   ]
  },
  {
   "cell_type": "code",
   "execution_count": null,
   "metadata": {
    "slideshow": {
     "slide_type": "-"
    }
   },
   "outputs": [],
   "source": []
  },
  {
   "cell_type": "markdown",
   "metadata": {
    "slideshow": {
     "slide_type": "slide"
    }
   },
   "source": [
    "## ¿Qué operaciones puedo hacer con las cadenas de texto?\n",
    "\n",
    "- Concatenación: `+`\n",
    "- Repetición:  `*`\n",
    "- Manipulación de cadenas\n",
    " - longitud: `len()`\n",
    " - minúsculas: `.lower()`\n",
    " - mayúsculas: `.upper()`\n",
    " - buscar: `.find()`\n",
    " - cortar: `[ini:fin]`\n",
    " - etc...\n"
   ]
  },
  {
   "cell_type": "markdown",
   "metadata": {
    "slideshow": {
     "slide_type": "slide"
    }
   },
   "source": [
    "### Ejercicios:\n",
    "1. Muestre el resultado de concatener el primer título con el segundo\n",
    "2. Muestre el resultado de repetir el primer título dos veces y concatenarlo con el segundo\n",
    "3. Muestre la longitud del primer título\n",
    "4. Muestre el primer título\n"
   ]
  },
  {
   "cell_type": "code",
   "execution_count": null,
   "metadata": {
    "slideshow": {
     "slide_type": "-"
    }
   },
   "outputs": [],
   "source": []
  },
  {
   "cell_type": "markdown",
   "metadata": {
    "slideshow": {
     "slide_type": "slide"
    }
   },
   "source": [
    "## ¿Qué operaciones puedo hacer con números?\n",
    "\n",
    "- Suma  \n",
    "- Resta\n",
    "- Negativo\n",
    "- Multiplicación\n",
    "- Exponente\n",
    "- División\n",
    "- División entera\n",
    "- Resto\n",
    "- *Operadores de asignación*"
   ]
  },
  {
   "cell_type": "code",
   "execution_count": null,
   "metadata": {
    "slideshow": {
     "slide_type": "-"
    }
   },
   "outputs": [],
   "source": []
  },
  {
   "cell_type": "code",
   "execution_count": null,
   "metadata": {},
   "outputs": [],
   "source": []
  },
  {
   "cell_type": "markdown",
   "metadata": {
    "slideshow": {
     "slide_type": "slide"
    }
   },
   "source": [
    "## ¿Qué operaciones puedo hacer con los lógicos?\n",
    "\n",
    "- Negar\n",
    "- ... y ...\n",
    "- ... o ...\n"
   ]
  },
  {
   "cell_type": "code",
   "execution_count": null,
   "metadata": {
    "slideshow": {
     "slide_type": "-"
    }
   },
   "outputs": [],
   "source": []
  },
  {
   "cell_type": "markdown",
   "metadata": {
    "slideshow": {
     "slide_type": "slide"
    }
   },
   "source": [
    "## Otros operadores\n",
    "\n",
    "- Pertenencia\n",
    "- Identidad\n",
    "- Bits"
   ]
  },
  {
   "cell_type": "code",
   "execution_count": null,
   "metadata": {
    "slideshow": {
     "slide_type": "-"
    }
   },
   "outputs": [],
   "source": []
  },
  {
   "cell_type": "markdown",
   "metadata": {
    "slideshow": {
     "slide_type": "slide"
    }
   },
   "source": [
    "## Combinando tipos...\n",
    "\n",
    "- Cambiando el tipo de las variables\n",
    "- Mostrando mensajes con diferentes tipos\n"
   ]
  },
  {
   "cell_type": "code",
   "execution_count": null,
   "metadata": {
    "slideshow": {
     "slide_type": "-"
    }
   },
   "outputs": [],
   "source": []
  },
  {
   "cell_type": "markdown",
   "metadata": {
    "slideshow": {
     "slide_type": "slide"
    }
   },
   "source": [
    "# Condiciones\n",
    "\n",
    "## ¿Cómo comparo?\n",
    "\n",
    "- Igual\n",
    "- Distinto\n",
    "- Mayor estricto\n",
    "- Mayor o igual\n",
    "- Menor estricto\n",
    "- Menor o igual\n"
   ]
  },
  {
   "cell_type": "code",
   "execution_count": null,
   "metadata": {
    "slideshow": {
     "slide_type": "-"
    }
   },
   "outputs": [],
   "source": []
  }
 ],
 "metadata": {
  "celltoolbar": "Slideshow",
  "kernelspec": {
   "display_name": "Python 3",
   "language": "python",
   "name": "python3"
  },
  "language_info": {
   "codemirror_mode": {
    "name": "ipython",
    "version": 3
   },
   "file_extension": ".py",
   "mimetype": "text/x-python",
   "name": "python",
   "nbconvert_exporter": "python",
   "pygments_lexer": "ipython3",
   "version": "3.7.1"
  }
 },
 "nbformat": 4,
 "nbformat_minor": 2
}
