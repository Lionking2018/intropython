{
 "cells": [
  {
   "cell_type": "markdown",
   "metadata": {
    "slideshow": {
     "slide_type": "slide"
    }
   },
   "source": [
    "![Lumber](images/data_images/lumber.jpg)\n",
    "\n",
    "Photo by [Matthaeus](https://unsplash.com/photos/GRXAclOGeOQ?utm_source=unsplash&utm_medium=referral&utm_content=creditCopyText) on [Unsplash](https://unsplash.com/search/photos/structure?utm_source=unsplash&utm_medium=referral&utm_content=creditCopyText)"
   ]
  },
  {
   "cell_type": "markdown",
   "metadata": {
    "slideshow": {
     "slide_type": "subslide"
    }
   },
   "source": [
    "# Motivación\n",
    "\n",
    "Python, como otros lenguajes de programación, utiliza los **tipos de datos** para indicar cómo va a representar los datos, lo que condiciona los valores que puede tomar y qué operaciones podremos realizar sobre ellos. En este apartado veremos los tipos de datos simples y también trabajaremos con otros conceptos básicos, como almacenar datos usando **variables**, cómo mostrar su contenido, operaciones aritméticas básicas, tomar decisiones basadas en estos valores, etc."
   ]
  },
  {
   "cell_type": "markdown",
   "metadata": {
    "slideshow": {
     "slide_type": "subslide"
    }
   },
   "source": [
    "# Guión\n",
    "\n",
    "1. Introducción a tipo de datos y variables\n",
    "2. Cadenas de texto\n",
    "3. Números (enteros, decimales, complejos...)\n",
    "4. Booleanos\n",
    "5. Condicionales"
   ]
  },
  {
   "cell_type": "markdown",
   "metadata": {
    "slideshow": {
     "slide_type": "slide"
    }
   },
   "source": [
    "# Listas\n",
    "---\n",
    "\n",
    "https://pythonista.io/cursos/py101/tipos-de-datos-basicos-y-operadores"
   ]
  },
  {
   "cell_type": "markdown",
   "metadata": {
    "slideshow": {
     "slide_type": "subslide"
    }
   },
   "source": [
    "# Definición\n",
    "\n",
    "Una lista es una colección ordenada (**secuencia**) de elementos, a priori relacionados conceptualmente, pero no necesariamente de la misma naturaleza (tipo)."
   ]
  },
  {
   "cell_type": "markdown",
   "metadata": {
    "slideshow": {
     "slide_type": "-"
    }
   },
   "source": [
    "## Sintaxis\n",
    "\n",
    "Las listas en Python se definen utilizando corchetes `[` y `]` y separando sus elementos por comas `,`"
   ]
  },
  {
   "cell_type": "markdown",
   "metadata": {
    "slideshow": {
     "slide_type": "subslide"
    }
   },
   "source": [
    "## Ejemplo\n",
    "\n",
    "Supongamos que queremos guardar las 3 series que más nos gustan:"
   ]
  },
  {
   "cell_type": "code",
   "execution_count": 382,
   "metadata": {
    "slideshow": {
     "slide_type": "-"
    }
   },
   "outputs": [],
   "source": [
    "netflix_favs = ['The Umbrella Academy', 'Stranger Things', 'Black Mirror']"
   ]
  },
  {
   "cell_type": "markdown",
   "metadata": {
    "slideshow": {
     "slide_type": "-"
    }
   },
   "source": [
    "Dado que las listas son colecciones de objetos, es una buena práctica darles un **nombre plural**, que represente la generalidad de los elementos que almacena."
   ]
  },
  {
   "cell_type": "markdown",
   "metadata": {
    "slideshow": {
     "slide_type": "-"
    }
   },
   "source": [
    "> [PEP 8](https://www.python.org/dev/peps/pep-0008/) $\\Rightarrow$ Dejar un espacio después de cada coma."
   ]
  },
  {
   "cell_type": "markdown",
   "metadata": {
    "slideshow": {
     "slide_type": "subslide"
    }
   },
   "source": [
    "# Accediendo a cada elemento de una lista\n",
    "\n",
    "Cada elemento en una lista ocupa una posición determinada. Python se dice que es de **índice-0** de tal forma que el primer elemento de una secuencia (véase *strings*) empieza en 0.\n",
    "\n",
    "Para acceder al elemento que ocupa la posición $i$ tendremos que usar corchetes y la variable $i$, que se denomina el **índice** de la lista."
   ]
  },
  {
   "cell_type": "code",
   "execution_count": 383,
   "metadata": {
    "slideshow": {
     "slide_type": "-"
    }
   },
   "outputs": [
    {
     "data": {
      "text/plain": [
       "['The Umbrella Academy', 'Stranger Things', 'Black Mirror']"
      ]
     },
     "execution_count": 383,
     "metadata": {},
     "output_type": "execute_result"
    }
   ],
   "source": [
    "netflix_favs"
   ]
  },
  {
   "cell_type": "markdown",
   "metadata": {
    "slideshow": {
     "slide_type": "-"
    }
   },
   "source": [
    "![List anatomy](images/data_structures/list_anatomy.png)"
   ]
  },
  {
   "cell_type": "markdown",
   "metadata": {
    "slideshow": {
     "slide_type": "subslide"
    }
   },
   "source": [
    "![List anatomy](images/data_structures/list_anatomy_pa.png)"
   ]
  },
  {
   "cell_type": "code",
   "execution_count": 384,
   "metadata": {
    "slideshow": {
     "slide_type": "-"
    }
   },
   "outputs": [
    {
     "data": {
      "text/plain": [
       "'The Umbrella Academy'"
      ]
     },
     "execution_count": 384,
     "metadata": {},
     "output_type": "execute_result"
    }
   ],
   "source": [
    "netflix_favs[0]"
   ]
  },
  {
   "cell_type": "code",
   "execution_count": 385,
   "metadata": {
    "slideshow": {
     "slide_type": "-"
    }
   },
   "outputs": [
    {
     "data": {
      "text/plain": [
       "'Stranger Things'"
      ]
     },
     "execution_count": 385,
     "metadata": {},
     "output_type": "execute_result"
    }
   ],
   "source": [
    "netflix_favs[1]"
   ]
  },
  {
   "cell_type": "code",
   "execution_count": 386,
   "metadata": {
    "slideshow": {
     "slide_type": "-"
    }
   },
   "outputs": [
    {
     "data": {
      "text/plain": [
       "'Black Mirror'"
      ]
     },
     "execution_count": 386,
     "metadata": {},
     "output_type": "execute_result"
    }
   ],
   "source": [
    "netflix_favs[2]"
   ]
  },
  {
   "cell_type": "markdown",
   "metadata": {
    "slideshow": {
     "slide_type": "subslide"
    }
   },
   "source": [
    "![List anatomy](images/data_structures/list_anatomy_na.png)"
   ]
  },
  {
   "cell_type": "code",
   "execution_count": 387,
   "metadata": {
    "slideshow": {
     "slide_type": "-"
    }
   },
   "outputs": [
    {
     "data": {
      "text/plain": [
       "'Black Mirror'"
      ]
     },
     "execution_count": 387,
     "metadata": {},
     "output_type": "execute_result"
    }
   ],
   "source": [
    "netflix_favs[-1]"
   ]
  },
  {
   "cell_type": "code",
   "execution_count": 388,
   "metadata": {
    "slideshow": {
     "slide_type": "-"
    }
   },
   "outputs": [
    {
     "data": {
      "text/plain": [
       "'Stranger Things'"
      ]
     },
     "execution_count": 388,
     "metadata": {},
     "output_type": "execute_result"
    }
   ],
   "source": [
    "netflix_favs[-2]"
   ]
  },
  {
   "cell_type": "code",
   "execution_count": 389,
   "metadata": {
    "slideshow": {
     "slide_type": "-"
    }
   },
   "outputs": [
    {
     "data": {
      "text/plain": [
       "'The Umbrella Academy'"
      ]
     },
     "execution_count": 389,
     "metadata": {},
     "output_type": "execute_result"
    }
   ],
   "source": [
    "netflix_favs[-3]"
   ]
  },
  {
   "cell_type": "markdown",
   "metadata": {
    "slideshow": {
     "slide_type": "subslide"
    }
   },
   "source": [
    "# `IndexError`\n",
    "\n",
    "Si tratamos de acceder a un elemento que no existe en la lista, obtendremos un error (excepción) explicando que el índice está fuera de rango:"
   ]
  },
  {
   "cell_type": "code",
   "execution_count": 391,
   "metadata": {
    "scrolled": true,
    "slideshow": {
     "slide_type": "-"
    },
    "tags": [
     "raises-exception"
    ]
   },
   "outputs": [
    {
     "ename": "IndexError",
     "evalue": "list index out of range",
     "output_type": "error",
     "traceback": [
      "\u001b[0;31m---------------------------------------------------------------------------\u001b[0m",
      "\u001b[0;31mIndexError\u001b[0m                                Traceback (most recent call last)",
      "\u001b[0;32m<ipython-input-391-dc8448b444a1>\u001b[0m in \u001b[0;36m<module>\u001b[0;34m\u001b[0m\n\u001b[0;32m----> 1\u001b[0;31m \u001b[0mnetflix_favs\u001b[0m\u001b[0;34m[\u001b[0m\u001b[0;36m3\u001b[0m\u001b[0;34m]\u001b[0m\u001b[0;34m\u001b[0m\u001b[0m\n\u001b[0m",
      "\u001b[0;31mIndexError\u001b[0m: list index out of range"
     ]
    }
   ],
   "source": [
    "netflix_favs[3]"
   ]
  },
  {
   "cell_type": "markdown",
   "metadata": {
    "slideshow": {
     "slide_type": "-"
    }
   },
   "source": [
    "![Error](images/common/error.gif)"
   ]
  },
  {
   "cell_type": "markdown",
   "metadata": {
    "slideshow": {
     "slide_type": "subslide"
    }
   },
   "source": [
    "# Accediendo a todos los elementos de una lista\n",
    "\n",
    "Si quisiéramos imprimir nuestras series favoritas, no habría demasiado problema:"
   ]
  },
  {
   "cell_type": "code",
   "execution_count": 392,
   "metadata": {
    "slideshow": {
     "slide_type": "-"
    }
   },
   "outputs": [
    {
     "name": "stdout",
     "output_type": "stream",
     "text": [
      "The Umbrella Academy\n"
     ]
    }
   ],
   "source": [
    "print(netflix_favs[0])"
   ]
  },
  {
   "cell_type": "code",
   "execution_count": 393,
   "metadata": {
    "slideshow": {
     "slide_type": "-"
    }
   },
   "outputs": [
    {
     "name": "stdout",
     "output_type": "stream",
     "text": [
      "Stranger Things\n"
     ]
    }
   ],
   "source": [
    "print(netflix_favs[1])"
   ]
  },
  {
   "cell_type": "code",
   "execution_count": 394,
   "metadata": {
    "slideshow": {
     "slide_type": "-"
    }
   },
   "outputs": [
    {
     "name": "stdout",
     "output_type": "stream",
     "text": [
      "Black Mirror\n"
     ]
    }
   ],
   "source": [
    "print(netflix_favs[2])"
   ]
  },
  {
   "cell_type": "markdown",
   "metadata": {
    "slideshow": {
     "slide_type": "subslide"
    }
   },
   "source": [
    "Pero ahora imaginemos que, después de varios años de uso de Netflix, ya tenemos cientos de series almacenadas en nuestro *Netflix-favs*. No tendría ningún sentido estar escribiendo cientos de *print* para mostrarlas.\n",
    "\n",
    "Para solucionar esto existen las **sentencias iterativas**, y en concreto, el **bucle for**:"
   ]
  },
  {
   "cell_type": "code",
   "execution_count": 395,
   "metadata": {
    "slideshow": {
     "slide_type": "-"
    }
   },
   "outputs": [
    {
     "name": "stdout",
     "output_type": "stream",
     "text": [
      "The Umbrella Academy\n",
      "Stranger Things\n",
      "Black Mirror\n"
     ]
    }
   ],
   "source": [
    "for serie in netflix_favs:\n",
    "    print(serie)"
   ]
  },
  {
   "cell_type": "markdown",
   "metadata": {
    "slideshow": {
     "slide_type": "-"
    }
   },
   "source": [
    "- La palabra clave `for` indica que se va a empezar un bucle.\n",
    "- La variable *serie* es una variable temporal que va tomando los elementos de la lista en cada *iteración* del bucle.\n",
    "    - En la primera iteración el valor de la variable *serie* es `'The Umbrella Academy'`\n",
    "    - En la segunda iteración el valor de la variable *serie* es `'Stranger Things'`.\n",
    "    - En la tercera iteración el valor de la variable *serie* es `'Black Mirror'`.\n",
    "- Después de esto no hay más elementos en `netflix_favs` y por lo tanto, el bucle termina."
   ]
  },
  {
   "cell_type": "markdown",
   "metadata": {
    "slideshow": {
     "slide_type": "subslide"
    }
   },
   "source": [
    "# Haciendo más cosas en cada iteración\n",
    "\n",
    "No estamos limitados a imprimir únicamente el valor de una variable dentro de un bucle. Podemos hacer mucho más que eso:"
   ]
  },
  {
   "cell_type": "code",
   "execution_count": 396,
   "metadata": {
    "slideshow": {
     "slide_type": "-"
    }
   },
   "outputs": [
    {
     "name": "stdout",
     "output_type": "stream",
     "text": [
      "Me gusta --> The Umbrella Academy\n",
      "Me gusta --> Stranger Things\n",
      "Me gusta --> Black Mirror\n"
     ]
    }
   ],
   "source": [
    "for serie in netflix_favs:\n",
    "    print(f'Me gusta --> {serie}')"
   ]
  },
  {
   "cell_type": "markdown",
   "metadata": {
    "slideshow": {
     "slide_type": "subslide"
    }
   },
   "source": [
    "# Controlando el contexto del bucle\n",
    "\n",
    "Python usa la **indentación** como mecanismo para indicar los bloques que están dentro de otros:"
   ]
  },
  {
   "cell_type": "code",
   "execution_count": 397,
   "metadata": {
    "slideshow": {
     "slide_type": "-"
    }
   },
   "outputs": [
    {
     "name": "stdout",
     "output_type": "stream",
     "text": [
      "Aquí van mis series favoritas de Netflix:\n",
      "Me gusta:\n",
      "The Umbrella Academy\n",
      "Me gusta:\n",
      "Stranger Things\n",
      "Me gusta:\n",
      "Black Mirror\n",
      "Y eso es todo amigxs!\n"
     ]
    }
   ],
   "source": [
    "print('Aquí van mis series favoritas de Netflix:')\n",
    "for serie in netflix_favs:\n",
    "    print('Me gusta:')\n",
    "    print(serie)\n",
    "print('Y eso es todo amigxs!')"
   ]
  },
  {
   "cell_type": "markdown",
   "metadata": {
    "slideshow": {
     "slide_type": "-"
    }
   },
   "source": [
    "> [PEP 8](https://www.python.org/dev/peps/pep-0008/) $\\Rightarrow$ Se recomienda usar **1 tabulador $\\approx$ 4 espacios** para indentar los bloques de código."
   ]
  },
  {
   "cell_type": "markdown",
   "metadata": {
    "slideshow": {
     "slide_type": "subslide"
    }
   },
   "source": [
    "# El bucle `while`\n",
    "\n",
    "En Python sólo existen dos formas de iterar, mediante un bucle `for` o mediante un bucle `while`. Este último bucle no recorre una colección sino que establece una condición de salida.\n",
    "\n",
    "Supongamos que queremos recorrer nuestro *Netflix-favs* e imprimir las series, pero parando cuando la longitud del título de la serie sea menor o igual que 14:"
   ]
  },
  {
   "cell_type": "code",
   "execution_count": 398,
   "metadata": {
    "slideshow": {
     "slide_type": "-"
    }
   },
   "outputs": [
    {
     "name": "stdout",
     "output_type": "stream",
     "text": [
      "The Umbrella Academy\n",
      "Stranger Things\n"
     ]
    }
   ],
   "source": [
    "i = 0\n",
    "while len(netflix_favs[i]) > 14:\n",
    "    print(netflix_favs[i])\n",
    "    i += 1"
   ]
  },
  {
   "cell_type": "markdown",
   "metadata": {
    "slideshow": {
     "slide_type": "subslide"
    }
   },
   "source": [
    "# Enumerando una lista"
   ]
  },
  {
   "cell_type": "markdown",
   "metadata": {
    "slideshow": {
     "slide_type": "-"
    }
   },
   "source": [
    "Al iterar sobre una lista es posible querer conocer el índice del elemento actual. La función `enumerate` nos proporciona precisamente esto:"
   ]
  },
  {
   "cell_type": "code",
   "execution_count": 202,
   "metadata": {
    "slideshow": {
     "slide_type": "-"
    }
   },
   "outputs": [
    {
     "name": "stdout",
     "output_type": "stream",
     "text": [
      "Aquí van mis series favoritas de Netflix por orden de preferencia:\n",
      "1: The Umbrella Academy\n",
      "2: Stranger Things\n",
      "3: Black Mirror\n"
     ]
    }
   ],
   "source": [
    "print('Aquí van mis series favoritas de Netflix por orden de preferencia:')\n",
    "for i, serie in enumerate(netflix_favs):\n",
    "    position = i + 1\n",
    "    print(f'{position}: {serie}')"
   ]
  },
  {
   "cell_type": "markdown",
   "metadata": {
    "slideshow": {
     "slide_type": "-"
    }
   },
   "source": [
    "- La variable `i` toma los índices ($0, 1, 2, \\ldots$), mientras que la variable `serie` toma los elementos de la lista.\n",
    "- Como siempre, el índice empieza en 0. Esto hay que tenerlo en cuenta."
   ]
  },
  {
   "cell_type": "markdown",
   "metadata": {
    "slideshow": {
     "slide_type": "subslide"
    }
   },
   "source": [
    "# Controlando el flujo del bucle\n",
    "\n",
    "Python permite usar dos palabras clave dentro de un bucle para controlar su flujo: **break** y **continue**.\n",
    "\n",
    "## `break`\n",
    "\n",
    "Se usa para romper inmediatamente el bucle y salir:\n",
    "\n",
    "![break](images/data_structures/break.png)"
   ]
  },
  {
   "cell_type": "markdown",
   "metadata": {
    "slideshow": {
     "slide_type": "subslide"
    }
   },
   "source": [
    "## `continue`\n",
    "\n",
    "Se usa para saltar la iteración actual y continuar a la siguiente:\n",
    "\n",
    "![continue](images/data_structures/continue.png)"
   ]
  },
  {
   "cell_type": "markdown",
   "metadata": {
    "slideshow": {
     "slide_type": "subslide"
    }
   },
   "source": [
    "# Operaciones comunes en listas\n",
    "\n",
    "## Modificando elementos de una lista\n",
    "\n",
    "Supongamos que tus gustos han cambiado, y que ahora te gusta más *The Crown* que *The Umbrella Academy*. Podemos modificar este elemento de la lista de la siguiente forma:"
   ]
  },
  {
   "cell_type": "code",
   "execution_count": 203,
   "metadata": {
    "slideshow": {
     "slide_type": "-"
    }
   },
   "outputs": [
    {
     "data": {
      "text/plain": [
       "['The Crown', 'Stranger Things', 'Black Mirror']"
      ]
     },
     "execution_count": 203,
     "metadata": {},
     "output_type": "execute_result"
    }
   ],
   "source": [
    "netflix_favs[0] = 'The Crown'\n",
    "netflix_favs"
   ]
  },
  {
   "cell_type": "markdown",
   "metadata": {
    "slideshow": {
     "slide_type": "-"
    }
   },
   "source": [
    "> Para modificar un elemento de una lista debemos acceder mediante su índice."
   ]
  },
  {
   "cell_type": "markdown",
   "metadata": {
    "slideshow": {
     "slide_type": "subslide"
    }
   },
   "source": [
    "# Encontrando un elemento en una lista\n",
    "\n",
    "Sé cuáles son mis series favoritas, pero no recuerdo exactamente qué posición ocupa *Black Mirror* dentro de mi *Netflix-favs*. Puedo encontrar un elemento de una lista de la siguiente forma:"
   ]
  },
  {
   "cell_type": "code",
   "execution_count": 204,
   "metadata": {
    "slideshow": {
     "slide_type": "-"
    }
   },
   "outputs": [
    {
     "data": {
      "text/plain": [
       "['The Crown', 'Stranger Things', 'Black Mirror']"
      ]
     },
     "execution_count": 204,
     "metadata": {},
     "output_type": "execute_result"
    }
   ],
   "source": [
    "netflix_favs"
   ]
  },
  {
   "cell_type": "code",
   "execution_count": 205,
   "metadata": {
    "slideshow": {
     "slide_type": "-"
    }
   },
   "outputs": [
    {
     "data": {
      "text/plain": [
       "2"
      ]
     },
     "execution_count": 205,
     "metadata": {},
     "output_type": "execute_result"
    }
   ],
   "source": [
    "netflix_favs.index('Black Mirror')"
   ]
  },
  {
   "cell_type": "markdown",
   "metadata": {
    "slideshow": {
     "slide_type": "-"
    }
   },
   "source": [
    "> Como siempre, recordar que Python es **índice-0**, con lo cual *Black Mirror* ocuparía la tercera posición ($2 + 1$)"
   ]
  },
  {
   "cell_type": "markdown",
   "metadata": {
    "slideshow": {
     "slide_type": "subslide"
    }
   },
   "source": [
    "# `ValueError`"
   ]
  },
  {
   "cell_type": "markdown",
   "metadata": {
    "slideshow": {
     "slide_type": "-"
    }
   },
   "source": [
    "Un momento, yo recuerdo que en algún momento me gustó *The Umbrella Academy*, vamos a buscarla en nuestro *Netflix-favs*:"
   ]
  },
  {
   "cell_type": "code",
   "execution_count": 206,
   "metadata": {
    "slideshow": {
     "slide_type": "-"
    },
    "tags": [
     "raises-exception"
    ]
   },
   "outputs": [
    {
     "ename": "ValueError",
     "evalue": "'The Umbrella Academy' is not in list",
     "output_type": "error",
     "traceback": [
      "\u001b[0;31m---------------------------------------------------------------------------\u001b[0m",
      "\u001b[0;31mValueError\u001b[0m                                Traceback (most recent call last)",
      "\u001b[0;32m<ipython-input-206-99fba6eddb89>\u001b[0m in \u001b[0;36m<module>\u001b[0;34m\u001b[0m\n\u001b[0;32m----> 1\u001b[0;31m \u001b[0mnetflix_favs\u001b[0m\u001b[0;34m.\u001b[0m\u001b[0mindex\u001b[0m\u001b[0;34m(\u001b[0m\u001b[0;34m'The Umbrella Academy'\u001b[0m\u001b[0;34m)\u001b[0m\u001b[0;34m\u001b[0m\u001b[0m\n\u001b[0m",
      "\u001b[0;31mValueError\u001b[0m: 'The Umbrella Academy' is not in list"
     ]
    }
   ],
   "source": [
    "netflix_favs.index('The Umbrella Academy')"
   ]
  },
  {
   "cell_type": "markdown",
   "metadata": {
    "slideshow": {
     "slide_type": "-"
    }
   },
   "source": [
    "Cuando el elemento que buscamos no existe en nuestra lista, Python nos devuelve una excepción de tipo `ValueError`.\n",
    "![Error](images/common/error.gif)"
   ]
  },
  {
   "cell_type": "markdown",
   "metadata": {
    "slideshow": {
     "slide_type": "subslide"
    }
   },
   "source": [
    "# Comprobando si un elemento está en una lista\n",
    "\n",
    "Supongamos que quiero saber si *Mindhunter* está dentro de mis series favoritas:"
   ]
  },
  {
   "cell_type": "code",
   "execution_count": 207,
   "metadata": {
    "slideshow": {
     "slide_type": "-"
    }
   },
   "outputs": [
    {
     "data": {
      "text/plain": [
       "['The Crown', 'Stranger Things', 'Black Mirror']"
      ]
     },
     "execution_count": 207,
     "metadata": {},
     "output_type": "execute_result"
    }
   ],
   "source": [
    "netflix_favs"
   ]
  },
  {
   "cell_type": "code",
   "execution_count": 208,
   "metadata": {
    "slideshow": {
     "slide_type": "-"
    }
   },
   "outputs": [
    {
     "data": {
      "text/plain": [
       "False"
      ]
     },
     "execution_count": 208,
     "metadata": {},
     "output_type": "execute_result"
    }
   ],
   "source": [
    "'Mindhunter' in netflix_favs"
   ]
  },
  {
   "cell_type": "code",
   "execution_count": 209,
   "metadata": {
    "slideshow": {
     "slide_type": "-"
    }
   },
   "outputs": [
    {
     "data": {
      "text/plain": [
       "True"
      ]
     },
     "execution_count": 209,
     "metadata": {},
     "output_type": "execute_result"
    }
   ],
   "source": [
    "'Stranger Things' in netflix_favs"
   ]
  },
  {
   "cell_type": "markdown",
   "metadata": {
    "slideshow": {
     "slide_type": "-"
    }
   },
   "source": [
    "Utilizando el operador `in` podemos comprobar si un elemento pertenece a una lista."
   ]
  },
  {
   "cell_type": "markdown",
   "metadata": {
    "slideshow": {
     "slide_type": "subslide"
    }
   },
   "source": [
    "# Añadiendo elementos al final de una lista\n",
    "\n",
    "Acabo de descubrir *House of Cards* y me parece una serie de culto. No cabe duda de que voy a añadirla a mis series favoritas de Netflix:"
   ]
  },
  {
   "cell_type": "code",
   "execution_count": 210,
   "metadata": {
    "slideshow": {
     "slide_type": "-"
    }
   },
   "outputs": [
    {
     "data": {
      "text/plain": [
       "['The Crown', 'Stranger Things', 'Black Mirror', 'House of Cards']"
      ]
     },
     "execution_count": 210,
     "metadata": {},
     "output_type": "execute_result"
    }
   ],
   "source": [
    "netflix_favs.append('House of Cards')\n",
    "netflix_favs"
   ]
  },
  {
   "cell_type": "markdown",
   "metadata": {
    "slideshow": {
     "slide_type": "-"
    }
   },
   "source": [
    "El método `append` nos permite añadir elementos al final de una lista."
   ]
  },
  {
   "cell_type": "markdown",
   "metadata": {
    "slideshow": {
     "slide_type": "subslide"
    }
   },
   "source": [
    "# Insertando elementos en una lista\n",
    "\n",
    "Supongamos que he visto recientemente *Jessica Jones* y me ha gustado mucho. De hecho, la quiero incluir en mi *Netflix-favs*.\n",
    "\n",
    "Me gusta más que *Stranger Things* pero menos que *The Crown*. Así que la voy a insertar en medio:"
   ]
  },
  {
   "cell_type": "code",
   "execution_count": 211,
   "metadata": {
    "slideshow": {
     "slide_type": "-"
    }
   },
   "outputs": [
    {
     "data": {
      "text/plain": [
       "['The Crown', 'Stranger Things', 'Black Mirror', 'House of Cards']"
      ]
     },
     "execution_count": 211,
     "metadata": {},
     "output_type": "execute_result"
    }
   ],
   "source": [
    "netflix_favs"
   ]
  },
  {
   "cell_type": "code",
   "execution_count": 212,
   "metadata": {
    "slideshow": {
     "slide_type": "-"
    }
   },
   "outputs": [
    {
     "data": {
      "text/plain": [
       "['The Crown',\n",
       " 'Jessica Jones',\n",
       " 'Stranger Things',\n",
       " 'Black Mirror',\n",
       " 'House of Cards']"
      ]
     },
     "execution_count": 212,
     "metadata": {},
     "output_type": "execute_result"
    }
   ],
   "source": [
    "netflix_favs.insert(1, 'Jessica Jones')\n",
    "netflix_favs"
   ]
  },
  {
   "cell_type": "markdown",
   "metadata": {
    "slideshow": {
     "slide_type": "-"
    }
   },
   "source": [
    "Podemos usar el método `insert` indicando la posición (índice), a la izquierda de la cual se insertará el elemento que queramos."
   ]
  },
  {
   "cell_type": "markdown",
   "metadata": {
    "slideshow": {
     "slide_type": "subslide"
    }
   },
   "source": [
    "# Creando una lista vacía"
   ]
  },
  {
   "cell_type": "markdown",
   "metadata": {
    "slideshow": {
     "slide_type": "-"
    }
   },
   "source": [
    "Hasta ahora hemos partido de una lista creada desde el principio con elementos. Pero volvamos al pasado, a cuando empezamos a ver series en Netflix. En ese momento no teníamos aún ninguna serie favorita. Por lo tanto:"
   ]
  },
  {
   "cell_type": "code",
   "execution_count": 213,
   "metadata": {
    "scrolled": true,
    "slideshow": {
     "slide_type": "-"
    }
   },
   "outputs": [
    {
     "name": "stdout",
     "output_type": "stream",
     "text": [
      "Me gusta: Stranger Things\n",
      "Me gusta: House of Cards\n",
      "Me gusta: Jessica Jones\n"
     ]
    }
   ],
   "source": [
    "# Crea una lista vacía de nuestras series favoritas en Netflix\n",
    "netflix_favs = []\n",
    "\n",
    "netflix_favs.append('Stranger Things')\n",
    "netflix_favs.append('House of Cards')\n",
    "netflix_favs.append('Jessica Jones')\n",
    "\n",
    "for serie in netflix_favs:\n",
    "    print(f'Me gusta: {serie}')"
   ]
  },
  {
   "cell_type": "markdown",
   "metadata": {
    "slideshow": {
     "slide_type": "subslide"
    }
   },
   "source": [
    "# Ordenando una lista\n",
    "\n",
    "Podemos ordenar una lista alfabéticamente, en cualquier orden:"
   ]
  },
  {
   "cell_type": "code",
   "execution_count": 214,
   "metadata": {
    "slideshow": {
     "slide_type": "-"
    }
   },
   "outputs": [
    {
     "data": {
      "text/plain": [
       "['Stranger Things', 'House of Cards', 'Jessica Jones']"
      ]
     },
     "execution_count": 214,
     "metadata": {},
     "output_type": "execute_result"
    }
   ],
   "source": [
    "netflix_favs"
   ]
  },
  {
   "cell_type": "code",
   "execution_count": 215,
   "metadata": {
    "slideshow": {
     "slide_type": "-"
    }
   },
   "outputs": [
    {
     "name": "stdout",
     "output_type": "stream",
     "text": [
      "House of Cards\n",
      "Jessica Jones\n",
      "Stranger Things\n"
     ]
    }
   ],
   "source": [
    "for serie in sorted(netflix_favs):\n",
    "    print(serie)"
   ]
  },
  {
   "cell_type": "code",
   "execution_count": 216,
   "metadata": {
    "slideshow": {
     "slide_type": "-"
    }
   },
   "outputs": [
    {
     "name": "stdout",
     "output_type": "stream",
     "text": [
      "Stranger Things\n",
      "Jessica Jones\n",
      "House of Cards\n"
     ]
    }
   ],
   "source": [
    "for serie in sorted(netflix_favs, reverse=True):\n",
    "    print(serie)"
   ]
  },
  {
   "cell_type": "code",
   "execution_count": 217,
   "metadata": {
    "slideshow": {
     "slide_type": "-"
    }
   },
   "outputs": [
    {
     "data": {
      "text/plain": [
       "['Stranger Things', 'House of Cards', 'Jessica Jones']"
      ]
     },
     "execution_count": 217,
     "metadata": {},
     "output_type": "execute_result"
    }
   ],
   "source": [
    "netflix_favs"
   ]
  },
  {
   "cell_type": "markdown",
   "metadata": {
    "slideshow": {
     "slide_type": "subslide"
    }
   },
   "source": [
    "## Ordenando con modificación de la lista\n",
    "\n",
    "Si utilizamos el método `sort()` estaremos modificando el orden de la lista original:"
   ]
  },
  {
   "cell_type": "code",
   "execution_count": 218,
   "metadata": {
    "slideshow": {
     "slide_type": "-"
    }
   },
   "outputs": [
    {
     "data": {
      "text/plain": [
       "['Stranger Things', 'House of Cards', 'Jessica Jones']"
      ]
     },
     "execution_count": 218,
     "metadata": {},
     "output_type": "execute_result"
    }
   ],
   "source": [
    "netflix_favs"
   ]
  },
  {
   "cell_type": "code",
   "execution_count": 219,
   "metadata": {
    "slideshow": {
     "slide_type": "-"
    }
   },
   "outputs": [],
   "source": [
    "netflix_favs.sort()"
   ]
  },
  {
   "cell_type": "code",
   "execution_count": 220,
   "metadata": {},
   "outputs": [
    {
     "data": {
      "text/plain": [
       "['House of Cards', 'Jessica Jones', 'Stranger Things']"
      ]
     },
     "execution_count": 220,
     "metadata": {},
     "output_type": "execute_result"
    }
   ],
   "source": [
    "netflix_favs"
   ]
  },
  {
   "cell_type": "markdown",
   "metadata": {
    "slideshow": {
     "slide_type": "subslide"
    }
   },
   "source": [
    "# Invirtiendo los elementos de una lista\n",
    "\n",
    "Supongamos que queremos modificar nuestro orden de preferencia de las series que más nos gustan. Podemos hacerlo de la siguiente manera:"
   ]
  },
  {
   "cell_type": "code",
   "execution_count": 221,
   "metadata": {
    "slideshow": {
     "slide_type": "-"
    }
   },
   "outputs": [
    {
     "data": {
      "text/plain": [
       "['House of Cards', 'Jessica Jones', 'Stranger Things']"
      ]
     },
     "execution_count": 221,
     "metadata": {},
     "output_type": "execute_result"
    }
   ],
   "source": [
    "netflix_favs"
   ]
  },
  {
   "cell_type": "code",
   "execution_count": 222,
   "metadata": {},
   "outputs": [],
   "source": [
    "netflix_favs.reverse()"
   ]
  },
  {
   "cell_type": "code",
   "execution_count": 223,
   "metadata": {},
   "outputs": [
    {
     "data": {
      "text/plain": [
       "['Stranger Things', 'Jessica Jones', 'House of Cards']"
      ]
     },
     "execution_count": 223,
     "metadata": {},
     "output_type": "execute_result"
    }
   ],
   "source": [
    "netflix_favs"
   ]
  },
  {
   "cell_type": "markdown",
   "metadata": {},
   "source": [
    "> Nótese que `reverse()` es un método con *cambios permanentes* que modifica el orden original de la lista."
   ]
  },
  {
   "cell_type": "markdown",
   "metadata": {
    "slideshow": {
     "slide_type": "subslide"
    }
   },
   "source": [
    "# Encontrando la longitud de una lista\n",
    "\n",
    "Al principio es sencillo contabilizar cuántas series favoritas tenemos en nuestro *Netflix-favs*, pero a medida que crece la lista se hace más complicado. Podemos obtener la longitud de una lista de manera sencilla:"
   ]
  },
  {
   "cell_type": "code",
   "execution_count": 224,
   "metadata": {
    "slideshow": {
     "slide_type": "-"
    }
   },
   "outputs": [
    {
     "data": {
      "text/plain": [
       "['Stranger Things', 'Jessica Jones', 'House of Cards']"
      ]
     },
     "execution_count": 224,
     "metadata": {},
     "output_type": "execute_result"
    }
   ],
   "source": [
    "netflix_favs"
   ]
  },
  {
   "cell_type": "code",
   "execution_count": 225,
   "metadata": {
    "slideshow": {
     "slide_type": "-"
    }
   },
   "outputs": [
    {
     "data": {
      "text/plain": [
       "3"
      ]
     },
     "execution_count": 225,
     "metadata": {},
     "output_type": "execute_result"
    }
   ],
   "source": [
    "len(netflix_favs)"
   ]
  },
  {
   "cell_type": "markdown",
   "metadata": {
    "slideshow": {
     "slide_type": "-"
    }
   },
   "source": [
    "> La función `len` devuelve un **número entero**."
   ]
  },
  {
   "cell_type": "markdown",
   "metadata": {
    "slideshow": {
     "slide_type": "subslide"
    }
   },
   "source": [
    "# Borrando elementos de una lista\n",
    "\n",
    "## Borrando elementos por posición\n",
    "\n",
    "Supongamos que en nuestro *Netflix-favs* nos ha dejado de gustar nuestra serie favorita. Eso implica borrar el primer elemento de la lista:"
   ]
  },
  {
   "cell_type": "code",
   "execution_count": 226,
   "metadata": {
    "slideshow": {
     "slide_type": "-"
    }
   },
   "outputs": [
    {
     "data": {
      "text/plain": [
       "['Stranger Things', 'Jessica Jones', 'House of Cards']"
      ]
     },
     "execution_count": 226,
     "metadata": {},
     "output_type": "execute_result"
    }
   ],
   "source": [
    "netflix_favs"
   ]
  },
  {
   "cell_type": "code",
   "execution_count": 227,
   "metadata": {
    "slideshow": {
     "slide_type": "-"
    }
   },
   "outputs": [],
   "source": [
    "del(netflix_favs[0])"
   ]
  },
  {
   "cell_type": "code",
   "execution_count": 228,
   "metadata": {
    "slideshow": {
     "slide_type": "-"
    }
   },
   "outputs": [
    {
     "data": {
      "text/plain": [
       "['Jessica Jones', 'House of Cards']"
      ]
     },
     "execution_count": 228,
     "metadata": {},
     "output_type": "execute_result"
    }
   ],
   "source": [
    "netflix_favs"
   ]
  },
  {
   "cell_type": "markdown",
   "metadata": {
    "slideshow": {
     "slide_type": "subslide"
    }
   },
   "source": [
    "## Borrando elementos por valor\n",
    "\n",
    "Supongamos que, en esta racha negativa, deja también de gustarnos *House of Cards*. Podemos borrar esta serie usando su nombre:"
   ]
  },
  {
   "cell_type": "code",
   "execution_count": 229,
   "metadata": {
    "slideshow": {
     "slide_type": "-"
    }
   },
   "outputs": [
    {
     "data": {
      "text/plain": [
       "['Jessica Jones', 'House of Cards']"
      ]
     },
     "execution_count": 229,
     "metadata": {},
     "output_type": "execute_result"
    }
   ],
   "source": [
    "netflix_favs"
   ]
  },
  {
   "cell_type": "code",
   "execution_count": 230,
   "metadata": {
    "slideshow": {
     "slide_type": "-"
    }
   },
   "outputs": [],
   "source": [
    "netflix_favs.remove('House of Cards')"
   ]
  },
  {
   "cell_type": "code",
   "execution_count": 231,
   "metadata": {
    "slideshow": {
     "slide_type": "-"
    }
   },
   "outputs": [
    {
     "data": {
      "text/plain": [
       "['Jessica Jones']"
      ]
     },
     "execution_count": 231,
     "metadata": {},
     "output_type": "execute_result"
    }
   ],
   "source": [
    "netflix_favs"
   ]
  },
  {
   "cell_type": "markdown",
   "metadata": {
    "slideshow": {
     "slide_type": "-"
    }
   },
   "source": [
    "> Si utlizamos el método `remove` sólo se borrará el primer elemento con el valor indicado."
   ]
  },
  {
   "cell_type": "markdown",
   "metadata": {
    "slideshow": {
     "slide_type": "subslide"
    }
   },
   "source": [
    "## Extrayendo elementos de una lista\n",
    "\n",
    "Supongamos que queremos ver la serie que menos nos gusta de las que están en nuestro *Netflix-favs*, pero una vez vista queremos quitarla de dicha lista.\n",
    "\n",
    "Hay una forma en Python de extraer un elemento de una lista y devolverlo a la vez:"
   ]
  },
  {
   "cell_type": "code",
   "execution_count": 232,
   "metadata": {
    "slideshow": {
     "slide_type": "-"
    }
   },
   "outputs": [],
   "source": [
    "netflix_favs = ['You', 'Glow', 'The Haunting', 'Narcos']"
   ]
  },
  {
   "cell_type": "code",
   "execution_count": 233,
   "metadata": {
    "slideshow": {
     "slide_type": "-"
    }
   },
   "outputs": [
    {
     "data": {
      "text/plain": [
       "'Narcos'"
      ]
     },
     "execution_count": 233,
     "metadata": {},
     "output_type": "execute_result"
    }
   ],
   "source": [
    "# devuelve el último elemento de la lista y lo extrae\n",
    "netflix_favs.pop()"
   ]
  },
  {
   "cell_type": "code",
   "execution_count": 234,
   "metadata": {
    "slideshow": {
     "slide_type": "-"
    }
   },
   "outputs": [
    {
     "data": {
      "text/plain": [
       "['You', 'Glow', 'The Haunting']"
      ]
     },
     "execution_count": 234,
     "metadata": {},
     "output_type": "execute_result"
    }
   ],
   "source": [
    "netflix_favs"
   ]
  },
  {
   "cell_type": "markdown",
   "metadata": {
    "slideshow": {
     "slide_type": "subslide"
    }
   },
   "source": [
    "No estamos obligados a extraer el último elemento. Podemos extraer aquel elemento que nos interese pasando al método `pop` el índice que corresponda:"
   ]
  },
  {
   "cell_type": "code",
   "execution_count": 235,
   "metadata": {},
   "outputs": [
    {
     "data": {
      "text/plain": [
       "['You', 'Glow', 'The Haunting']"
      ]
     },
     "execution_count": 235,
     "metadata": {},
     "output_type": "execute_result"
    }
   ],
   "source": [
    "netflix_favs"
   ]
  },
  {
   "cell_type": "code",
   "execution_count": 236,
   "metadata": {
    "slideshow": {
     "slide_type": "-"
    }
   },
   "outputs": [
    {
     "data": {
      "text/plain": [
       "'Glow'"
      ]
     },
     "execution_count": 236,
     "metadata": {},
     "output_type": "execute_result"
    }
   ],
   "source": [
    "# devuelve el elemento que ocupa la posición 1 (ojo 0-index)\n",
    "netflix_favs.pop(1)"
   ]
  },
  {
   "cell_type": "code",
   "execution_count": 237,
   "metadata": {
    "slideshow": {
     "slide_type": "-"
    }
   },
   "outputs": [
    {
     "data": {
      "text/plain": [
       "['You', 'The Haunting']"
      ]
     },
     "execution_count": 237,
     "metadata": {},
     "output_type": "execute_result"
    }
   ],
   "source": [
    "netflix_favs"
   ]
  },
  {
   "cell_type": "markdown",
   "metadata": {
    "slideshow": {
     "slide_type": "subslide"
    }
   },
   "source": [
    "# Troceado de listas\n",
    "\n",
    "Dado que las listas son colecciones (secuencias) de elementos, podemos seleccionar *\"trozos\"* de esta colección. Para definir estos trozos hay que especificar el índice de comienzo y el índice de finalización.\n",
    "\n",
    "Supongamos que queremos saber las 3 series favoritas de nuestro *Netflix-favs*:"
   ]
  },
  {
   "cell_type": "code",
   "execution_count": 238,
   "metadata": {
    "slideshow": {
     "slide_type": "-"
    }
   },
   "outputs": [],
   "source": [
    "netflix_favs = ['Orange is the New Black', 'You', 'Dark', 'Glow', 'The Haunting', 'Narcos']"
   ]
  },
  {
   "cell_type": "markdown",
   "metadata": {
    "slideshow": {
     "slide_type": "-"
    }
   },
   "source": [
    "- El índice de comienzo (*inf*) será el 0.\n",
    "- El índice de finalización (*sup*) será el 3, ya que en el troceado llega a (*sup* - 1)"
   ]
  },
  {
   "cell_type": "code",
   "execution_count": 239,
   "metadata": {
    "slideshow": {
     "slide_type": "-"
    }
   },
   "outputs": [
    {
     "data": {
      "text/plain": [
       "['Orange is the New Black', 'You', 'Dark']"
      ]
     },
     "execution_count": 239,
     "metadata": {},
     "output_type": "execute_result"
    }
   ],
   "source": [
    "netflix_favs[0:3]"
   ]
  },
  {
   "cell_type": "code",
   "execution_count": 240,
   "metadata": {
    "slideshow": {
     "slide_type": "-"
    }
   },
   "outputs": [
    {
     "data": {
      "text/plain": [
       "['Orange is the New Black', 'You', 'Dark']"
      ]
     },
     "execution_count": 240,
     "metadata": {},
     "output_type": "execute_result"
    }
   ],
   "source": [
    "# si omitimos el índice de comienzo éste tomará el valor 0\n",
    "netflix_favs[:3]"
   ]
  },
  {
   "cell_type": "markdown",
   "metadata": {
    "slideshow": {
     "slide_type": "subslide"
    }
   },
   "source": [
    "Supongamos que que queremos mostrar las últimas 3 series de nuestro *Netflix-favs*:"
   ]
  },
  {
   "cell_type": "code",
   "execution_count": 241,
   "metadata": {
    "slideshow": {
     "slide_type": "-"
    }
   },
   "outputs": [
    {
     "data": {
      "text/plain": [
       "['Orange is the New Black', 'You', 'Dark', 'Glow', 'The Haunting', 'Narcos']"
      ]
     },
     "execution_count": 241,
     "metadata": {},
     "output_type": "execute_result"
    }
   ],
   "source": [
    "netflix_favs"
   ]
  },
  {
   "cell_type": "code",
   "execution_count": 242,
   "metadata": {
    "slideshow": {
     "slide_type": "-"
    }
   },
   "outputs": [
    {
     "data": {
      "text/plain": [
       "['Glow', 'The Haunting', 'Narcos']"
      ]
     },
     "execution_count": 242,
     "metadata": {},
     "output_type": "execute_result"
    }
   ],
   "source": [
    "netflix_favs[3:6]"
   ]
  },
  {
   "cell_type": "markdown",
   "metadata": {
    "slideshow": {
     "slide_type": "-"
    }
   },
   "source": [
    "Pero es posible que no sepamos cuántas series tenemos en nuestro en nuestra lista, con lo que habrá que buscar alternativas a la sentencia anterior:"
   ]
  },
  {
   "cell_type": "code",
   "execution_count": 243,
   "metadata": {
    "slideshow": {
     "slide_type": "-"
    }
   },
   "outputs": [
    {
     "data": {
      "text/plain": [
       "['Glow', 'The Haunting', 'Narcos']"
      ]
     },
     "execution_count": 243,
     "metadata": {},
     "output_type": "execute_result"
    }
   ],
   "source": [
    "# si omitimos el índice de finalización éste tomará el último índice de la lista\n",
    "netflix_favs[-3:]"
   ]
  },
  {
   "cell_type": "markdown",
   "metadata": {
    "slideshow": {
     "slide_type": "subslide"
    }
   },
   "source": [
    "# Copiando una lista\n",
    "\n",
    "Supongamos que queremos hacer una copia de seguridad de nuestras series favoritas, de tal forma que si borramos algo por accidente, mantengamos el respaldo intacto.\n",
    "\n",
    "Se puede usar la notación de troceado para hacer copias de una lista:"
   ]
  },
  {
   "cell_type": "code",
   "execution_count": 244,
   "metadata": {
    "slideshow": {
     "slide_type": "-"
    }
   },
   "outputs": [
    {
     "data": {
      "text/plain": [
       "['Orange is the New Black', 'You', 'Dark', 'Glow', 'The Haunting', 'Narcos']"
      ]
     },
     "execution_count": 244,
     "metadata": {},
     "output_type": "execute_result"
    }
   ],
   "source": [
    "netflix_favs"
   ]
  },
  {
   "cell_type": "code",
   "execution_count": 245,
   "metadata": {
    "slideshow": {
     "slide_type": "-"
    }
   },
   "outputs": [],
   "source": [
    "# al omitir comienzo y finalización, toma los valores por defecto de primer y último índice\n",
    "backup_netflix_favs = netflix_favs[:]"
   ]
  },
  {
   "cell_type": "code",
   "execution_count": 246,
   "metadata": {
    "slideshow": {
     "slide_type": "-"
    }
   },
   "outputs": [
    {
     "data": {
      "text/plain": [
       "['You', 'Dark', 'Glow', 'The Haunting', 'Narcos']"
      ]
     },
     "execution_count": 246,
     "metadata": {},
     "output_type": "execute_result"
    }
   ],
   "source": [
    "del(backup_netflix_favs[0])\n",
    "backup_netflix_favs"
   ]
  },
  {
   "cell_type": "code",
   "execution_count": 247,
   "metadata": {
    "slideshow": {
     "slide_type": "-"
    }
   },
   "outputs": [
    {
     "data": {
      "text/plain": [
       "['Orange is the New Black', 'You', 'Dark', 'Glow', 'The Haunting', 'Narcos']"
      ]
     },
     "execution_count": 247,
     "metadata": {},
     "output_type": "execute_result"
    }
   ],
   "source": [
    "netflix_favs"
   ]
  },
  {
   "cell_type": "markdown",
   "metadata": {
    "slideshow": {
     "slide_type": "subslide"
    }
   },
   "source": [
    "# Listas numéricas\n",
    "\n",
    "Las listas numéricas no tienen ninguna diferencia con las listas de cadenas de texto que hemos visto hasta ahora, más allá del tipo de los elementos que almacenan.\n",
    "\n",
    "Pero existen ciertas funciones de apoyo que facilitan el manejo de listas numéricas.\n",
    "\n",
    "Supongamos que queremos crear una lista con las posibles **puntuaciones** que asignar a cada serie. En principio podemos pensar en 5 valores. A priori no parece demasiado complicado hacer esta lista de forma manual"
   ]
  },
  {
   "cell_type": "code",
   "execution_count": 260,
   "metadata": {
    "slideshow": {
     "slide_type": "-"
    }
   },
   "outputs": [],
   "source": [
    "ranking_values = [1, 2, 3, 4, 5]"
   ]
  },
  {
   "cell_type": "markdown",
   "metadata": {
    "slideshow": {
     "slide_type": "-"
    }
   },
   "source": [
    "¿Qué pasaría si en vez de 5 valores son 100, 200, o 1 millón?. Hacerlo \"a mano\" sería agotador y muy ineficiente. Aquí entra en juego la función `range` que devuelve un *generador* de valores numéricos en el que es posible indicar *límite inferior*, *límite superior* e incluso el *paso*."
   ]
  },
  {
   "cell_type": "markdown",
   "metadata": {
    "slideshow": {
     "slide_type": "subslide"
    }
   },
   "source": [
    "## `range`\n",
    "\n",
    "Supongamos que queremos ampliar las posibles puntuaciones del 1 al 100:"
   ]
  },
  {
   "cell_type": "code",
   "execution_count": 261,
   "metadata": {
    "slideshow": {
     "slide_type": "-"
    }
   },
   "outputs": [
    {
     "name": "stdout",
     "output_type": "stream",
     "text": [
      "1,2,3,4,5,6,7,8,9,10,11,12,13,14,15,16,17,18,19,20,21,22,23,24,25,26,27,28,29,30,31,32,33,34,35,36,37,38,39,40,41,42,43,44,45,46,47,48,49,50,51,52,53,54,55,56,57,58,59,60,61,62,63,64,65,66,67,68,69,70,71,72,73,74,75,76,77,78,79,80,81,82,83,84,85,86,87,88,89,90,91,92,93,94,95,96,97,98,99,100,"
     ]
    }
   ],
   "source": [
    "for ranking_value in range(1, 101):\n",
    "    print(ranking_value, end=',')"
   ]
  },
  {
   "cell_type": "markdown",
   "metadata": {
    "slideshow": {
     "slide_type": "-"
    }
   },
   "source": [
    "> `range(a, b)` genera una secuencia de valores enteros consecutivos en el intervalo abierto $[a, b)$"
   ]
  },
  {
   "cell_type": "markdown",
   "metadata": {
    "slideshow": {
     "slide_type": "subslide"
    }
   },
   "source": [
    "## Dando pasos"
   ]
  },
  {
   "cell_type": "markdown",
   "metadata": {
    "slideshow": {
     "slide_type": "-"
    }
   },
   "source": [
    "Supongamos ahora que, para que no sea tan lioso, queremos que las puntuaciones de las series vayan de 10 en 10. Para ello podemos usar un tercer parámetro en la función `range` que indica el *paso* o incremento de la variable en cada iteración del bucle:"
   ]
  },
  {
   "cell_type": "code",
   "execution_count": 262,
   "metadata": {
    "slideshow": {
     "slide_type": "-"
    }
   },
   "outputs": [
    {
     "name": "stdout",
     "output_type": "stream",
     "text": [
      "0\n",
      "10\n",
      "20\n",
      "30\n",
      "40\n",
      "50\n",
      "60\n",
      "70\n",
      "80\n",
      "90\n",
      "100\n"
     ]
    }
   ],
   "source": [
    "for raking_value in range(0, 101, 10):\n",
    "    print(raking_value)"
   ]
  },
  {
   "cell_type": "markdown",
   "metadata": {
    "slideshow": {
     "slide_type": "subslide"
    }
   },
   "source": [
    "## Explicitando listas"
   ]
  },
  {
   "cell_type": "markdown",
   "metadata": {
    "slideshow": {
     "slide_type": "-"
    }
   },
   "source": [
    "Cabe la posibilidad de querer *almacenar una lista* con los valores numéricos a partir del generador. Para ello basta con hacer lo siguiente:"
   ]
  },
  {
   "cell_type": "code",
   "execution_count": 263,
   "metadata": {
    "slideshow": {
     "slide_type": "-"
    }
   },
   "outputs": [],
   "source": [
    "ranking_values = list(range(0, 101, 10))"
   ]
  },
  {
   "cell_type": "code",
   "execution_count": 264,
   "metadata": {
    "slideshow": {
     "slide_type": "-"
    }
   },
   "outputs": [
    {
     "data": {
      "text/plain": [
       "[0, 10, 20, 30, 40, 50, 60, 70, 80, 90, 100]"
      ]
     },
     "execution_count": 264,
     "metadata": {},
     "output_type": "execute_result"
    }
   ],
   "source": [
    "ranking_values"
   ]
  },
  {
   "cell_type": "markdown",
   "metadata": {
    "slideshow": {
     "slide_type": "subslide"
    }
   },
   "source": [
    "# Operaciones básicas con listas numéricas\n",
    "\n",
    "Existen tres funciones que se pueden usar fácilmente con listas numéricas: *mínimo*, *máximo* y *suma*. Supongamos una lista de rankings asignados a series de Netflix:"
   ]
  },
  {
   "cell_type": "code",
   "execution_count": 265,
   "metadata": {
    "slideshow": {
     "slide_type": "-"
    }
   },
   "outputs": [],
   "source": [
    "rankings = [47, 78, 24, 97, 35, 44]"
   ]
  },
  {
   "cell_type": "code",
   "execution_count": 266,
   "metadata": {
    "slideshow": {
     "slide_type": "-"
    }
   },
   "outputs": [
    {
     "data": {
      "text/plain": [
       "24"
      ]
     },
     "execution_count": 266,
     "metadata": {},
     "output_type": "execute_result"
    }
   ],
   "source": [
    "min(rankings)"
   ]
  },
  {
   "cell_type": "code",
   "execution_count": 267,
   "metadata": {
    "slideshow": {
     "slide_type": "-"
    }
   },
   "outputs": [
    {
     "data": {
      "text/plain": [
       "97"
      ]
     },
     "execution_count": 267,
     "metadata": {},
     "output_type": "execute_result"
    }
   ],
   "source": [
    "max(rankings)"
   ]
  },
  {
   "cell_type": "code",
   "execution_count": 268,
   "metadata": {
    "slideshow": {
     "slide_type": "-"
    }
   },
   "outputs": [
    {
     "data": {
      "text/plain": [
       "325"
      ]
     },
     "execution_count": 268,
     "metadata": {},
     "output_type": "execute_result"
    }
   ],
   "source": [
    "sum(rankings)"
   ]
  },
  {
   "cell_type": "markdown",
   "metadata": {
    "slideshow": {
     "slide_type": "subslide"
    }
   },
   "source": [
    "# Convirtiendo cadenas de texto en listas\n",
    "\n",
    "Una operación bastante común es convertir una cadena de texto en una lista, o viceversa. Este hecho se justifica, entre otros motivos, porque la *entrada de usuario* suele ser en forma de cadenas de texto, y necesitas un tratamiento posterior para procesarlas.\n",
    "\n",
    "Supongamos que un usuario nos da sus series favoritas en forma de cadena de texto separadas por comas. Lo que queremos es convertir esta cadena de texto en una lista:"
   ]
  },
  {
   "cell_type": "code",
   "execution_count": 366,
   "metadata": {
    "slideshow": {
     "slide_type": "-"
    }
   },
   "outputs": [],
   "source": [
    "favourite_series = 'The Crown,Mad Men,Black Mirror,Inmortals,Noche de lobos,Las chicas del cable'"
   ]
  },
  {
   "cell_type": "markdown",
   "metadata": {
    "slideshow": {
     "slide_type": "-"
    }
   },
   "source": [
    "El método que nos permite *\"cortar\"* o *\"trozear\"* la cadena de texto es `split` al que tenemos que pasarle el carácter (o caracteres) que se usará como patrón:"
   ]
  },
  {
   "cell_type": "code",
   "execution_count": 367,
   "metadata": {
    "scrolled": true
   },
   "outputs": [
    {
     "data": {
      "text/plain": [
       "['The Crown',\n",
       " 'Mad Men',\n",
       " 'Black Mirror',\n",
       " 'Inmortals',\n",
       " 'Noche de lobos',\n",
       " 'Las chicas del cable']"
      ]
     },
     "execution_count": 367,
     "metadata": {},
     "output_type": "execute_result"
    }
   ],
   "source": [
    "favourite_series.split(',')"
   ]
  },
  {
   "cell_type": "markdown",
   "metadata": {
    "slideshow": {
     "slide_type": "subslide"
    }
   },
   "source": [
    "# Convirtiendo listas en cadenas de texto\n",
    "\n",
    "La operación inversa a la que acabamos de ver es convertir una lista en una cadena de texto.\n",
    "\n",
    "Supongamos que partimos de la lista de series favoritas de Netflix y queremos transformarla en una cadena texto:"
   ]
  },
  {
   "cell_type": "code",
   "execution_count": 368,
   "metadata": {
    "slideshow": {
     "slide_type": "-"
    }
   },
   "outputs": [],
   "source": [
    "favourite_series = ['The Crown',\n",
    "                    'Mad Men',\n",
    "                    'Black Mirror',\n",
    "                    'Inmortals',\n",
    "                    'Noche de lobos',\n",
    "                    'Las chicas del cable'\n",
    "                   ]"
   ]
  },
  {
   "cell_type": "markdown",
   "metadata": {
    "slideshow": {
     "slide_type": "-"
    }
   },
   "source": [
    "El método que nos permite realizar esta operación es `join`, y como su nombre indica permite unir cada uno de los elementos de la lista con un carácter (o caracteres) que especifiquemos:"
   ]
  },
  {
   "cell_type": "code",
   "execution_count": 369,
   "metadata": {
    "slideshow": {
     "slide_type": "-"
    }
   },
   "outputs": [
    {
     "data": {
      "text/plain": [
       "'The Crown,Mad Men,Black Mirror,Inmortals,Noche de lobos,Las chicas del cable'"
      ]
     },
     "execution_count": 369,
     "metadata": {},
     "output_type": "execute_result"
    }
   ],
   "source": [
    "','.join(favourite_series)"
   ]
  },
  {
   "cell_type": "markdown",
   "metadata": {
    "slideshow": {
     "slide_type": "subslide"
    }
   },
   "source": [
    "## `TypeError`\n",
    "\n",
    "Supongamos que en vez de tener una lista con nombres de series lo que tenemos es una lista con el número de temporadas de cada serie:"
   ]
  },
  {
   "cell_type": "code",
   "execution_count": 1,
   "metadata": {
    "slideshow": {
     "slide_type": "-"
    }
   },
   "outputs": [],
   "source": [
    "total_seasons = [3, 4, 1, 1, 7, 5, 2, 2]"
   ]
  },
  {
   "cell_type": "code",
   "execution_count": 2,
   "metadata": {
    "scrolled": false
   },
   "outputs": [
    {
     "ename": "TypeError",
     "evalue": "sequence item 0: expected str instance, int found",
     "output_type": "error",
     "traceback": [
      "\u001b[0;31m---------------------------------------------------------------------------\u001b[0m",
      "\u001b[0;31mTypeError\u001b[0m                                 Traceback (most recent call last)",
      "\u001b[0;32m<ipython-input-2-83b4c9b29115>\u001b[0m in \u001b[0;36m<module>\u001b[0;34m\u001b[0m\n\u001b[0;32m----> 1\u001b[0;31m \u001b[0;34m','\u001b[0m\u001b[0;34m.\u001b[0m\u001b[0mjoin\u001b[0m\u001b[0;34m(\u001b[0m\u001b[0mtotal_seasons\u001b[0m\u001b[0;34m)\u001b[0m\u001b[0;34m\u001b[0m\u001b[0m\n\u001b[0m",
      "\u001b[0;31mTypeError\u001b[0m: sequence item 0: expected str instance, int found"
     ]
    }
   ],
   "source": [
    "','.join(total_seasons)"
   ]
  },
  {
   "cell_type": "markdown",
   "metadata": {
    "slideshow": {
     "slide_type": "-"
    }
   },
   "source": [
    "![Error](images/common/error.gif)"
   ]
  },
  {
   "cell_type": "markdown",
   "metadata": {
    "slideshow": {
     "slide_type": "subslide"
    }
   },
   "source": [
    "Este error es muy común y se produce porque, para poder usar `join`, todos los elementos de la lista tienen que ser cadenas de texto. Habría que transformar los elementos de la lista a cadenas de texto:"
   ]
  },
  {
   "cell_type": "code",
   "execution_count": 3,
   "metadata": {
    "slideshow": {
     "slide_type": "-"
    }
   },
   "outputs": [],
   "source": [
    "total_seasons_as_str = []\n",
    "for season in total_seasons:\n",
    "    total_seasons_as_str.append(str(season))"
   ]
  },
  {
   "cell_type": "markdown",
   "metadata": {
    "slideshow": {
     "slide_type": "-"
    }
   },
   "source": [
    "Y ahora sí que ya podríamos usar el método `join`:"
   ]
  },
  {
   "cell_type": "code",
   "execution_count": 4,
   "metadata": {
    "slideshow": {
     "slide_type": "-"
    }
   },
   "outputs": [
    {
     "data": {
      "text/plain": [
       "'3,4,1,1,7,5,2,2'"
      ]
     },
     "execution_count": 4,
     "metadata": {},
     "output_type": "execute_result"
    }
   ],
   "source": [
    "','.join(total_seasons_as_str)"
   ]
  },
  {
   "cell_type": "markdown",
   "metadata": {
    "slideshow": {
     "slide_type": "subslide"
    }
   },
   "source": [
    "# Listas por comprensión\n",
    "\n",
    "Las listas por comprensión son una forma \"lógica\" de generar listas. Pongo \"lógica\" entre paréntesis porque depende del enfoque que se le de puede parecer más o menos complicado. El concepto de listas por comprensión proviene de la definición de los conjuntos por comprensión, en la que se definen las \"características\" que debe tener un conjunto de elementos.\n",
    "\n",
    "![Listas por comprensión](images/data_structures/list_comprehension.png)\n",
    "\n",
    "Normalmente las listas por comprensión ocupan una única línea y permiten generar listas de forma concisa. No es menos cierto que las listas por comprensión pueden ser todo lo complejas que se quieran, pero en la mayoría de los casos se suelen simplificar."
   ]
  },
  {
   "cell_type": "markdown",
   "metadata": {
    "slideshow": {
     "slide_type": "subslide"
    }
   },
   "source": [
    "## Comprensiones numéricas\n",
    "\n",
    "Supongamos que queremos generar una lista con todos los años en los que se han estrenado películas en Netflix. Sabiendo que la creación de Netflix fue un 29 de agosto de 1997, podríamos hacer lo siguiente:"
   ]
  },
  {
   "cell_type": "code",
   "execution_count": 270,
   "metadata": {
    "slideshow": {
     "slide_type": "-"
    }
   },
   "outputs": [],
   "source": [
    "premiere_years = []\n",
    "for year in range(1997, 2020):\n",
    "    premiere_years.append(year)"
   ]
  },
  {
   "cell_type": "markdown",
   "metadata": {
    "slideshow": {
     "slide_type": "-"
    }
   },
   "source": [
    "Mostramos el contenido de nuestra lista:"
   ]
  },
  {
   "cell_type": "code",
   "execution_count": 271,
   "metadata": {
    "slideshow": {
     "slide_type": "-"
    }
   },
   "outputs": [
    {
     "name": "stdout",
     "output_type": "stream",
     "text": [
      "1997,1998,1999,2000,2001,2002,2003,2004,2005,2006,2007,2008,2009,2010,2011,2012,2013,2014,2015,2016,2017,2018,2019,"
     ]
    }
   ],
   "source": [
    "for year in premiere_years:\n",
    "    print(year, end=',')"
   ]
  },
  {
   "cell_type": "markdown",
   "metadata": {
    "slideshow": {
     "slide_type": "subslide"
    }
   },
   "source": [
    "La forma de hacer lo mismo con *listas por comprensión* es la siguiente:"
   ]
  },
  {
   "cell_type": "code",
   "execution_count": 272,
   "metadata": {
    "slideshow": {
     "slide_type": "-"
    }
   },
   "outputs": [],
   "source": [
    "premiere_years = [year for year in range(1997, 2020)]"
   ]
  },
  {
   "cell_type": "markdown",
   "metadata": {
    "slideshow": {
     "slide_type": "-"
    }
   },
   "source": [
    "Mostramos el contenido de nuestra lista:"
   ]
  },
  {
   "cell_type": "code",
   "execution_count": 273,
   "metadata": {
    "scrolled": true,
    "slideshow": {
     "slide_type": "-"
    }
   },
   "outputs": [
    {
     "name": "stdout",
     "output_type": "stream",
     "text": [
      "1997,1998,1999,2000,2001,2002,2003,2004,2005,2006,2007,2008,2009,2010,2011,2012,2013,2014,2015,2016,2017,2018,2019,"
     ]
    }
   ],
   "source": [
    "for year in premiere_years:\n",
    "    print(year, end=',')"
   ]
  },
  {
   "cell_type": "markdown",
   "metadata": {
    "slideshow": {
     "slide_type": "subslide"
    }
   },
   "source": [
    "A priori parece que tampoco hemos ganado tanto. Pero imaginemos ahora que queremos filtrar y sacar únicamente los años de estreno **pares**.\n",
    "\n",
    "En la versión convencional de bucles se haría de la siguiente manera:"
   ]
  },
  {
   "cell_type": "code",
   "execution_count": 274,
   "metadata": {
    "slideshow": {
     "slide_type": "-"
    }
   },
   "outputs": [],
   "source": [
    "premiere_years = []\n",
    "for year in range(1997, 2020):\n",
    "    if year % 2 == 0:\n",
    "        premiere_years.append(year)"
   ]
  },
  {
   "cell_type": "markdown",
   "metadata": {
    "slideshow": {
     "slide_type": "-"
    }
   },
   "source": [
    "Mostramos el contenido de nuestra lista:"
   ]
  },
  {
   "cell_type": "code",
   "execution_count": 275,
   "metadata": {
    "scrolled": true,
    "slideshow": {
     "slide_type": "-"
    }
   },
   "outputs": [
    {
     "name": "stdout",
     "output_type": "stream",
     "text": [
      "1998,2000,2002,2004,2006,2008,2010,2012,2014,2016,2018,"
     ]
    }
   ],
   "source": [
    "for year in premiere_years:\n",
    "    print(year, end=',')"
   ]
  },
  {
   "cell_type": "markdown",
   "metadata": {
    "slideshow": {
     "slide_type": "subslide"
    }
   },
   "source": [
    "Ahora vamos a crear la versión de listas por comprensión donde se puede apreciar la simplificación de código que se produce:"
   ]
  },
  {
   "cell_type": "code",
   "execution_count": 278,
   "metadata": {
    "slideshow": {
     "slide_type": "-"
    }
   },
   "outputs": [],
   "source": [
    "premiere_years = [year for year in range(1997, 2020) if year % 2 == 0]"
   ]
  },
  {
   "cell_type": "markdown",
   "metadata": {
    "slideshow": {
     "slide_type": "-"
    }
   },
   "source": [
    "Mostramos el contenido de nuestra lista:"
   ]
  },
  {
   "cell_type": "code",
   "execution_count": 279,
   "metadata": {
    "scrolled": false,
    "slideshow": {
     "slide_type": "-"
    }
   },
   "outputs": [
    {
     "name": "stdout",
     "output_type": "stream",
     "text": [
      "1998,2000,2002,2004,2006,2008,2010,2012,2014,2016,2018,"
     ]
    }
   ],
   "source": [
    "for year in premiere_years:\n",
    "    print(year, end=',')"
   ]
  },
  {
   "cell_type": "markdown",
   "metadata": {
    "slideshow": {
     "slide_type": "subslide"
    }
   },
   "source": [
    "## Comprensiones no numéricas\n",
    "\n",
    "Supongamos que, dado nuestro *Netflix-favs*, queremos generar una nueva serie sólo con las series que tienen menos de 5 caracteres y además pasarlas a mayúsculas:"
   ]
  },
  {
   "cell_type": "code",
   "execution_count": 282,
   "metadata": {
    "slideshow": {
     "slide_type": "-"
    }
   },
   "outputs": [
    {
     "data": {
      "text/plain": [
       "['Orange is the New Black', 'You', 'Dark', 'Glow', 'The Haunting', 'Narcos']"
      ]
     },
     "execution_count": 282,
     "metadata": {},
     "output_type": "execute_result"
    }
   ],
   "source": [
    "netflix_favs"
   ]
  },
  {
   "cell_type": "code",
   "execution_count": 284,
   "metadata": {
    "slideshow": {
     "slide_type": "-"
    }
   },
   "outputs": [],
   "source": [
    "brief_netflix_favs = [serie.upper() for serie in netflix_favs if len(serie) < 5]"
   ]
  },
  {
   "cell_type": "markdown",
   "metadata": {
    "slideshow": {
     "slide_type": "-"
    }
   },
   "source": [
    "Mostramos el contenido de nuestra lista:"
   ]
  },
  {
   "cell_type": "code",
   "execution_count": 285,
   "metadata": {
    "scrolled": false,
    "slideshow": {
     "slide_type": "-"
    }
   },
   "outputs": [
    {
     "name": "stdout",
     "output_type": "stream",
     "text": [
      "YOU\n",
      "DARK\n",
      "GLOW\n"
     ]
    }
   ],
   "source": [
    "for serie in brief_netflix_favs:\n",
    "    print(serie)"
   ]
  },
  {
   "cell_type": "markdown",
   "metadata": {
    "slideshow": {
     "slide_type": "slide"
    }
   },
   "source": [
    "# Tuplas\n",
    "---"
   ]
  },
  {
   "cell_type": "markdown",
   "metadata": {
    "slideshow": {
     "slide_type": "subslide"
    }
   },
   "source": [
    "## ¿Qué es una tupla?\n",
    "\n",
    "Las tuplas son, básicamente, **listas que no se pueden modificar**. Las listas son bastante dinámicas: pueden crecer añadiendo o insertando elementos, y se pueden acortar borrando elementos. En una lista se puede modificar cualquier elemento. Algunas veces nos interesa este comportamiento, pero otras veces podemos querer asegurarnos de que ningún usuario o bloque de código pueda cambiar una lista. Para ese propósito se definieron las tuplas.\n",
    "\n",
    "![Tuplas](images/data_structures/tuple.png)\n",
    "\n",
    "Técnicamente, las listas son *objetos mutables* y las tuplas son *objetos inmutables*."
   ]
  },
  {
   "cell_type": "markdown",
   "metadata": {
    "slideshow": {
     "slide_type": "subslide"
    }
   },
   "source": [
    "# Definiendo tuplas y accediendo a sus elementos\n",
    "\n",
    "Si partimos de la premisa (no necesariamente cierta) de que los géneros de las series de Netflix son inmutables, podríamos crear una tupla para almacenarlos:"
   ]
  },
  {
   "cell_type": "code",
   "execution_count": 287,
   "metadata": {
    "slideshow": {
     "slide_type": "-"
    }
   },
   "outputs": [],
   "source": [
    "netflix_genres = ('Thrillers', 'Terror', 'Reality TV', 'Documentales',\n",
    "                  'Anime', 'Infantiles y familiares', 'Monólogos de humoristas',\n",
    "                  'Más populares', 'Acción', 'Comedias', 'Dramas',\n",
    "                  'Ciencia ficción y fantásticas', 'Románticas', 'Doramas')"
   ]
  },
  {
   "cell_type": "markdown",
   "metadata": {
    "slideshow": {
     "slide_type": "-"
    }
   },
   "source": [
    "Acceder a los elementos de una tupla es análogo al caso de las listas:"
   ]
  },
  {
   "cell_type": "code",
   "execution_count": 289,
   "metadata": {
    "slideshow": {
     "slide_type": "-"
    }
   },
   "outputs": [
    {
     "name": "stdout",
     "output_type": "stream",
     "text": [
      "Thrillers,Terror,Reality TV,Documentales,Anime,Infantiles y familiares,Monólogos de humoristas,Más populares,Acción,Comedias,Dramas,Ciencia ficción y fantásticas,Románticas,Doramas,"
     ]
    }
   ],
   "source": [
    "for genre in netflix_genres:\n",
    "    print(genre, end=',')"
   ]
  },
  {
   "cell_type": "markdown",
   "metadata": {
    "slideshow": {
     "slide_type": "subslide"
    }
   },
   "source": [
    "## Intento de modificación de una tupla\n",
    "\n",
    "Hasta ahora no hemos visto gran diferencia entre una lista y una tupla, pero fijémonos lo que ocurre si quiero modificar un elemento de una tupla:"
   ]
  },
  {
   "cell_type": "code",
   "execution_count": 290,
   "metadata": {
    "slideshow": {
     "slide_type": "-"
    },
    "tags": [
     "raises-exception"
    ]
   },
   "outputs": [
    {
     "ename": "TypeError",
     "evalue": "'tuple' object does not support item assignment",
     "output_type": "error",
     "traceback": [
      "\u001b[0;31m---------------------------------------------------------------------------\u001b[0m",
      "\u001b[0;31mTypeError\u001b[0m                                 Traceback (most recent call last)",
      "\u001b[0;32m<ipython-input-290-c05d328643c9>\u001b[0m in \u001b[0;36m<module>\u001b[0;34m\u001b[0m\n\u001b[0;32m----> 1\u001b[0;31m \u001b[0mnetflix_genres\u001b[0m\u001b[0;34m[\u001b[0m\u001b[0;36m0\u001b[0m\u001b[0;34m]\u001b[0m \u001b[0;34m=\u001b[0m \u001b[0;34m'Superdrama'\u001b[0m\u001b[0;34m\u001b[0m\u001b[0m\n\u001b[0m",
      "\u001b[0;31mTypeError\u001b[0m: 'tuple' object does not support item assignment"
     ]
    }
   ],
   "source": [
    "netflix_genres[0] = 'Superdrama'"
   ]
  },
  {
   "cell_type": "markdown",
   "metadata": {
    "slideshow": {
     "slide_type": "-"
    }
   },
   "source": [
    "Nos devuelve un `TypeError` e indica que no se puede asignar valores en una tupla."
   ]
  },
  {
   "cell_type": "markdown",
   "metadata": {
    "slideshow": {
     "slide_type": "subslide"
    }
   },
   "source": [
    "## Tuplas de 1 elemento\n",
    "\n",
    "Aunque no es frecuente, se podría dar la situación de tener una tupla con un único elemento. Podemos suponer que, en el año 1997, cuando Netflix empezó su andadura, quizás sólo habían series de *Comedia*. En ese caso tendríamos los siguientes géneros:"
   ]
  },
  {
   "cell_type": "code",
   "execution_count": 291,
   "metadata": {
    "slideshow": {
     "slide_type": "-"
    }
   },
   "outputs": [],
   "source": [
    "netflix_genres = ('Comedia')"
   ]
  },
  {
   "cell_type": "markdown",
   "metadata": {
    "slideshow": {
     "slide_type": "-"
    }
   },
   "source": [
    "Pero resulta que si miramos el tipo de la variable que acabamos de crear nos llevamos una sorpresa. No es una tupla, es una... cadena de texto!"
   ]
  },
  {
   "cell_type": "code",
   "execution_count": 292,
   "metadata": {
    "slideshow": {
     "slide_type": "-"
    }
   },
   "outputs": [
    {
     "data": {
      "text/plain": [
       "str"
      ]
     },
     "execution_count": 292,
     "metadata": {},
     "output_type": "execute_result"
    }
   ],
   "source": [
    "type(netflix_genres)"
   ]
  },
  {
   "cell_type": "markdown",
   "metadata": {
    "slideshow": {
     "slide_type": "-"
    }
   },
   "source": [
    "Y eso es porque las tuplas de 1 elemento tienen que acabar en `,`:"
   ]
  },
  {
   "cell_type": "code",
   "execution_count": 294,
   "metadata": {
    "slideshow": {
     "slide_type": "-"
    }
   },
   "outputs": [
    {
     "data": {
      "text/plain": [
       "tuple"
      ]
     },
     "execution_count": 294,
     "metadata": {},
     "output_type": "execute_result"
    }
   ],
   "source": [
    "netflix_genres = ('Comedia',)\n",
    "type(netflix_genres)"
   ]
  },
  {
   "cell_type": "markdown",
   "metadata": {
    "slideshow": {
     "slide_type": "slide"
    }
   },
   "source": [
    "# Conjuntos\n",
    "---"
   ]
  },
  {
   "cell_type": "markdown",
   "metadata": {
    "slideshow": {
     "slide_type": "subslide"
    }
   },
   "source": [
    "# ¿Qué es un conjunto?\n",
    "\n",
    "Un conjunto es una colección **desordenada** de objetos **únicos**.\n",
    "\n",
    "![Conjuntos](images/data_structures/set.png)\n",
    "\n",
    "Entre las operaciones más comunes destacamos la pertenencia, unicidad, intersección, unión o diferencia."
   ]
  },
  {
   "cell_type": "markdown",
   "metadata": {
    "slideshow": {
     "slide_type": "subslide"
    }
   },
   "source": [
    "# Creación de conjuntos\n",
    "\n",
    "Sabemos que no hay dos personas iguales. Basándonos en esta propiedad podemos crear un conjunto de los protagonistas de una serie determinada:"
   ]
  },
  {
   "cell_type": "code",
   "execution_count": 297,
   "metadata": {
    "slideshow": {
     "slide_type": "-"
    }
   },
   "outputs": [],
   "source": [
    "# reparto de The Crown (es más largo)\n",
    "the_crown_cast = {'Claire Foy', 'Jared Harris', 'Alex Jennings', 'Harry Hadden-Paton', 'Lia Williams'}"
   ]
  },
  {
   "cell_type": "markdown",
   "metadata": {
    "slideshow": {
     "slide_type": "-"
    }
   },
   "source": [
    "Mostramos el contenido de nuestro conjunto:"
   ]
  },
  {
   "cell_type": "code",
   "execution_count": 298,
   "metadata": {
    "slideshow": {
     "slide_type": "-"
    }
   },
   "outputs": [
    {
     "name": "stdout",
     "output_type": "stream",
     "text": [
      "Lia Williams\n",
      "Alex Jennings\n",
      "Jared Harris\n",
      "Harry Hadden-Paton\n",
      "Claire Foy\n"
     ]
    }
   ],
   "source": [
    "for person in the_crown_cast:\n",
    "    print(person)"
   ]
  },
  {
   "cell_type": "markdown",
   "metadata": {
    "slideshow": {
     "slide_type": "subslide"
    }
   },
   "source": [
    "# Creación de conjuntos a partir de listas"
   ]
  },
  {
   "cell_type": "markdown",
   "metadata": {
    "slideshow": {
     "slide_type": "-"
    }
   },
   "source": [
    "Supongamos que tenemos una lista de actrices y actores de distintas series de Netflix. Es probable que repitan como protagonistas en varias series:"
   ]
  },
  {
   "cell_type": "code",
   "execution_count": 295,
   "metadata": {
    "slideshow": {
     "slide_type": "-"
    }
   },
   "outputs": [],
   "source": [
    "cast = ['Wagner Moura', 'Alberto Ammann', 'Kerry Bishé', 'Paulina Gaitán',\n",
    "        'Manolo Cardona', 'Wagner Moura', 'Paulina Gaitán', 'Taliana Vargas']"
   ]
  },
  {
   "cell_type": "markdown",
   "metadata": {
    "slideshow": {
     "slide_type": "-"
    }
   },
   "source": [
    "Mediante la creación de un conjunto utilizando la función `set` podemos eliminar duplicados, por la propiedad de unicidad que cumplen los conjuntos:"
   ]
  },
  {
   "cell_type": "code",
   "execution_count": 296,
   "metadata": {
    "scrolled": true,
    "slideshow": {
     "slide_type": "-"
    }
   },
   "outputs": [
    {
     "data": {
      "text/plain": [
       "{'Alberto Ammann',\n",
       " 'Kerry Bishé',\n",
       " 'Manolo Cardona',\n",
       " 'Paulina Gaitán',\n",
       " 'Taliana Vargas',\n",
       " 'Wagner Moura'}"
      ]
     },
     "execution_count": 296,
     "metadata": {},
     "output_type": "execute_result"
    }
   ],
   "source": [
    "set(cast)"
   ]
  },
  {
   "cell_type": "markdown",
   "metadata": {
    "slideshow": {
     "slide_type": "subslide"
    }
   },
   "source": [
    "# Pertenencia de un elemento a un conjunto\n",
    "\n",
    "Al igual que las listas y las tuplas, los conjuntos también nos permiten comprobar la pertenencia de elementos. Supongamos que queremos verificar si una determinada actriz o actor está en el reparto de la serie *The Crown*:"
   ]
  },
  {
   "cell_type": "code",
   "execution_count": 299,
   "metadata": {
    "slideshow": {
     "slide_type": "-"
    }
   },
   "outputs": [],
   "source": [
    "person = 'Ben Miles'"
   ]
  },
  {
   "cell_type": "code",
   "execution_count": 300,
   "metadata": {
    "slideshow": {
     "slide_type": "-"
    }
   },
   "outputs": [
    {
     "data": {
      "text/plain": [
       "False"
      ]
     },
     "execution_count": 300,
     "metadata": {},
     "output_type": "execute_result"
    }
   ],
   "source": [
    "person in the_crown_cast"
   ]
  },
  {
   "cell_type": "code",
   "execution_count": 301,
   "metadata": {
    "slideshow": {
     "slide_type": "-"
    }
   },
   "outputs": [],
   "source": [
    "person = 'Alex Jennings'"
   ]
  },
  {
   "cell_type": "code",
   "execution_count": 302,
   "metadata": {
    "slideshow": {
     "slide_type": "-"
    }
   },
   "outputs": [
    {
     "data": {
      "text/plain": [
       "True"
      ]
     },
     "execution_count": 302,
     "metadata": {},
     "output_type": "execute_result"
    }
   ],
   "source": [
    "person in the_crown_cast"
   ]
  },
  {
   "cell_type": "markdown",
   "metadata": {
    "slideshow": {
     "slide_type": "subslide"
    }
   },
   "source": [
    "# Operaciones entre conjuntos\n",
    "\n",
    "Dados dos conjuntos se pueden llevar a cabo distintas operaciones. Supongamos que tenemos el reparto de dos series distintas de Netflix como conjuntos y queremos realizar ciertas operaciones entre ellos:"
   ]
  },
  {
   "cell_type": "code",
   "execution_count": 318,
   "metadata": {
    "slideshow": {
     "slide_type": "-"
    }
   },
   "outputs": [
    {
     "data": {
      "text/plain": [
       "{'Bryan Batt',\n",
       " 'Christina Hendricks',\n",
       " 'Jay R. Ferguson',\n",
       " 'Jon Hamm',\n",
       " 'Kiernan Shipka'}"
      ]
     },
     "execution_count": 318,
     "metadata": {},
     "output_type": "execute_result"
    }
   ],
   "source": [
    "madmen_cast = {'Jon Hamm', 'Christina Hendricks', 'Kiernan Shipka', 'Bryan Batt', 'Jay R. Ferguson'}\n",
    "madmen_cast"
   ]
  },
  {
   "cell_type": "code",
   "execution_count": 321,
   "metadata": {},
   "outputs": [
    {
     "data": {
      "text/plain": [
       "{'Andrew Gower',\n",
       " 'Douglas Hodge',\n",
       " 'Jake Davies',\n",
       " 'Jesse Plemons',\n",
       " 'Jon Hamm',\n",
       " 'Maxine Peake'}"
      ]
     },
     "execution_count": 321,
     "metadata": {},
     "output_type": "execute_result"
    }
   ],
   "source": [
    "blackmirror_cast = {'Jesse Plemons', 'Douglas Hodge', 'Andrew Gower', 'Jon Hamm', 'Maxine Peake', 'Jake Davies'}\n",
    "blackmirror_cast"
   ]
  },
  {
   "cell_type": "markdown",
   "metadata": {
    "slideshow": {
     "slide_type": "subslide"
    }
   },
   "source": [
    "## Unión\n",
    "\n",
    "Todos los elementos del primer conjunto junto a todos los elementos del segundo conjunto:"
   ]
  },
  {
   "cell_type": "code",
   "execution_count": 322,
   "metadata": {
    "slideshow": {
     "slide_type": "-"
    }
   },
   "outputs": [
    {
     "data": {
      "text/plain": [
       "{'Andrew Gower',\n",
       " 'Bryan Batt',\n",
       " 'Christina Hendricks',\n",
       " 'Douglas Hodge',\n",
       " 'Jake Davies',\n",
       " 'Jay R. Ferguson',\n",
       " 'Jesse Plemons',\n",
       " 'Jon Hamm',\n",
       " 'Kiernan Shipka',\n",
       " 'Maxine Peake'}"
      ]
     },
     "execution_count": 322,
     "metadata": {},
     "output_type": "execute_result"
    }
   ],
   "source": [
    "madmen_cast | blackmirror_cast"
   ]
  },
  {
   "cell_type": "markdown",
   "metadata": {
    "slideshow": {
     "slide_type": "subslide"
    }
   },
   "source": [
    "## Intersección\n",
    "\n",
    "Elementos que están, a la vez, en ambos conjuntos:"
   ]
  },
  {
   "cell_type": "code",
   "execution_count": 323,
   "metadata": {
    "slideshow": {
     "slide_type": "-"
    }
   },
   "outputs": [
    {
     "data": {
      "text/plain": [
       "{'Jon Hamm'}"
      ]
     },
     "execution_count": 323,
     "metadata": {},
     "output_type": "execute_result"
    }
   ],
   "source": [
    "madmen_cast & blackmirror_cast"
   ]
  },
  {
   "cell_type": "markdown",
   "metadata": {
    "slideshow": {
     "slide_type": "-"
    }
   },
   "source": [
    "## Diferencia\n",
    "\n",
    "Elementos que están en el primer conjunto pero que no están en el segundo conjunto:"
   ]
  },
  {
   "cell_type": "code",
   "execution_count": 324,
   "metadata": {
    "slideshow": {
     "slide_type": "-"
    }
   },
   "outputs": [
    {
     "data": {
      "text/plain": [
       "{'Bryan Batt', 'Christina Hendricks', 'Jay R. Ferguson', 'Kiernan Shipka'}"
      ]
     },
     "execution_count": 324,
     "metadata": {},
     "output_type": "execute_result"
    }
   ],
   "source": [
    "madmen_cast - blackmirror_cast"
   ]
  },
  {
   "cell_type": "markdown",
   "metadata": {
    "slideshow": {
     "slide_type": "slide"
    }
   },
   "source": [
    "# Diccionarios\n",
    "---"
   ]
  },
  {
   "cell_type": "markdown",
   "metadata": {
    "slideshow": {
     "slide_type": "subslide"
    }
   },
   "source": [
    "# ¿Qué es un diccionario?\n",
    "\n",
    "Al igual que un diccionario de la vida real donde disponemos de palabras y definición, los diccionarios en Python son estructuras de datos que permiten vincular información en forma de pares **clave-valor**.\n",
    "\n",
    "![Diccionario](images/data_structures/dict.png)"
   ]
  },
  {
   "cell_type": "markdown",
   "metadata": {
    "slideshow": {
     "slide_type": "subslide"
    }
   },
   "source": [
    "# Sintaxis\n",
    "\n",
    "Supongamos que queremos mejorar nuestro *Netflix-favs* y asociar a cada serie un ránking propio (que será un número entero entre 1 y 5):"
   ]
  },
  {
   "cell_type": "code",
   "execution_count": 325,
   "metadata": {
    "slideshow": {
     "slide_type": "-"
    }
   },
   "outputs": [],
   "source": [
    "netflix_favs = {'Stranger Things': 5,\n",
    "                'Black Mirror': 5,\n",
    "                'The Crown': 4,\n",
    "                'House of Cards': 4,\n",
    "                'Mindhunter': 3,\n",
    "                'Narcos': 5}"
   ]
  },
  {
   "cell_type": "markdown",
   "metadata": {
    "slideshow": {
     "slide_type": "-"
    }
   },
   "source": [
    "Podemos acceder al ránking de cualquier serie de una forma sencilla:"
   ]
  },
  {
   "cell_type": "code",
   "execution_count": 326,
   "metadata": {
    "slideshow": {
     "slide_type": "-"
    }
   },
   "outputs": [
    {
     "data": {
      "text/plain": [
       "4"
      ]
     },
     "execution_count": 326,
     "metadata": {},
     "output_type": "execute_result"
    }
   ],
   "source": [
    "netflix_favs['House of Cards']"
   ]
  },
  {
   "cell_type": "markdown",
   "metadata": {
    "slideshow": {
     "slide_type": "subslide"
    }
   },
   "source": [
    "# `KeyError`\n",
    "\n",
    "Si intentamos acceder a una serie (*clave*) que no existe obtendremos una excepción de tipo *KeyError*:"
   ]
  },
  {
   "cell_type": "code",
   "execution_count": 328,
   "metadata": {
    "scrolled": true,
    "slideshow": {
     "slide_type": "-"
    },
    "tags": [
     "raises-exception"
    ]
   },
   "outputs": [
    {
     "ename": "KeyError",
     "evalue": "'Los Vigilantes de la playa'",
     "output_type": "error",
     "traceback": [
      "\u001b[0;31m---------------------------------------------------------------------------\u001b[0m",
      "\u001b[0;31mKeyError\u001b[0m                                  Traceback (most recent call last)",
      "\u001b[0;32m<ipython-input-328-5f4e52fa0f37>\u001b[0m in \u001b[0;36m<module>\u001b[0;34m\u001b[0m\n\u001b[0;32m----> 1\u001b[0;31m \u001b[0mnetflix_favs\u001b[0m\u001b[0;34m[\u001b[0m\u001b[0;34m'Los Vigilantes de la playa'\u001b[0m\u001b[0;34m]\u001b[0m\u001b[0;34m\u001b[0m\u001b[0m\n\u001b[0m",
      "\u001b[0;31mKeyError\u001b[0m: 'Los Vigilantes de la playa'"
     ]
    }
   ],
   "source": [
    "netflix_favs['Los Vigilantes de la playa']"
   ]
  },
  {
   "cell_type": "markdown",
   "metadata": {
    "slideshow": {
     "slide_type": "-"
    }
   },
   "source": [
    "![Error](images/common/error.gif)"
   ]
  },
  {
   "cell_type": "markdown",
   "metadata": {
    "slideshow": {
     "slide_type": "subslide"
    }
   },
   "source": [
    "# Accediendo a los valores de forma segura"
   ]
  },
  {
   "cell_type": "markdown",
   "metadata": {
    "slideshow": {
     "slide_type": "-"
    }
   },
   "source": [
    "Python provee de un método que nos puede sacar de apuros. El método `get` intenta buscar la clave que le pasamos y si no la encuentra devuelve `None`. También existe la posibilidad de pasarle el valor que queremos que nos devuelva si no encuentra la clave:"
   ]
  },
  {
   "cell_type": "code",
   "execution_count": 332,
   "metadata": {
    "slideshow": {
     "slide_type": "-"
    }
   },
   "outputs": [
    {
     "name": "stdout",
     "output_type": "stream",
     "text": [
      "None\n"
     ]
    }
   ],
   "source": [
    "print(netflix_favs.get('Los Vigilantes de la playa'))"
   ]
  },
  {
   "cell_type": "code",
   "execution_count": 331,
   "metadata": {
    "slideshow": {
     "slide_type": "-"
    }
   },
   "outputs": [
    {
     "data": {
      "text/plain": [
       "0"
      ]
     },
     "execution_count": 331,
     "metadata": {},
     "output_type": "execute_result"
    }
   ],
   "source": [
    "netflix_favs.get('Los Vigilantes de la playa', 0)"
   ]
  },
  {
   "cell_type": "markdown",
   "metadata": {
    "slideshow": {
     "slide_type": "-"
    }
   },
   "source": [
    "En el caso de que la clave exista funciona igual que el acceso mediante corchetes:"
   ]
  },
  {
   "cell_type": "code",
   "execution_count": 336,
   "metadata": {
    "slideshow": {
     "slide_type": "-"
    }
   },
   "outputs": [
    {
     "data": {
      "text/plain": [
       "5"
      ]
     },
     "execution_count": 336,
     "metadata": {},
     "output_type": "execute_result"
    }
   ],
   "source": [
    "netflix_favs.get('Narcos')   # equivalente a netflix_favs['Narcos']"
   ]
  },
  {
   "cell_type": "markdown",
   "metadata": {
    "slideshow": {
     "slide_type": "subslide"
    }
   },
   "source": [
    "# Recorriendo los elementos de un diccionario\n",
    "\n",
    "Queremos recorrer todo nuestro *Netflix-favs* e imprimir las series de una forma diferente:"
   ]
  },
  {
   "cell_type": "code",
   "execution_count": 340,
   "metadata": {
    "slideshow": {
     "slide_type": "-"
    }
   },
   "outputs": [
    {
     "name": "stdout",
     "output_type": "stream",
     "text": [
      "Stranger Things: 5⭐️\n",
      "Black Mirror: 5⭐️\n",
      "The Crown: 4⭐️\n",
      "House of Cards: 4⭐️\n",
      "Mindhunter: 3⭐️\n",
      "Narcos: 5⭐️\n"
     ]
    }
   ],
   "source": [
    "for serie, ranking in netflix_favs.items():\n",
    "    print(f'{serie}: {ranking}⭐️')"
   ]
  },
  {
   "cell_type": "markdown",
   "metadata": {
    "slideshow": {
     "slide_type": "-"
    }
   },
   "source": [
    "> `serie` y `ranking` son nombres de variables. Podemos usar cualquier nombre que queramos respetando una nomenclatura que represente los valores que toman.\n",
    "\n",
    "> A bajo nivel lo que está pasando realmente es que el método `items` devuelve una tupla de dos elementos, que son asignados a las dos variables definidas (*clave-valor*)."
   ]
  },
  {
   "cell_type": "markdown",
   "metadata": {
    "slideshow": {
     "slide_type": "subslide"
    }
   },
   "source": [
    "# Añadiendo elementos a un diccionario\n",
    "\n",
    "Si queremos añadir una nueva serie con su correspondiente ranking a nuestro *Netflix-favs* podemos hacerlo de la siguiente manera. Entre corchetes especificamos la clave y asignamos su valor:"
   ]
  },
  {
   "cell_type": "code",
   "execution_count": 341,
   "metadata": {
    "slideshow": {
     "slide_type": "-"
    }
   },
   "outputs": [],
   "source": [
    "netflix_favs['The Umbrella Academy'] = 3\n",
    "netflix_favs['Russian Doll'] = 2"
   ]
  },
  {
   "cell_type": "code",
   "execution_count": 342,
   "metadata": {
    "scrolled": true,
    "slideshow": {
     "slide_type": "-"
    }
   },
   "outputs": [
    {
     "name": "stdout",
     "output_type": "stream",
     "text": [
      "Stranger Things: 5⭐️\n",
      "Black Mirror: 5⭐️\n",
      "The Crown: 4⭐️\n",
      "House of Cards: 4⭐️\n",
      "Mindhunter: 3⭐️\n",
      "Narcos: 5⭐️\n",
      "The Umbrella Academy: 3⭐️\n",
      "Russian Doll: 2⭐️\n"
     ]
    }
   ],
   "source": [
    "for serie, ranking in netflix_favs.items():\n",
    "    print(f'{serie}: {ranking}⭐️')"
   ]
  },
  {
   "cell_type": "markdown",
   "metadata": {
    "slideshow": {
     "slide_type": "subslide"
    }
   },
   "source": [
    "# Modificando valores de un diccionario\n",
    "\n",
    "Supongamos que hemos vuelto a ver *The Crown* y ya no nos parece tan buena serie. Queremos rebajar su ranking a 3. Para hacerlo podemos acceder a la clave utilizando los corchetes y asignar el nuevo valor:"
   ]
  },
  {
   "cell_type": "code",
   "execution_count": 343,
   "metadata": {},
   "outputs": [],
   "source": [
    "netflix_favs['The Crown'] = 3"
   ]
  },
  {
   "cell_type": "code",
   "execution_count": 344,
   "metadata": {},
   "outputs": [
    {
     "name": "stdout",
     "output_type": "stream",
     "text": [
      "Stranger Things: 5⭐️\n",
      "Black Mirror: 5⭐️\n",
      "The Crown: 3⭐️\n",
      "House of Cards: 4⭐️\n",
      "Mindhunter: 3⭐️\n",
      "Narcos: 5⭐️\n",
      "The Umbrella Academy: 3⭐️\n",
      "Russian Doll: 2⭐️\n"
     ]
    }
   ],
   "source": [
    "for serie, ranking in netflix_favs.items():\n",
    "    print(f'{serie}: {ranking}⭐️')"
   ]
  },
  {
   "cell_type": "markdown",
   "metadata": {
    "slideshow": {
     "slide_type": "subslide"
    }
   },
   "source": [
    "# Borrando elementos de un diccionario\n",
    "\n",
    "La hemos tomado con *The Crown* y ya no sólo nos vale con rebajar su ranking, es que ya no la queremos tener ni dentro de la lista de nuestras series favoritas:\n",
    "\n",
    "## `pop`\n",
    "\n",
    "El uso del método `pop` nos permite borrar una clave y nos devuelve su valor:"
   ]
  },
  {
   "cell_type": "code",
   "execution_count": 345,
   "metadata": {
    "slideshow": {
     "slide_type": "-"
    }
   },
   "outputs": [
    {
     "data": {
      "text/plain": [
       "3"
      ]
     },
     "execution_count": 345,
     "metadata": {},
     "output_type": "execute_result"
    }
   ],
   "source": [
    "netflix_favs.pop('The Crown')"
   ]
  },
  {
   "cell_type": "code",
   "execution_count": 346,
   "metadata": {
    "slideshow": {
     "slide_type": "-"
    }
   },
   "outputs": [
    {
     "data": {
      "text/plain": [
       "{'Stranger Things': 5,\n",
       " 'Black Mirror': 5,\n",
       " 'House of Cards': 4,\n",
       " 'Mindhunter': 3,\n",
       " 'Narcos': 5,\n",
       " 'The Umbrella Academy': 3,\n",
       " 'Russian Doll': 2}"
      ]
     },
     "execution_count": 346,
     "metadata": {},
     "output_type": "execute_result"
    }
   ],
   "source": [
    "netflix_favs"
   ]
  },
  {
   "cell_type": "markdown",
   "metadata": {
    "slideshow": {
     "slide_type": "subslide"
    }
   },
   "source": [
    "## `del`\n",
    "\n",
    "El uso del método `del` nos permite borrar *clave-valor* sin retornar nada. Supongamos que hemos cambiado de opinión sobre *Russian Doll* y que la queremos eliminar de nuestro *Netflix-favs*:"
   ]
  },
  {
   "cell_type": "code",
   "execution_count": 347,
   "metadata": {
    "slideshow": {
     "slide_type": "-"
    }
   },
   "outputs": [],
   "source": [
    "del(netflix_favs['Russian Doll'])"
   ]
  },
  {
   "cell_type": "code",
   "execution_count": 348,
   "metadata": {
    "slideshow": {
     "slide_type": "-"
    }
   },
   "outputs": [
    {
     "data": {
      "text/plain": [
       "{'Stranger Things': 5,\n",
       " 'Black Mirror': 5,\n",
       " 'House of Cards': 4,\n",
       " 'Mindhunter': 3,\n",
       " 'Narcos': 5,\n",
       " 'The Umbrella Academy': 3}"
      ]
     },
     "execution_count": 348,
     "metadata": {},
     "output_type": "execute_result"
    }
   ],
   "source": [
    "netflix_favs"
   ]
  },
  {
   "cell_type": "markdown",
   "metadata": {
    "slideshow": {
     "slide_type": "subslide"
    }
   },
   "source": [
    "# Modificando claves de un diccionario\n",
    "\n",
    "Hasta ahora hemos visto cómo modificar los valores de un diccionario, pero modificar una clave de un diccionario no es sencillo. De hecho hay que buscar un *\"atajo\"* para poder conseguirlo.\n",
    "\n",
    "Supongamos que añadimos una nueva serie pero que incorpora un error ortográfico:"
   ]
  },
  {
   "cell_type": "code",
   "execution_count": 349,
   "metadata": {
    "slideshow": {
     "slide_type": "-"
    }
   },
   "outputs": [],
   "source": [
    "netflix_favs['Mindhunterrr'] = 2"
   ]
  },
  {
   "cell_type": "markdown",
   "metadata": {
    "slideshow": {
     "slide_type": "-"
    }
   },
   "source": [
    "Para corregirlo tenemos que hacer una copia del valor en la nueva clave y borrar la errónea:"
   ]
  },
  {
   "cell_type": "code",
   "execution_count": 350,
   "metadata": {
    "slideshow": {
     "slide_type": "-"
    }
   },
   "outputs": [],
   "source": [
    "netflix_favs['Mindhunter'] = netflix_favs['Mindhunterrr']\n",
    "del(netflix_favs['Mindhunterrr'])"
   ]
  },
  {
   "cell_type": "code",
   "execution_count": 351,
   "metadata": {
    "scrolled": true,
    "slideshow": {
     "slide_type": "-"
    }
   },
   "outputs": [
    {
     "data": {
      "text/plain": [
       "{'Stranger Things': 5,\n",
       " 'Black Mirror': 5,\n",
       " 'House of Cards': 4,\n",
       " 'Mindhunter': 2,\n",
       " 'Narcos': 5,\n",
       " 'The Umbrella Academy': 3}"
      ]
     },
     "execution_count": 351,
     "metadata": {},
     "output_type": "execute_result"
    }
   ],
   "source": [
    "netflix_favs"
   ]
  },
  {
   "cell_type": "markdown",
   "metadata": {
    "slideshow": {
     "slide_type": "subslide"
    }
   },
   "source": [
    "# Recorriendo las claves de un diccionario\n",
    "\n",
    "Anteriormente hemos visto cómo iterar sobre todos los elementos (*clave-valor*) de un diccionario. Pero también podemos recorrer sólo las claves.\n",
    "\n",
    "Supongamos que queremos mostrar sólo los nombres de nuestras series favoritas:"
   ]
  },
  {
   "cell_type": "code",
   "execution_count": 352,
   "metadata": {
    "scrolled": true,
    "slideshow": {
     "slide_type": "-"
    }
   },
   "outputs": [
    {
     "name": "stdout",
     "output_type": "stream",
     "text": [
      "Stranger Things\n",
      "Black Mirror\n",
      "House of Cards\n",
      "Mindhunter\n",
      "Narcos\n",
      "The Umbrella Academy\n"
     ]
    }
   ],
   "source": [
    "for serie in netflix_favs.keys():\n",
    "    print(serie)"
   ]
  },
  {
   "cell_type": "markdown",
   "metadata": {
    "slideshow": {
     "slide_type": "-"
    }
   },
   "source": [
    "El código anterior es equivalente a `for serie in netflix_favs:`, pero uno de los principios del [Zen de Python](https://es.wikipedia.org/wiki/Zen_de_Python) nos dice que *\"Explícito es mejor que implícito\"*."
   ]
  },
  {
   "cell_type": "markdown",
   "metadata": {
    "slideshow": {
     "slide_type": "subslide"
    }
   },
   "source": [
    "## Claves de un diccionario como lista\n",
    "\n",
    "Aunque el método `keys` sea realmente un *generador*, podemos obtener una lista con una conversión explícita:"
   ]
  },
  {
   "cell_type": "code",
   "execution_count": 354,
   "metadata": {},
   "outputs": [
    {
     "data": {
      "text/plain": [
       "['Stranger Things',\n",
       " 'Black Mirror',\n",
       " 'House of Cards',\n",
       " 'Mindhunter',\n",
       " 'Narcos',\n",
       " 'The Umbrella Academy']"
      ]
     },
     "execution_count": 354,
     "metadata": {},
     "output_type": "execute_result"
    }
   ],
   "source": [
    "list(netflix_favs.keys())"
   ]
  },
  {
   "cell_type": "markdown",
   "metadata": {
    "slideshow": {
     "slide_type": "subslide"
    }
   },
   "source": [
    "# Recorriendo los valores de un diccionario\n",
    "\n",
    "De igual modo, existe la posibilidad de recorrer sólo los valores del diccionario.\n",
    "\n",
    "Supongamos que queremos mostrar sólo los rankings de nuestras series favoritas:"
   ]
  },
  {
   "cell_type": "code",
   "execution_count": 353,
   "metadata": {
    "slideshow": {
     "slide_type": "-"
    }
   },
   "outputs": [
    {
     "name": "stdout",
     "output_type": "stream",
     "text": [
      "5\n",
      "5\n",
      "4\n",
      "2\n",
      "5\n",
      "3\n"
     ]
    }
   ],
   "source": [
    "for ranking in netflix_favs.values():\n",
    "    print(ranking)"
   ]
  },
  {
   "cell_type": "markdown",
   "metadata": {
    "slideshow": {
     "slide_type": "subslide"
    }
   },
   "source": [
    "## Valores de un diccionario como lista\n",
    "\n",
    "Aunque el método `values` sea realmente un *generador*, podemos obtener una lista con una conversión explícita:"
   ]
  },
  {
   "cell_type": "code",
   "execution_count": 355,
   "metadata": {
    "slideshow": {
     "slide_type": "-"
    }
   },
   "outputs": [
    {
     "data": {
      "text/plain": [
       "[5, 5, 4, 2, 5, 3]"
      ]
     },
     "execution_count": 355,
     "metadata": {},
     "output_type": "execute_result"
    }
   ],
   "source": [
    "list(netflix_favs.values())"
   ]
  },
  {
   "cell_type": "markdown",
   "metadata": {
    "slideshow": {
     "slide_type": "subslide"
    }
   },
   "source": [
    "# Recorriendo un diccionario en orden\n",
    "\n",
    "Para Python >= 3.7 se garantiza que un diccionario mantiene el orden de inserción de sus claves. Pero más allá de este detalle, podríamos querer recorrer un diccionario en orden alfabético de sus claves.\n",
    "\n",
    "Supongamos que queremos mostrar nuestro *Netflix-favs* con las series ordenadas alfabéticamente:"
   ]
  },
  {
   "cell_type": "code",
   "execution_count": 356,
   "metadata": {
    "slideshow": {
     "slide_type": "-"
    }
   },
   "outputs": [
    {
     "name": "stdout",
     "output_type": "stream",
     "text": [
      "Black Mirror: 5⭐️\n",
      "House of Cards: 4⭐️\n",
      "Mindhunter: 2⭐️\n",
      "Narcos: 5⭐️\n",
      "Stranger Things: 5⭐️\n",
      "The Umbrella Academy: 3⭐️\n"
     ]
    }
   ],
   "source": [
    "for serie in sorted(netflix_favs.keys()):\n",
    "    ranking = netflix_favs[serie]\n",
    "    print(f'{serie}: {ranking}⭐️')"
   ]
  },
  {
   "cell_type": "markdown",
   "metadata": {
    "slideshow": {
     "slide_type": "slide"
    }
   },
   "source": [
    "# Estructuras de datos anidadas\n",
    "---"
   ]
  },
  {
   "cell_type": "markdown",
   "metadata": {
    "slideshow": {
     "slide_type": "subslide"
    }
   },
   "source": [
    "# Anidamiento\n",
    "\n",
    "El anidamiento es un concepto muy potente ya que permite poner una lista o un diccionario dentro de otra lista o diccionario. Son estructuras de datos más complejas pero que permiten, en ciertos casos, modelar mejor la realidad de nuestro problema.\n",
    "\n",
    "![Matroska](images/data_structures/matroska.png)"
   ]
  },
  {
   "cell_type": "markdown",
   "metadata": {
    "slideshow": {
     "slide_type": "subslide"
    }
   },
   "source": [
    "# Diccionario de listas\n",
    "\n",
    "Supongamos que queremos ampliar nuestro *Netflix-favs* de tal forma que no sólo almacenemos un único ranking de la serie completa, sino que guardemos una valoración por cada una de las temporadas de la serie:"
   ]
  },
  {
   "cell_type": "code",
   "execution_count": 357,
   "metadata": {
    "slideshow": {
     "slide_type": "-"
    }
   },
   "outputs": [],
   "source": [
    "netflix_favs = {'Black Mirror': [5, 4, 4, 3],\n",
    "                'Stranger Things': [5, 5],\n",
    "                'The Crown': [4, 5],\n",
    "                'After Life': [3],\n",
    "                'Mad Men': [5, 4, 5, 3, 4, 5, 4]\n",
    "               }"
   ]
  },
  {
   "cell_type": "code",
   "execution_count": 358,
   "metadata": {
    "slideshow": {
     "slide_type": "-"
    }
   },
   "outputs": [
    {
     "data": {
      "text/plain": [
       "{'Black Mirror': [5, 4, 4, 3],\n",
       " 'Stranger Things': [5, 5],\n",
       " 'The Crown': [4, 5],\n",
       " 'After Life': [3],\n",
       " 'Mad Men': [5, 4, 5, 3, 4, 5, 4]}"
      ]
     },
     "execution_count": 358,
     "metadata": {},
     "output_type": "execute_result"
    }
   ],
   "source": [
    "netflix_favs"
   ]
  },
  {
   "cell_type": "markdown",
   "metadata": {
    "slideshow": {
     "slide_type": "subslide"
    }
   },
   "source": [
    "## Recorriendo los elementos de un diccionario de listas\n",
    "\n",
    "Hay que entender que esta estructura de datos, en un primer nivel, es un diccionario. Por lo tanto la forma de recorrerlo es utilizando el método `items`. Sabemos positivamente que las claves son cadenas de texto (nombres de series) pero la diferencia es que los valores del diccionario son listas (rankings). Debido a ello tendremos que usar un bucle para recorrer cada uno de los elementos de los rankings de las temporadas:"
   ]
  },
  {
   "cell_type": "code",
   "execution_count": 377,
   "metadata": {
    "slideshow": {
     "slide_type": "-"
    }
   },
   "outputs": [
    {
     "name": "stdout",
     "output_type": "stream",
     "text": [
      "Black Mirror: 5 4 4 3 \n",
      "Stranger Things: 5 5 \n",
      "The Crown: 4 5 \n",
      "After Life: 3 \n",
      "Mad Men: 5 4 5 3 4 5 4 \n"
     ]
    }
   ],
   "source": [
    "for serie, rankings in netflix_favs.items():\n",
    "    print(serie + ': ', end='')\n",
    "    for ranking in rankings:\n",
    "        print(ranking, end=' ')\n",
    "    print()"
   ]
  },
  {
   "cell_type": "markdown",
   "metadata": {
    "slideshow": {
     "slide_type": "subslide"
    }
   },
   "source": [
    "# Diccionario de diccionarios\n",
    "\n",
    "Supongamos que damos un paso más en nuestro *Netflix-favs* y para cada serie vamos a almacenar los siguientes elementos:\n",
    "\n",
    "- Año de lanzamiento.\n",
    "- Número de temporadas.\n",
    "- Ranking.\n",
    "- Clasificación por edades."
   ]
  },
  {
   "cell_type": "code",
   "execution_count": 378,
   "metadata": {
    "slideshow": {
     "slide_type": "subslide"
    }
   },
   "outputs": [],
   "source": [
    "netflix_favs = {\n",
    "    'Narcos': {\n",
    "        'premiere_year': 2015,\n",
    "        'total_seasons': 3,\n",
    "        'ranking': 5,\n",
    "        'age_limit': '16+'\n",
    "    },\n",
    "    'The Good Place': {\n",
    "        'premiere_year': 2016,\n",
    "        'total_seasons': 3,\n",
    "        'ranking': 4,\n",
    "        'age_limit': '13+'\n",
    "    },\n",
    "    'Sense8': {\n",
    "        'premiere_year': 2015,\n",
    "        'total_seasons': 2,\n",
    "        'ranking': 3,\n",
    "        'age_limit': '16+'\n",
    "    },\n",
    "    'La niebla': {\n",
    "        'premiere_year': 2017,\n",
    "        'total_seasons': 1,\n",
    "        'ranking': 5,\n",
    "        'age_limit': '16+'\n",
    "    },\n",
    "}"
   ]
  },
  {
   "cell_type": "markdown",
   "metadata": {
    "slideshow": {
     "slide_type": "subslide"
    }
   },
   "source": [
    "## Recorriendo los elementos de un diccionario de diccionarios"
   ]
  },
  {
   "cell_type": "code",
   "execution_count": 381,
   "metadata": {
    "scrolled": true,
    "slideshow": {
     "slide_type": "-"
    }
   },
   "outputs": [
    {
     "name": "stdout",
     "output_type": "stream",
     "text": [
      "Narcos\n",
      "\tpremiere_year: 2015\n",
      "\ttotal_seasons: 3\n",
      "\tranking: 5\n",
      "\tage_limit: 16+\n",
      "The Good Place\n",
      "\tpremiere_year: 2016\n",
      "\ttotal_seasons: 3\n",
      "\tranking: 4\n",
      "\tage_limit: 13+\n",
      "Sense8\n",
      "\tpremiere_year: 2015\n",
      "\ttotal_seasons: 2\n",
      "\tranking: 3\n",
      "\tage_limit: 16+\n",
      "La niebla\n",
      "\tpremiere_year: 2017\n",
      "\ttotal_seasons: 1\n",
      "\tranking: 5\n",
      "\tage_limit: 16+\n"
     ]
    }
   ],
   "source": [
    "for serie, features in netflix_favs.items():\n",
    "    print(serie)\n",
    "    for feature, value in features.items():\n",
    "        print(f'\\t{feature}: {value}')"
   ]
  },
  {
   "cell_type": "markdown",
   "metadata": {
    "slideshow": {
     "slide_type": "subslide"
    }
   },
   "source": [
    "# Otras estructuras anidadas\n",
    "\n",
    "Python permite el anidamiento de cualquier estructura. Esto implica que podríamos tener listas de listas, listas de diccionarios, diccionarios de listas de listas, diccionarios de diccionarios de listas, etc.\n",
    "\n",
    "Un detalle muy importante a tener en cuenta es que cada nivel de anidamiento supone mayor complejidad en la estructura de datos. Cuando la profunidad del anidamiento es muy elevada quizás deberíamos plantearnos si existe otra estructura de datos en Python que nos permita representar de manera más adecuada la información que necesitamos.\n",
    "\n",
    "De hecho, uno de los principios del [Zen de Python](https://es.wikipedia.org/wiki/Zen_de_Python) nos dice que *\"Plano es mejor que anidado\"*."
   ]
  }
 ],
 "metadata": {
  "celltoolbar": "Slideshow",
  "kernelspec": {
   "display_name": "Python 3",
   "language": "python",
   "name": "python3"
  },
  "language_info": {
   "codemirror_mode": {
    "name": "ipython",
    "version": 3
   },
   "file_extension": ".py",
   "mimetype": "text/x-python",
   "name": "python",
   "nbconvert_exporter": "python",
   "pygments_lexer": "ipython3",
   "version": "3.7.1"
  }
 },
 "nbformat": 4,
 "nbformat_minor": 2
}
