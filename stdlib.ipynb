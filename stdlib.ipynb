{
 "cells": [
  {
   "cell_type": "markdown",
   "metadata": {
    "slideshow": {
     "slide_type": "slide"
    }
   },
   "source": [
    "![Library](images/stdlib/library.jpg)\n",
    "\n",
    "Photo by [chuttersnap](https://unsplash.com/photos/dERxI-Rna2E?utm_source=unsplash&utm_medium=referral&utm_content=creditCopyText) on [Unsplash](https://unsplash.com/search/photos/structure?utm_source=unsplash&utm_medium=referral&utm_content=creditCopyText)"
   ]
  },
  {
   "cell_type": "markdown",
   "metadata": {
    "slideshow": {
     "slide_type": "slide"
    }
   },
   "source": [
    "# Motivación\n",
    "\n",
    "Como ya comentamos en la introducción, pyhton viene con las \"pilas incluidas\", y es que además de la potencia del propio lenguaje, al utilizar python contamos con un gran surtido de librerías incluidas para realizar una gran diversidad de tareas comunes. Durante este apartado aprenderemos cómo poder utilizar estas librerías y realizaremos ejemplos con algunas de ellas.\n"
   ]
  },
  {
   "cell_type": "markdown",
   "metadata": {
    "slideshow": {
     "slide_type": "slide"
    }
   },
   "source": [
    "# Guión\n",
    "1. Módulos y paquetes en python\n",
    "2. La librería estándar\n",
    "3. Ejemplos de librería standard"
   ]
  },
  {
   "cell_type": "markdown",
   "metadata": {
    "slideshow": {
     "slide_type": "slide"
    }
   },
   "source": [
    "# Módulos y paquetes en python\n",
    "\n",
    "\n",
    "\n",
    "Como ya hemos ido constatando, en python se ha hecho un gran esfuerzo por fomentar los principios de **simplicidad**, **reusabilidad** y **mantenibilidad**, basados sobre todo en la idea de **modularidad**. De esta forma, una aplicación muy compleja, en vez de estar definida en un fichero inmenso, se divide en *bloques lógicos* o módulos que compartan características comunes, que se almacenan en diferentes ficheros (por resumirlo, cada uno de estos *fichero* equivale a un *módulo*, así podríamos tener el módulo de lectura de los datos de entrada, el de procesamiento, etc., de hecho unos módulos podrían estar escritos en python, otros en otros lenguajes, ...). Por ejemplo, si mi aplicación es muy compleja y quiero modularizarla, puede *sacar* del código principal la parte que gestiona la conversión de unidades y pongo todo este código en un fichero llamado `conversiones.py`, de esta forma, acabo de crear mi módulo `conversiones` (el módulo se llama igual que el fichero, eliminando la extensión `.py`).\n",
    "\n",
    "A veces el código es tan extenso o complejo, que tenemos que dividirlo en varios módulos relacionados. En estos casos, todos los módulos se colocan en un mismo directorio que se denomina **paquete**. Un paquete puede tener también otros subdirectorios con más módulos, pudiendo ser la estructura tan compleja como se necesite.\n",
    "\n",
    "De este modo, a medida que nuestra aplicación va creciendo y/o necesitamos incorporar funcionalidades que están en un fichero (módulo) distinto, tenemos que **importar** estos ficheros externos para poder usar sus métodos, constantes, etc.\n",
    "\n",
    "\n",
    "\n",
    "## Importando módulos\n",
    "\n",
    "Python nos proporciona las herramientas para importar estos ficheros, pero tenemos que tener cuidado, quizá haya dos módulos que tengan un método que se llame igual... si esto pasa, ¿cómo sé que método estaré usando al invocarlo? Por este motivo, existen diferentes formas de importar los módulos, y tenemos que saber cuál es la que debemos usar en cada caso.\n",
    "\n",
    "Por ejemplo, supongamos que vamos a usar un método llamado `met1()` que está en un módulo llamado `mod1`. La forma de importar el módulo e invocar el método podría ser:\n",
    "\n",
    "- ### Opción 1: importamos el módulo\n",
    "Esta opción es una de las más seguras. Primero importamos el módulo, así que python sabe que existe. Cuando necesitamos algo de ese módulo, tenemos que indicar siempre que está en `mod1` anteponiendo el nombre del módulo y separándolo por un `.`, así python buscará lo que deseemos allí. Por ejemplo, para acceder a `met1()` dentro del `mod1`, lo haremos escribiendo `mod1.met1()`. Como decíamos, esta opción es bastante segura en el sentido de que si hay varios módulos con el mismo método, etc., como debemos indicar siempre el módulo en cuestión, no habrá ninguna ambigüedad.\n",
    "\n",
    "```python\n",
    "import mod1\n",
    "mod1.met1()\n",
    "```\n",
    "<br />\n",
    "\n",
    "- ###  Opción 2: importamos el método (o constante, función, etc.) concreto\n",
    "En esta opción, de todo el contenido del módulo sólo vamos a importar lo que necesitamos. Por ejemplo, en este caso sólo importaremos el `met1()`. Esta opción simplifica un poco al escribir el código, ya que no tenemos que indicar siempre de qué módulo viene, pero por otro lado puede generar problemas si ya habíamos definido un método con el mismo nombre.\n",
    "\n",
    "```python\n",
    "from mod1 import met1\n",
    "met1()\n",
    "```\n",
    "<br />\n",
    "\n",
    "- ### Opción 3: importamos todo el contenido del módulo\n",
    "Esta opción es la menos recomendable, porque vamos a importar *todo* el contenido del módulo. Normalmente los módulos suelen definir muchas variables, constantes, métodos, etc., así que es difícil hacernos una idea de todo lo que estamos importando, y si va a entrar en conflicto o no con lo que ya teníamos definido en nuestro código o habíamos importado previamente. Por este motivo, esta opción debería evitarse siempre que sea posible.\n",
    "\n",
    "```python\n",
    "from mod1 import *\n",
    "met1()\n",
    "```\n",
    "<br />\n",
    "\n",
    "## Importando módulos dentro de paquetes\n",
    "\n",
    "Para importar un módulo que está dentro de un paquete, sólo tenemos que ir indicando la ruta necesaria hasta llegar al módulo en cuestión. Por ejemplo, si queremos importar el método `destornillador()` que está en el fichero `./tornillo/tuerca/arandela.py`, entonces tendríamos que hacer:\n",
    "\n",
    "```python\n",
    "import tornillo.tuerca.arandela\n",
    "arandela.destornillador()\n",
    "```\n",
    "\n",
    "o bien:\n",
    "\n",
    "```python\n",
    "from tornillo.tuerca.arandela import destornillador\n",
    "destornillador()\n",
    "```\n",
    "\n",
    "\n",
    "## Renombrando al importar (usando *alias*)\n",
    "\n",
    "A veces el nombre de un método, contante, etc. a importar es igual que uno que ya estamos usando. En estos casos, podemos cambiarle el nombre al importarlo. O también puede que nos interese importar con otro nombre simplemente porque es muy largo y queremos simplificarlo.\n",
    "\n",
    "Por ejemplo, imaginemos que queremos importar `calcular_el_valor_medio()` del módulo `operaciones_calculo`. Podríamos cambiar los nombres usando **`as`**:\n",
    "\n",
    "```python\n",
    "import operaciones_calculo as oper \n",
    "oper.calcular_el_valor_medio()\n",
    "```\n",
    "\n",
    "o bien:\n",
    "\n",
    "```python\n",
    "from operaciones_calculo import calcular_el_valor_medio() as calc_medio()\n",
    "calc_medio()\n",
    "```\n",
    "\n",
    "## Módulos precompilados\n",
    "\n",
    "Python, para poder acelerar la ejecución del código, primero *compila* los ficheros `*.py` y crea el equivalente `*.pyc*`, que suele cachear (dentro del directorio `__pycache__`). En principio esto es algo que no debería ni saber ni tener en cuenta, porque cada vez que cambiemos el correspondiente `*.py`, python debería volver a *compilarlo* y actualizar el correspondiente `*.pyc`. \n",
    "\n",
    "Sin embargo, en proyectos muy complejos con muchos ficheros, puede que python tarde un rato en darse cuenta que un fichero ha cambiado, así que aunque hagamos modificaciones en nuestro código, python seguirá usando la versión *compilada* que no contiene estos cambios. Esto hará que los resultados no sean correctos y puede despistarnos un poco porue no sabremos dónde está el error. En estos casos, o bien esperamos hasta que python vuelva a *compilarlo*, o podemos *forzar* esta compilación por comando, o incluso más fácil sería borrar el correspondiente `.pyc` para obligar a python que lo vuelva a generar.\n",
    "\n"
   ]
  },
  {
   "cell_type": "markdown",
   "metadata": {
    "slideshow": {
     "slide_type": "slide"
    }
   },
   "source": [
    "# Librería estándar\n",
    "\n",
    "Además de las varias decenas de funciones incorporadas ([built-in functions](https://docs.python.org/3/library/functions.html)) en python, en la instalación se incluyen cientos de módulos y paquetes que conforman la librería estándar (es decir, no hace falta instalar nada, ya vienen incluidas) y cuyo objetivo es facilitarnos enormemente la programación en un amplio rango de tareas comunes. \n",
    "\n",
    "De este modo, si tenemos que trabajar, por ejemplo, con ficheros en formato `CSV`, podemos importar directamente el módulo `csv` y ya disponemos de múltiples métodos para procesar este tipo de ficheros. Lo mismo, para realizar operaciones matemáticas, trabajar con ficheros comprimidos, con fechas y horas, con protocolos, y un larguísimo etcétera.\n",
    "\n",
    "Aquí resumimos los paquetes que nos pueden ser más útiles, aunque si se está interesado el [listado completo de módulos](https://docs.python.org/3/py-modindex.html) está disponible en la [Python Software Foundation (PSF)](https://www.python.org).\n",
    "\n",
    " - Texto y datos: `re`, `math`, `random`, `statistics`, ...\n",
    " - Ficheros y sistema: `os`, `logging`, `platform`, `sqlite3`, ...\n",
    " - Fechas y tiempo: `datetime`, `calendar`, `time`, ...\n",
    " - Compresión y criptografía: `zlib`, `gzip`, `tarfile`, `hashlib`, ... \n",
    " - Manipulación de diferente formatos de ficheros: `csv`, `xml`, `json`, `html`, ...\n",
    " - Servicios multidioma y multiregión: `locale`, ...\n",
    " - Comunicaciones: `socket`, `ssl`, ...\n",
    " - Protocolos de Internet: `ftp`, `email`, `urllib`, `imap`, `http`, `telnet`, ...\n",
    " - Ejecución recurrente: `threading`, `multiprocessing`, ...\n",
    " - Otros: depurador, ficheros de audio, ...\n",
    " \n",
    "Además de estos módulos estándar, para tareas más especializadas (cálculo científico, procesamiento de imágenes, desarollo web, etc.) existen las [librerías de terceros](third_parties.ipynb), es decir, librerías desarrolladas por otras personas que están a nuestra disposición y que podremos usar en nuestros desarrollos  (¡en la actualidad hay más de 170.000 proyectos!!). \n",
    "\n",
    "Estudiaremos algunas de estas librerías de terceros en el siguiente tema, ahora nos centraremos en conocer algunas de los módulos de la librería estándar que pueden sernos más útiles (recomendamos también realizar el [breve tour de la librería estándar](https://docs.python.org/3/tutorial/stdlib.html) disponible en la [documentación oficial](https://docs.python.org/3/index.html)). \n",
    "\n",
    "En concreto, en este apartado, veremos ejemplos de:\n",
    " - `math`, `random` y `statistics`\n",
    " - `datetime`, `calendar` y `time`\n",
    " - `platform` y `sys`\n",
    " - `os`, `subprocess`, `glob` y `shutil`\n",
    " - `re`, `timeit`, `csv` y `sqlite3`\n",
    " \n",
    "Recuerda que para ver todas las posibilidades que nos ofrece un módulo, además de consultar la documentación, podemos usar lo siguiente:\n",
    "\n",
    "```python\n",
    "import modulo\n",
    "\n",
    "dir(modulo)  # Listado de todos los métodos y atributos de un módulo\n",
    "help(modulo) # Documentación del módulo, incluyendo información de las clases, métodos y sus argumentos, etc. \n",
    "```\n"
   ]
  },
  {
   "cell_type": "markdown",
   "metadata": {
    "slideshow": {
     "slide_type": "slide"
    }
   },
   "source": [
    "## Los módulos [`math`](https://docs.python.org/3/library/math.html#module-math),  [`random`](https://docs.python.org/3/library/random.html#module-random) y [`statistics`](https://docs.python.org/3/library/statistics.html#module-statistics)\n",
    "\n",
    "- El módulo `math` incorpora múltiples **funciones matemáticas**, tales como raíces cuadradas y potencias, operaciones trigonométricas, logarítmicas, exponenciales, redondeos, factoriales, etc. Por ejemplo, para calcular la raíz cuadrada de 15 con dos decimales utilizamos:\n",
    "\n",
    "``` python\n",
    "# Importamos el módulo\n",
    "import math\n",
    "\n",
    "x = 15\n",
    "print(f\"La raíz cuadrada de {x} es {math.sqrt(x):.2f}\")\n",
    "```\n",
    "\n",
    "El módulo matemático `math` trabaja preferentemente con enteros y flotantes, para números complejos se debe utilizar el [módulo `cmath`](https://docs.python.org/3/library/cmath.html#module-cmath). \n",
    "\n",
    "<br />\n",
    "\n",
    "- En muchas ocasiones necesitamos generar **números aleatorios**, para estas tareas el módulo `random` puede ser de mucha ayuda. Este módulo nos permite generar números aleatorios (más bien pseudo-aleatorios, tener en cuenta la `seed`) utilizando distribuciones uniformes y normales (Gausianas), entre otras. Por ejemplo, el método `random()` genera un número pseudo-aleatorio de forma uniforme entre `[0,1)`. Si queremos que nuestro número aleatorio esté entre 10 y 20 tenemos que hacer:\n",
    "\n",
    "``` python\n",
    "# Importamos el módulo\n",
    "from random import random\n",
    "\n",
    "#Límites de mi número aleatorio\n",
    "ini = 10\n",
    "end = 20\n",
    "x = (random() * (end - ini)) + ini\n",
    "print(f\"El número aleatorio es {x}\")\n",
    "```\n",
    "\n",
    "<br />\n",
    "\n",
    "- El módulo `statistics` nos proporciona **operaciones estadísticas** básicas como el cálculo de la media, moda, mediana, desviación estándar, etc. Por ejemplo, para calcular estos valores a partir de los datos almacenados en `x`, usamos el siguiente código:\n",
    "\n",
    "``` python\n",
    "# Importamos el módulo\n",
    "import statistics as stats\n",
    "\n",
    "x = [3, 6, 2, 6, 3, 2, 7, 8, 3, 4]\n",
    "print(f\"La media es {stats.mean(x)}, la moda es {stats.mode(x)}, la mediana es {stats.median(x)} y la desviación estándar {stats.stdev(x)}\") \n",
    "```\n",
    "\n",
    "<br />\n",
    "\n",
    "\n",
    "### 💡 Ejercicios:\n",
    "1. Calcule para `x = 158` el redondeo al alza (cielo) de la siguiente expresión: <br />\n",
    "$y = (seno(x) * ln(x) + (coseno(x) * log(x)))^5$\n",
    "<br />\n",
    "\n",
    "2. Genere 5 números aleatorios entre 20 y 40 y calcule su media, moda, mediana y desviación estándar\n",
    "\n"
   ]
  },
  {
   "cell_type": "code",
   "execution_count": null,
   "metadata": {
    "slideshow": {
     "slide_type": "-"
    }
   },
   "outputs": [],
   "source": []
  },
  {
   "cell_type": "markdown",
   "metadata": {
    "slideshow": {
     "slide_type": "slide"
    }
   },
   "source": [
    "## Los módulos [`datetime`](https://docs.python.org/3/library/datetime.html#module-datetime), [`calendar`](https://docs.python.org/3/library/calendar.html#module-calendar) y [`time`](https://docs.python.org/3/library/time.html#module-time)\n",
    "\n",
    "- El primer módulo `datetime` nos permite **manipular fechas y horas** (pasar de fechas en formato texto a objeto y viceversa, realizar sumas y restas de fechas para obtener el periodo que ha pasado, etc). Por ejemplo, para saber cuántos días han pasado desde el 1 de enero de 2019, podemos hacer lo siguiente:\n",
    "\n",
    "```python\n",
    "# Importamos el módulo\n",
    "from datetime import date\n",
    "\n",
    "# Obtenemos la fecha de hoy\n",
    "hoy = date.today()\n",
    "# Obtenemos la fecha de referencia\n",
    "referencia = date(2019, 1, 1)\n",
    "\n",
    "# Calculamos la diferecia y la mostramos en días\n",
    "diff = hoy - referencia\n",
    "print(f\"El número de días desde {referencia.strftime('%d-%m-%y')} es {diff.days}\")\n",
    "```\n",
    "\n",
    "<br />\n",
    "\n",
    "- El módulo `calendar` nos muestra un **calendario** y nos permite hacer algunas operaciones sobre él. Por ejemplo, para mostrar el calendario de abril de 2019, debemos hacer lo siguiente (si lo deseamos, también podemos configurar el texto para los días de la semana, etc.):\n",
    "\n",
    "```python\n",
    "# Importamos el módulo\n",
    "import calendar\n",
    "\n",
    "cal = calendar.month(2019, 4)\n",
    "print(cal)\n",
    "```\n",
    "\n",
    "<br />\n",
    "\n",
    "- Además de estos dos módulos, existe un tercero denominado [`time`](https://docs.python.org/3/library/time.html#module-time) que proporciona funcionalidades relacionadas con el tiempo específicas a más bajo nivel, como tiempos de acceso y conversiones, etc.\n",
    "\n",
    "\n",
    "### 💡 Ejercicios:\n",
    "1. Calcule los días que han pasado desde que nació\n",
    "2. Muestre el mes y el año en el que nació\n"
   ]
  },
  {
   "cell_type": "code",
   "execution_count": null,
   "metadata": {
    "slideshow": {
     "slide_type": "-"
    }
   },
   "outputs": [],
   "source": []
  },
  {
   "cell_type": "markdown",
   "metadata": {
    "slideshow": {
     "slide_type": "slide"
    }
   },
   "source": [
    "## Los módulos [`platform`](https://docs.python.org/3/library/platform.html#module-platform) y [`sys`](https://docs.python.org/3/library/sys.html#module-sys)\n",
    "\n",
    "- El módulo `platform` nos da **información sobre la plataforma** en la que estamos ejecutando, como su arquitectura, nombre del equipo, procesador, S.O. y su versión, etc. También lo podemos usar para obtener información de la versión de python, entre otras muchas cosas. Por ejemplo, para ver información de nuestra plataforma actual:\n",
    "\n",
    "``` python\n",
    "# Importamos el módulo\n",
    "\n",
    "import platform\n",
    "print('uname:', platform.uname())\n",
    "print('system :', platform.system())\n",
    "print('node :', platform.node())\n",
    "print('release :', platform.release())\n",
    "print('version :', platform.version())\n",
    "print('machine :', platform.machine())\n",
    "print('processor:', platform.processor())\n",
    "print('distribution:', \" \".join(platform.dist()))\n",
    "```\n",
    "\n",
    "<br/>\n",
    "\n",
    "- El módulo `sys` es muy versátil, se usa sobre todo para **interactuar con el intérprete**, como por ejemplo obtener los parámetros usados en línea de comando, información de las excepciones, y muchas otras funciones relacionadas. Por ejemplo, si estuviéramos ejecutando un programa python como un script y quisiéramos abortar la ejecución usaríamos `sys.exit()` y para capturar los parámetros indicados por línea de comando, podríamos usar:\n",
    "\n",
    "``` python\n",
    "# Importamos el módulo\n",
    "from sys import argv\n",
    "\n",
    "print(f\"(Se han indicado {len(argv)} parámetros, con valor {argv}\")\n",
    "```"
   ]
  },
  {
   "cell_type": "code",
   "execution_count": null,
   "metadata": {
    "slideshow": {
     "slide_type": "-"
    }
   },
   "outputs": [],
   "source": []
  }
 ],
 "metadata": {
  "celltoolbar": "Slideshow",
  "kernelspec": {
   "display_name": "Python 3",
   "language": "python",
   "name": "python3"
  },
  "language_info": {
   "codemirror_mode": {
    "name": "ipython",
    "version": 3
   },
   "file_extension": ".py",
   "mimetype": "text/x-python",
   "name": "python",
   "nbconvert_exporter": "python",
   "pygments_lexer": "ipython3",
   "version": "3.7.3"
  }
 },
 "nbformat": 4,
 "nbformat_minor": 2
}
